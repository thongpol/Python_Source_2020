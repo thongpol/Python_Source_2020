{
 "cells": [
  {
   "cell_type": "code",
   "execution_count": 1,
   "metadata": {},
   "outputs": [
    {
     "name": "stdout",
     "output_type": "stream",
     "text": [
      "ผลบวกของ a กับ b = 184\n",
      "แปลงผลลัพธ์จากผลบวก a กับ b เป็นเลขฐานสอง = 0b10111000\n",
      "แปลงผลลัพธ์จากผลบวก a กับ b เป็นเลขฐานแปด = 0o270\n",
      "แปลงผลลัพธ์จากผลบวก a กับ b เป็นเลขฐานสิบหก = 0xb8\n"
     ]
    }
   ],
   "source": [
    "a = 0b1001011; b = 0b1101101 # สร้างตัวแปร a และ b \n",
    "c = a + b # บวกค่าตัวแปร a และ b\n",
    "print (\"ผลบวกของ a กับ b =\", c) # แสดงผลลัพธ์ตัวแปร C\n",
    "print (\"แปลงผลลัพธ์จากผลบวก a กับ b เป็นเลขฐานสอง =\", bin(c)) # แสดงผลลัพธ์\n",
    "print (\"แปลงผลลัพธ์จากผลบวก a กับ b เป็นเลขฐานแปด =\", oct(c))\n",
    "print (\"แปลงผลลัพธ์จากผลบวก a กับ b เป็นเลขฐานสิบหก =\", hex(c))"
   ]
  },
  {
   "cell_type": "code",
   "execution_count": null,
   "metadata": {},
   "outputs": [],
   "source": []
  }
 ],
 "metadata": {
  "kernelspec": {
   "display_name": "Python 3",
   "language": "python",
   "name": "python3"
  },
  "language_info": {
   "codemirror_mode": {
    "name": "ipython",
    "version": 3
   },
   "file_extension": ".py",
   "mimetype": "text/x-python",
   "name": "python",
   "nbconvert_exporter": "python",
   "pygments_lexer": "ipython3",
   "version": "3.7.4"
  }
 },
 "nbformat": 4,
 "nbformat_minor": 2
}
