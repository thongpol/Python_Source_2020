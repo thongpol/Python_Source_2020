{
 "cells": [
  {
   "cell_type": "code",
   "execution_count": 1,
   "metadata": {},
   "outputs": [
    {
     "name": "stdout",
     "output_type": "stream",
     "text": [
      "กรุณาป้อนตัวเลขของคุณ : 50\n",
      "ผลลัพธ์จากการบวก x + num = 110\n"
     ]
    }
   ],
   "source": [
    "num = int(input(\"กรุณาป้อนตัวเลขของคุณ : \")) # รับข้อมูลผ่านคีย์บอร์ดพร้อมแปลงข้อมูล\n",
    "x = \"60\" # สร้างตัวแปร x เป็นชนิดข้อมูลสตริง\n",
    "y = int(x) + num # แปลงค่าตัวแปร x เป็นชนิดข้อมูลจำนวนเต็มแล้วบวกกับค่าตัวแปร num\n",
    "print (\"ผลลัพธ์จากการบวก x + num =\", y)  # แสดงผลลัพธ์จากค่าตัวแปร y"
   ]
  },
  {
   "cell_type": "code",
   "execution_count": null,
   "metadata": {},
   "outputs": [],
   "source": []
  }
 ],
 "metadata": {
  "kernelspec": {
   "display_name": "Python 3",
   "language": "python",
   "name": "python3"
  },
  "language_info": {
   "codemirror_mode": {
    "name": "ipython",
    "version": 3
   },
   "file_extension": ".py",
   "mimetype": "text/x-python",
   "name": "python",
   "nbconvert_exporter": "python",
   "pygments_lexer": "ipython3",
   "version": "3.7.4"
  }
 },
 "nbformat": 4,
 "nbformat_minor": 2
}
