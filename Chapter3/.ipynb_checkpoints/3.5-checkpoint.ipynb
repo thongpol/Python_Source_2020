{
 "cells": [
  {
   "cell_type": "code",
   "execution_count": 1,
   "metadata": {},
   "outputs": [
    {
     "name": "stdout",
     "output_type": "stream",
     "text": [
      "แปลงเลขฐานสองเป็นฐานสิบ = 2521\n",
      "แปลงเลขฐานแปดเป็นฐานสิบ = 3371\n",
      "แปลงเลขฐานสิบหกเป็นฐานสิบ = 44097\n"
     ]
    }
   ],
   "source": [
    "a = 0b100111011001 # สร้างตัวแปร a เก็บชนิดข้อมูลจำนวนเต็มเลขฐานสอง \n",
    "b = 0o6453 # สร้างตัวแปร b เก็บชนิดข้อมูลจำนวนเต็มเลขฐานแปด\n",
    "c = 0xAC41 # สร้างตัวแปร c เก็บชนิดข้อมูลจำนวนเต็มเลขฐานสิบหก\n",
    "print (\"แปลงเลขฐานสองเป็นฐานสิบ =\", int(a)) # แสดงผลลัพธ์การแปลงเลขฐาน\n",
    "print (\"แปลงเลขฐานแปดเป็นฐานสิบ =\", int(b)) \n",
    "print (\"แปลงเลขฐานสิบหกเป็นฐานสิบ =\", int(c)) "
   ]
  },
  {
   "cell_type": "code",
   "execution_count": null,
   "metadata": {},
   "outputs": [],
   "source": []
  }
 ],
 "metadata": {
  "kernelspec": {
   "display_name": "Python 3",
   "language": "python",
   "name": "python3"
  },
  "language_info": {
   "codemirror_mode": {
    "name": "ipython",
    "version": 3
   },
   "file_extension": ".py",
   "mimetype": "text/x-python",
   "name": "python",
   "nbconvert_exporter": "python",
   "pygments_lexer": "ipython3",
   "version": "3.7.4"
  }
 },
 "nbformat": 4,
 "nbformat_minor": 2
}
