{
 "cells": [
  {
   "cell_type": "code",
   "execution_count": 1,
   "metadata": {},
   "outputs": [
    {
     "name": "stdout",
     "output_type": "stream",
     "text": [
      "ค่าข้อมูลในตัวแปร num1 = 50\n",
      "ค่าข้อมูลในตัวแปร num2 = 100\n",
      "ค่าข้อมูลในตัวแปร msg =  The world is beautiful.\n"
     ]
    }
   ],
   "source": [
    "num1, num2, msg = 50, 100, \"The world is beautiful.\" \n",
    "print (\"ค่าข้อมูลในตัวแปร num1 =\", num1)\n",
    "print (\"ค่าข้อมูลในตัวแปร num2 =\", num2)\n",
    "print (\"ค่าข้อมูลในตัวแปร msg = \", msg)"
   ]
  },
  {
   "cell_type": "code",
   "execution_count": null,
   "metadata": {},
   "outputs": [],
   "source": []
  }
 ],
 "metadata": {
  "kernelspec": {
   "display_name": "Python 3",
   "language": "python",
   "name": "python3"
  },
  "language_info": {
   "codemirror_mode": {
    "name": "ipython",
    "version": 3
   },
   "file_extension": ".py",
   "mimetype": "text/x-python",
   "name": "python",
   "nbconvert_exporter": "python",
   "pygments_lexer": "ipython3",
   "version": "3.7.4"
  }
 },
 "nbformat": 4,
 "nbformat_minor": 2
}
