{
 "cells": [
  {
   "cell_type": "code",
   "execution_count": 1,
   "metadata": {},
   "outputs": [
    {
     "name": "stdout",
     "output_type": "stream",
     "text": [
      "ค่าข้อมูลในตัวแปร x = 200\n",
      "ค่าข้อมูลในตัวแปร y = 300\n",
      "ค่าข้อมูลในตัวแปร msg =  Python programming language\n"
     ]
    }
   ],
   "source": [
    "x = 200; y = 300; msg = \"Python programming language\"\n",
    "print (\"ค่าข้อมูลในตัวแปร x =\", x)\n",
    "print (\"ค่าข้อมูลในตัวแปร y =\", y)\n",
    "print (\"ค่าข้อมูลในตัวแปร msg = \", msg)"
   ]
  },
  {
   "cell_type": "code",
   "execution_count": null,
   "metadata": {},
   "outputs": [],
   "source": []
  }
 ],
 "metadata": {
  "kernelspec": {
   "display_name": "Python 3",
   "language": "python",
   "name": "python3"
  },
  "language_info": {
   "codemirror_mode": {
    "name": "ipython",
    "version": 3
   },
   "file_extension": ".py",
   "mimetype": "text/x-python",
   "name": "python",
   "nbconvert_exporter": "python",
   "pygments_lexer": "ipython3",
   "version": "3.7.4"
  }
 },
 "nbformat": 4,
 "nbformat_minor": 2
}
