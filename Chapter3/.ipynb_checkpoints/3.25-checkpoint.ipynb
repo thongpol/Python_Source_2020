{
 "cells": [
  {
   "cell_type": "code",
   "execution_count": 1,
   "metadata": {},
   "outputs": [
    {
     "name": "stdout",
     "output_type": "stream",
     "text": [
      "ผลลัพธ์ของ a == b and c < b คือ  False\n",
      "ผลลัพธ์ของ b > a or a > c คือ  False\n",
      "ผลลัพธ์ของ not (b > a or c < a) คือ  True\n"
     ]
    }
   ],
   "source": [
    "a = 5; b = 3; c = 15 # สร้างตัวแปร a, b และ c เป็นชนิดข้อมูลจำนวนเต็ม\n",
    "\n",
    "# ใช้ตัวดำเนินการเปรียบเทียบและตรรกศาสตร์เปรียบเทียบค่าตัวแปร\n",
    "x = a == b and c < b\n",
    "y = b > a or a > c   \n",
    "z = not (b > a or c < a)\n",
    "\n",
    "print(\"ผลลัพธ์ของ a == b and c < b คือ \", x) # แสดงผลลัพธ์ตัวแปร x\n",
    "print(\"ผลลัพธ์ของ b > a or a > c คือ \", y)   # แสดงผลลัพธ์ตัวแปร y\n",
    "print(\"ผลลัพธ์ของ not (b > a or c < a) คือ \", z) # แสดงผลลัพธ์ตัวแปร z"
   ]
  },
  {
   "cell_type": "code",
   "execution_count": null,
   "metadata": {},
   "outputs": [],
   "source": []
  }
 ],
 "metadata": {
  "kernelspec": {
   "display_name": "Python 3",
   "language": "python",
   "name": "python3"
  },
  "language_info": {
   "codemirror_mode": {
    "name": "ipython",
    "version": 3
   },
   "file_extension": ".py",
   "mimetype": "text/x-python",
   "name": "python",
   "nbconvert_exporter": "python",
   "pygments_lexer": "ipython3",
   "version": "3.7.4"
  }
 },
 "nbformat": 4,
 "nbformat_minor": 2
}
