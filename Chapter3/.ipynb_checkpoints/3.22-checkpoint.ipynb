{
 "cells": [
  {
   "cell_type": "code",
   "execution_count": 1,
   "metadata": {},
   "outputs": [
    {
     "name": "stdout",
     "output_type": "stream",
     "text": [
      "ผลลัพธ์ของ a + b คือ  8\n",
      "ผลลัพธ์ของ a / b คือ  1.6666666666666667\n",
      "ผลลัพธ์ของ a ** b คือ  125\n",
      "ผลลัพธ์ของ a // b คือ  1\n"
     ]
    }
   ],
   "source": [
    "a = 5; b = 3; # สร้างตัวแปร a และ b เป็นชนิดข้อมูลจำนวนเต็ม\n",
    "c = a + b # บวกค่าตัวแปร a กับ b\n",
    "d = a / b # หารค่าตัวแปร a กับ b\n",
    "x = a ** b # ยกกำลังค่าตัวแปร a กับ b\n",
    "z = a // b # หารเอาเศษค่าตัวแปร a กับ b\n",
    "print(\"ผลลัพธ์ของ a + b คือ \", c) # แสดงผลลัพธ์ที่ค่าตัวแปร c\n",
    "print(\"ผลลัพธ์ของ a / b คือ \", d) # แสดงผลลัพธ์ค่าตัวแปร d\n",
    "print(\"ผลลัพธ์ของ a ** b คือ \", x) # แสดงผลลัพธ์ค่าตัวแปร x\n",
    "print(\"ผลลัพธ์ของ a // b คือ \", z) # แสดงผลลัพธ์ค่าตัวแปร z"
   ]
  },
  {
   "cell_type": "code",
   "execution_count": null,
   "metadata": {},
   "outputs": [],
   "source": []
  }
 ],
 "metadata": {
  "kernelspec": {
   "display_name": "Python 3",
   "language": "python",
   "name": "python3"
  },
  "language_info": {
   "codemirror_mode": {
    "name": "ipython",
    "version": 3
   },
   "file_extension": ".py",
   "mimetype": "text/x-python",
   "name": "python",
   "nbconvert_exporter": "python",
   "pygments_lexer": "ipython3",
   "version": "3.7.4"
  }
 },
 "nbformat": 4,
 "nbformat_minor": 2
}
