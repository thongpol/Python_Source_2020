{
 "cells": [
  {
   "cell_type": "code",
   "execution_count": 1,
   "metadata": {},
   "outputs": [
    {
     "name": "stdout",
     "output_type": "stream",
     "text": [
      "a เท่ากับ c หรือไม่ = False\n",
      "d น้อยกว่าหรือเท่ากับ a หรือไม่ = True\n",
      "b มากกว่าหรือเท่ากับ c หรือไม่ = False\n",
      "b เท่ากับ d และน้อยกว่า a หรือไม่ = True\n"
     ]
    }
   ],
   "source": [
    "a = 5; b = 3; c = 15; d = 3 # สร้างตัวแปร a, b, c และ d เป็นชนิดข้อมูลจำนวนเต็ม\n",
    "w = (a == c) # เปรียบเทียบค่าตัวแปร a เท่ากับ c หรือไม่\n",
    "x = (d <= a) # เปรียบเทียบค่าตัวแปร d น้อยกว่าหรือเท่ากับ a หรือไม่\n",
    "y = (b >= c) # เปรียบเทียบค่าตัวแปร b มากกว่าหรือเท่ากับ c หรือไม่\n",
    "z = (b == d < a) # เปรียบเทียบค่าตัวแปร b เท่ากับ d และน้อยกว่า a หรือไม่\n",
    "print(\"a เท่ากับ c หรือไม่ =\", w) # แสดงผลลัพธ์ที่เก็บอยู่ในค่าตัวแปร w\n",
    "print(\"d น้อยกว่าหรือเท่ากับ a หรือไม่ =\", x) # แสดงผลลัพธ์ค่าตัวแปร x\n",
    "print(\"b มากกว่าหรือเท่ากับ c หรือไม่ =\", y) # แสดงผลลัพธ์ค่าตัวแปร y\n",
    "print(\"b เท่ากับ d และน้อยกว่า a หรือไม่ =\", z) # แสดงผลลัพธ์ค่าตัวแปร z"
   ]
  },
  {
   "cell_type": "code",
   "execution_count": null,
   "metadata": {},
   "outputs": [],
   "source": []
  }
 ],
 "metadata": {
  "kernelspec": {
   "display_name": "Python 3",
   "language": "python",
   "name": "python3"
  },
  "language_info": {
   "codemirror_mode": {
    "name": "ipython",
    "version": 3
   },
   "file_extension": ".py",
   "mimetype": "text/x-python",
   "name": "python",
   "nbconvert_exporter": "python",
   "pygments_lexer": "ipython3",
   "version": "3.7.4"
  }
 },
 "nbformat": 4,
 "nbformat_minor": 2
}
