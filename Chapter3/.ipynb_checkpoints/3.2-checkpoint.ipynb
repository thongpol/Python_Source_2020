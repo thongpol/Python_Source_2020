{
 "cells": [
  {
   "cell_type": "code",
   "execution_count": 1,
   "metadata": {},
   "outputs": [
    {
     "name": "stdout",
     "output_type": "stream",
     "text": [
      "พื้นที่วงกลม = 78.5\n",
      "เส้นรอบวงกลม = 62.800000000000004\n"
     ]
    }
   ],
   "source": [
    "pi = 3.14 # สร้างตัวแปร pi เป็นค่าคงที่\n",
    "area = pi * 5 * 5 # คูณค่าตัวแปร pi เพื่อหาพื้นที่วงกลม\n",
    "circumference = 2 * pi * 10 # คูณค่าตัวแปร pi เพื่อหาเส้นรอบวงกลม\n",
    "print (\"พื้นที่วงกลม =\", area) # แสดงผลลัพธ์ตัวแปร area\n",
    "print (\"เส้นรอบวงกลม =\", circumference) # แสดงผลลัพธ์ตัวแปร circumference"
   ]
  },
  {
   "cell_type": "code",
   "execution_count": null,
   "metadata": {},
   "outputs": [],
   "source": []
  }
 ],
 "metadata": {
  "kernelspec": {
   "display_name": "Python 3",
   "language": "python",
   "name": "python3"
  },
  "language_info": {
   "codemirror_mode": {
    "name": "ipython",
    "version": 3
   },
   "file_extension": ".py",
   "mimetype": "text/x-python",
   "name": "python",
   "nbconvert_exporter": "python",
   "pygments_lexer": "ipython3",
   "version": "3.7.4"
  }
 },
 "nbformat": 4,
 "nbformat_minor": 2
}
