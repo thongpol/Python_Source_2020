{
 "cells": [
  {
   "cell_type": "code",
   "execution_count": 1,
   "metadata": {},
   "outputs": [
    {
     "name": "stdout",
     "output_type": "stream",
     "text": [
      "ค่าตัวเลขจำนวนทิศนิยมของ b =  2.51147\n",
      "ผลลัพธ์จากการลบ a กับ b = -2.170019\n",
      "ผลลัพธ์จากการบวก x กับ y = 28.0\n"
     ]
    }
   ],
   "source": [
    "a = 341.451E-3; b = 251.147e-2; x = 10.5; y = 17.5 # สร้างตัวแปร float\n",
    "d = a – b # ลบแล้วเก็บผลลัพธ์ไว้ที่ตัวแปร d\n",
    "z = x + y # ลบแล้วเก็บผลลัพธ์ไว้ที่ตัวแปร z\n",
    "print (\"ค่าตัวเลขจำนวนทศนิยมของ b = \", b) # แสดงผลลัพธ์ตัวแปร b\n",
    "print (\"ผลลัพธ์จาการลบ a กับ b =\", d)    # แสดงผลลัพธ์ตัวแปร d\n",
    "print (\"ผลลัพธ์จากการบวก x กับ y =\", z) # แสดงผลลัพธ์ตัวแปร z"
   ]
  },
  {
   "cell_type": "code",
   "execution_count": null,
   "metadata": {},
   "outputs": [],
   "source": []
  }
 ],
 "metadata": {
  "kernelspec": {
   "display_name": "Python 3",
   "language": "python",
   "name": "python3"
  },
  "language_info": {
   "codemirror_mode": {
    "name": "ipython",
    "version": 3
   },
   "file_extension": ".py",
   "mimetype": "text/x-python",
   "name": "python",
   "nbconvert_exporter": "python",
   "pygments_lexer": "ipython3",
   "version": "3.7.4"
  }
 },
 "nbformat": 4,
 "nbformat_minor": 2
}
