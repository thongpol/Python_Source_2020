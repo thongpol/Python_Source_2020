{
 "cells": [
  {
   "cell_type": "code",
   "execution_count": 1,
   "metadata": {},
   "outputs": [
    {
     "name": "stdout",
     "output_type": "stream",
     "text": [
      "ปากกา สี = สีแดง\n",
      "โทรศัพท์ ยี่ห้อ = Samsung\n"
     ]
    }
   ],
   "source": [
    "ปากกา = \"สีแดง\" # ประกาศตัวแปรชื่อ “ปากกา” เป็นชนิดข้อมูลสตริง\n",
    "โทรศัพท์ = \"Samsung\" # ประกาศตัวแปรชื่อ “โทรศัพท์” เป็นชนิดข้อมูลสตริง\n",
    "print (\"ปากกา สี =\", ปากกา) # แสดงผลข้อมูลจากค่าตัวแปร “ปากกา”\n",
    "print (\"โทรศัพท์ ยี่ห้อ =\", โทรศัพท์) # แสดงผลข้อมูลจากค่าตัวแปร “โทรศัพท์”"
   ]
  },
  {
   "cell_type": "code",
   "execution_count": null,
   "metadata": {},
   "outputs": [],
   "source": []
  }
 ],
 "metadata": {
  "kernelspec": {
   "display_name": "Python 3",
   "language": "python",
   "name": "python3"
  },
  "language_info": {
   "codemirror_mode": {
    "name": "ipython",
    "version": 3
   },
   "file_extension": ".py",
   "mimetype": "text/x-python",
   "name": "python",
   "nbconvert_exporter": "python",
   "pygments_lexer": "ipython3",
   "version": "3.7.4"
  }
 },
 "nbformat": 4,
 "nbformat_minor": 2
}
