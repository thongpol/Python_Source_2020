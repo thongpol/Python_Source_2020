{
 "cells": [
  {
   "cell_type": "code",
   "execution_count": 1,
   "metadata": {},
   "outputs": [
    {
     "name": "stdout",
     "output_type": "stream",
     "text": [
      "แปลงเลขฐานสิบเป็นฐานสอง = 0b1101001011101\n",
      "แปลงเลขฐานสิบเป็นฐานแปด = 0o15135\n",
      "แปลงเลขฐานสิบเป็นฐานสิบหก = 0x1a5d\n"
     ]
    }
   ],
   "source": [
    "x = 6749 # สร้างตัวแปร x เก็บชนิดข้อมูลจำนวนเต็มเลขฐานสิบ\n",
    "print (\"แปลงเลขฐานสิบเป็นฐานสอง =\", bin(x)) # ฟังก์ชันแปลงเลขฐานสิบเป็นฐานสอง\n",
    "print (\"แปลงเลขฐานสิบเป็นฐานแปด =\", oct(x)) # ฟังก์ชันแปลงเลขฐานสิบเป็นฐานแปด\n",
    "print (\"แปลงเลขฐานสิบเป็นฐานสิบหก =\", hex(x)) # ฟังก์ชันแปลงเลขฐานสิบเป็นฐานสิบหก"
   ]
  },
  {
   "cell_type": "code",
   "execution_count": null,
   "metadata": {},
   "outputs": [],
   "source": []
  }
 ],
 "metadata": {
  "kernelspec": {
   "display_name": "Python 3",
   "language": "python",
   "name": "python3"
  },
  "language_info": {
   "codemirror_mode": {
    "name": "ipython",
    "version": 3
   },
   "file_extension": ".py",
   "mimetype": "text/x-python",
   "name": "python",
   "nbconvert_exporter": "python",
   "pygments_lexer": "ipython3",
   "version": "3.7.4"
  }
 },
 "nbformat": 4,
 "nbformat_minor": 2
}
