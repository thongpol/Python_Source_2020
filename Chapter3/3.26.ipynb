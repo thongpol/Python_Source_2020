{
 "cells": [
  {
   "cell_type": "code",
   "execution_count": 1,
   "metadata": {},
   "outputs": [
    {
     "name": "stdout",
     "output_type": "stream",
     "text": [
      "ผลลัพธ์ของ a & b คือ  1\n",
      "ผลลัพธ์ของ a ^ c คือ  0\n",
      "ผลลัพธ์ของ a | b คือ  7\n"
     ]
    }
   ],
   "source": [
    "a = 5; b = 3; c= 5\n",
    "x = a & b\n",
    "y = a ^ c\n",
    "z = a | b\n",
    "print(\"ผลลัพธ์ของ a & b คือ \", x)\n",
    "print(\"ผลลัพธ์ของ a ^ c คือ \", y)\n",
    "print(\"ผลลัพธ์ของ a | b คือ \", z)"
   ]
  },
  {
   "cell_type": "code",
   "execution_count": null,
   "metadata": {},
   "outputs": [],
   "source": []
  }
 ],
 "metadata": {
  "kernelspec": {
   "display_name": "Python 3",
   "language": "python",
   "name": "python3"
  },
  "language_info": {
   "codemirror_mode": {
    "name": "ipython",
    "version": 3
   },
   "file_extension": ".py",
   "mimetype": "text/x-python",
   "name": "python",
   "nbconvert_exporter": "python",
   "pygments_lexer": "ipython3",
   "version": "3.7.4"
  }
 },
 "nbformat": 4,
 "nbformat_minor": 2
}
