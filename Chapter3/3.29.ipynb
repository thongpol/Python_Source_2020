{
 "cells": [
  {
   "cell_type": "code",
   "execution_count": 1,
   "metadata": {},
   "outputs": [
    {
     "name": "stdout",
     "output_type": "stream",
     "text": [
      "ผลลัพธ์ของ x = 10 + 4 / 2 * 9 คือ  28.0\n",
      "ผลลัพธ์ของ ((10 + 4) / 2) * 9 คือ  63.0\n"
     ]
    }
   ],
   "source": [
    "x = 10 + 4 / 2 * 9\n",
    "y = ((10 + 4) / 2) * 9\n",
    "print (\"ผลลัพธ์ของ x = 10 + 4 / 2 * 9 คือ \", x)\n",
    "print (\"ผลลัพธ์ของ ((10 + 4) / 2) * 9 คือ \", y)"
   ]
  },
  {
   "cell_type": "code",
   "execution_count": null,
   "metadata": {},
   "outputs": [],
   "source": []
  }
 ],
 "metadata": {
  "kernelspec": {
   "display_name": "Python 3",
   "language": "python",
   "name": "python3"
  },
  "language_info": {
   "codemirror_mode": {
    "name": "ipython",
    "version": 3
   },
   "file_extension": ".py",
   "mimetype": "text/x-python",
   "name": "python",
   "nbconvert_exporter": "python",
   "pygments_lexer": "ipython3",
   "version": "3.7.4"
  }
 },
 "nbformat": 4,
 "nbformat_minor": 2
}
