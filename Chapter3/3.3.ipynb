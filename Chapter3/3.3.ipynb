{
 "cells": [
  {
   "cell_type": "code",
   "execution_count": 1,
   "metadata": {},
   "outputs": [
    {
     "name": "stdout",
     "output_type": "stream",
     "text": [
      "ผลบวกของ num1 กับ num2 = 560702968357581301893\n",
      "ผลลบของ num1 กับ num2 = 531567989532665610535\n"
     ]
    }
   ],
   "source": [
    "num1 = 546135478945123456214 # สร้างตัวแปร num1 เป็นชนิดข้อมูลจำนวนเต็ม\n",
    "num2 = 14567489412457845679  # สร้างตัวแปร num2 เป็นชนิดข้อมูลจำนวนเต็ม\n",
    "print(\"ผลบวกของ num1 กับ num2 =\", num1 + num2) # แสดงผลลัพธ์ num1 + num2\n",
    "print(\"ผลลบของ num1 กับ num2 =\", num1 - num2)  # แสดงผลลัพธ์ num1 - num2"
   ]
  },
  {
   "cell_type": "code",
   "execution_count": null,
   "metadata": {},
   "outputs": [],
   "source": []
  }
 ],
 "metadata": {
  "kernelspec": {
   "display_name": "Python 3",
   "language": "python",
   "name": "python3"
  },
  "language_info": {
   "codemirror_mode": {
    "name": "ipython",
    "version": 3
   },
   "file_extension": ".py",
   "mimetype": "text/x-python",
   "name": "python",
   "nbconvert_exporter": "python",
   "pygments_lexer": "ipython3",
   "version": "3.7.4"
  }
 },
 "nbformat": 4,
 "nbformat_minor": 2
}
