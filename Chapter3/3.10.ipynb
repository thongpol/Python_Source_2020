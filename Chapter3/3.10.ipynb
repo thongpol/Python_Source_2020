{
 "cells": [
  {
   "cell_type": "code",
   "execution_count": 1,
   "metadata": {},
   "outputs": [
    {
     "name": "stdout",
     "output_type": "stream",
     "text": [
      "ผลการเปรียบเทียบ x == y หรือไม่ = False\n",
      "ผลการเปรียบเทียบ y == z หรือไม่ = False\n",
      "ผลการเปรียบเทียบ z == True หรือไม่ = True\n"
     ]
    }
   ],
   "source": [
    "x = True; y = False; z = True # สร้างตัวแปรเป็นชนิดข้อมูลตรรกะ\n",
    "print(\"ผลการเปรียบเทียบ x == y หรือไม่ =\", x == y) # แสดงผลการเปรียบเทียบ x, y\n",
    "print(\"ผลการเปรียบเทียบ y == z หรือไม่ =\", y == z) # แสดงผลการเปรียบเทียบ y, z\n",
    "print(\"ผลการเปรียบเทียบ z == True หรือไม่ =\", z == True) # แสดงผลการเปรียบเทียบ z"
   ]
  },
  {
   "cell_type": "code",
   "execution_count": null,
   "metadata": {},
   "outputs": [],
   "source": []
  }
 ],
 "metadata": {
  "kernelspec": {
   "display_name": "Python 3",
   "language": "python",
   "name": "python3"
  },
  "language_info": {
   "codemirror_mode": {
    "name": "ipython",
    "version": 3
   },
   "file_extension": ".py",
   "mimetype": "text/x-python",
   "name": "python",
   "nbconvert_exporter": "python",
   "pygments_lexer": "ipython3",
   "version": "3.7.4"
  }
 },
 "nbformat": 4,
 "nbformat_minor": 2
}
