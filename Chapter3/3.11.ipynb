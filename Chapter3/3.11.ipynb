{
 "cells": [
  {
   "cell_type": "code",
   "execution_count": 2,
   "metadata": {},
   "outputs": [
    {
     "name": "stdout",
     "output_type": "stream",
     "text": [
      "มีข้อมูลอยู่ในตัวแปร b หรือไม่ = False\n",
      "มีข้อมูลอยู่ในตัวแปร c หรือไม่ = True\n",
      "มีข้อมูลอยู่ในตัวแปร n หรือไม่ = False\n",
      "มีข้อมูลอยู่ในตัวแปร num2 หรือไม่ = True\n"
     ]
    }
   ],
   "source": [
    "b = \"\"; c = \" \"; n = None; num = 245\n",
    "print (\"มีข้อมูลอยู่ในตัวแปร b หรือไม่ =\", bool(b)) # แสดงผลตรวจสอบค่าตัวแปร b\n",
    "print (\"มีข้อมูลอยู่ในตัวแปร c หรือไม่ =\", bool(c)) # แสดงผลตรวจสอบค่าตัวแปร c\n",
    "print (\"มีข้อมูลอยู่ในตัวแปร n หรือไม่ =\", bool(n)) # แสดงผลตรวจสอบค่าตัวแปร n\n",
    "print (\"มีข้อมูลอยู่ในตัวแปร num หรือไม่ =\", bool(num)) # แสดงผลตรวจสอบค่าตัวแปร num"
   ]
  },
  {
   "cell_type": "code",
   "execution_count": null,
   "metadata": {},
   "outputs": [],
   "source": []
  }
 ],
 "metadata": {
  "kernelspec": {
   "display_name": "Python 3",
   "language": "python",
   "name": "python3"
  },
  "language_info": {
   "codemirror_mode": {
    "name": "ipython",
    "version": 3
   },
   "file_extension": ".py",
   "mimetype": "text/x-python",
   "name": "python",
   "nbconvert_exporter": "python",
   "pygments_lexer": "ipython3",
   "version": "3.7.4"
  }
 },
 "nbformat": 4,
 "nbformat_minor": 2
}
