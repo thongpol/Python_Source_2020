{
 "cells": [
  {
   "cell_type": "code",
   "execution_count": 1,
   "metadata": {},
   "outputs": [
    {
     "name": "stdout",
     "output_type": "stream",
     "text": [
      "ผลลัพธ์การแปลงชนิดข้อมูลจำนวนเชิงซ้อนจากตัวแปร a = (20+5j)\n",
      "ผลลัพธ์การแปลงชนิดข้อมูลจำนวนเชิงซ้อนจากตัวแปร b = (15+6j)\n",
      "ค่าจำนวนจริงของ c = 20.0 และค่าจินตภาพของ c =  5.0\n",
      "ผลลัพธ์การแปลงเครื่องหมายตัวดำเนินการของตัวแปร y = (15-6j)\n",
      "ผลลัพธ์การสร้างคู่อันดับจากตัวแปร z = (7+5j)\n"
     ]
    }
   ],
   "source": [
    "a = \"20+5j\"; b = \"15+6j\"; # สร้างตัวแปร a และ b เป็นชนิดข้อมูลสตริง\n",
    "x = complex(a) # แปลงค่าตัวแปร a เป็นชนิดข้อมูลเชิงซ้อน\n",
    "y = complex(b) # แปลงค่าตัวแปร b เป็นชนิดข้อมูลเชิงซ้อน\n",
    "z = complex(7,5) # แปลงค่าจำนวนจริงเป็นชนิดข้อมูลเชิงซ้อน\n",
    "print (\"ผลลัพธ์การแปลงชนิดข้อมูลจำนวนเชิงซ้อนจากตัวแปร a =\", x) # แสดงผลลัพธ์ x\n",
    "print (\"ผลลัพธ์การแปลงชนิดข้อมูลจำนวนเชิงซ้อนจากตัวแปร b =\", y) # แสดงผลลัพธ์ y\n",
    "print (\"ค่าจำนวนจริงของ c =\", x.real, \"และค่าจินตภาพของ c = \", x.imag) \n",
    "        # แสดงผลลัพธ์การใช้ฟังก์ชัน real() และ imag()\n",
    "print (\"ผลลัพธ์การแปลงเครื่องหมายตัวดำเนินการของตัวแปร y =\", y.conjugate()) \n",
    "        # แสดงผลลัพธ์การใช้ฟังก์ชัน conjugate ()\n",
    "print (\"ผลลัพธ์การสร้างคู่อันดับจากตัวแปร z =\", z) # แสดงผลลัพธ์ z"
   ]
  },
  {
   "cell_type": "code",
   "execution_count": null,
   "metadata": {},
   "outputs": [],
   "source": []
  }
 ],
 "metadata": {
  "kernelspec": {
   "display_name": "Python 3",
   "language": "python",
   "name": "python3"
  },
  "language_info": {
   "codemirror_mode": {
    "name": "ipython",
    "version": 3
   },
   "file_extension": ".py",
   "mimetype": "text/x-python",
   "name": "python",
   "nbconvert_exporter": "python",
   "pygments_lexer": "ipython3",
   "version": "3.7.4"
  }
 },
 "nbformat": 4,
 "nbformat_minor": 2
}
