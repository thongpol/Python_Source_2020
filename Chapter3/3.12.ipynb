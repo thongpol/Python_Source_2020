{
 "cells": [
  {
   "cell_type": "code",
   "execution_count": 2,
   "metadata": {},
   "outputs": [
    {
     "name": "stdout",
     "output_type": "stream",
     "text": [
      "Python Programming\n",
      "Language\n",
      "Python Programming Language\n"
     ]
    }
   ],
   "source": [
    "msg = \"Python Programming\" # สร้างตัวแปร msg เก็บชนิดข้อมูลสตริงใช้เครื่องหมาย “”\n",
    "msg1 = 'Language' # สร้างตัวแปร msg1 เก็บชนิดข้อมูลสตริงใช้เครื่องหมาย ‘’\n",
    "print(msg)  # แสดงผลลัพธ์ตัวแปร msg\n",
    "print(msg1) # แสดงผลลัพธ์ตัวแปร msg1\n",
    "print(msg, msg1) # แสดงผลลัพธ์ตัวแปร msg และ msg1"
   ]
  },
  {
   "cell_type": "code",
   "execution_count": null,
   "metadata": {},
   "outputs": [],
   "source": []
  }
 ],
 "metadata": {
  "kernelspec": {
   "display_name": "Python 3",
   "language": "python",
   "name": "python3"
  },
  "language_info": {
   "codemirror_mode": {
    "name": "ipython",
    "version": 3
   },
   "file_extension": ".py",
   "mimetype": "text/x-python",
   "name": "python",
   "nbconvert_exporter": "python",
   "pygments_lexer": "ipython3",
   "version": "3.7.4"
  }
 },
 "nbformat": 4,
 "nbformat_minor": 2
}
