{
 "cells": [
  {
   "cell_type": "code",
   "execution_count": 1,
   "metadata": {},
   "outputs": [
    {
     "name": "stdout",
     "output_type": "stream",
     "text": [
      "ผลลัพธ์จากการแปลงค่าจากตัวแปร a = 56.0\n",
      "ผลลัพธ์จากการแปลงค่าจากตัวแปร b = 55.0\n",
      "ผลลัพธ์จากการบวกค่าของ a + b = 111.0\n",
      "ผลลัพธ์จากการคูณค่าของ a * b = 3080.0\n"
     ]
    }
   ],
   "source": [
    "a = 56; b = 55 # สร้างตัวแปร a และ b เก็บชนิดข้อมูลจำนวนเต็ม\n",
    "print (\"ผลลัพธ์จากการแปลงค่าจากตัวแปร a =\", float(a)) # แปลงค่า a เป็น float\n",
    "print (\"ผลลัพธ์จากการแปลงค่าจากตัวแปร b =\", float(b)) # แปลงค่า b เป็น float\n",
    "print (\"ผลลัพธ์จากการบวกค่าของ a + b =\", float(a) + float(b)) # นำ a + b\n",
    "print (\"ผลลัพธ์จากการคูณค่าของ a * b =\", float(a) * float(b)) # นำ a * b"
   ]
  },
  {
   "cell_type": "code",
   "execution_count": null,
   "metadata": {},
   "outputs": [],
   "source": []
  }
 ],
 "metadata": {
  "kernelspec": {
   "display_name": "Python 3",
   "language": "python",
   "name": "python3"
  },
  "language_info": {
   "codemirror_mode": {
    "name": "ipython",
    "version": 3
   },
   "file_extension": ".py",
   "mimetype": "text/x-python",
   "name": "python",
   "nbconvert_exporter": "python",
   "pygments_lexer": "ipython3",
   "version": "3.7.4"
  }
 },
 "nbformat": 4,
 "nbformat_minor": 2
}
