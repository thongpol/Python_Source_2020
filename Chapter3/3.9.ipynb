{
 "cells": [
  {
   "cell_type": "code",
   "execution_count": 1,
   "metadata": {},
   "outputs": [
    {
     "name": "stdout",
     "output_type": "stream",
     "text": [
      "ผลลัพธ์จากการบวกระหว่าง a + b = (35+11j)\n",
      "ผลลัพธ์จากการคูณระหว่าง b * c = (132-69j)\n"
     ]
    }
   ],
   "source": [
    "a = 20 + 5j; b = 15 + 6j; c = 6 - 7j # สร้างตัวแปรเป็นชนิดข้อมูลเชิงซ้อน\n",
    "x = a + b # บวกค่าตัวแปร a กับ b\n",
    "y = b * c # คูณค่าตัวแปร b กับ c\n",
    "print (\"ผลลัพธ์จากการบวกระหว่าง a + b =\", x) # แสดงผลลัพธ์ตัวแปร x\n",
    "print (\"ผลลัพธ์จากการคูณระหว่าง b * c =\", y) # แสดงผลลัพธ์ตัวแปร y"
   ]
  },
  {
   "cell_type": "code",
   "execution_count": null,
   "metadata": {},
   "outputs": [],
   "source": []
  }
 ],
 "metadata": {
  "kernelspec": {
   "display_name": "Python 3",
   "language": "python",
   "name": "python3"
  },
  "language_info": {
   "codemirror_mode": {
    "name": "ipython",
    "version": 3
   },
   "file_extension": ".py",
   "mimetype": "text/x-python",
   "name": "python",
   "nbconvert_exporter": "python",
   "pygments_lexer": "ipython3",
   "version": "3.7.4"
  }
 },
 "nbformat": 4,
 "nbformat_minor": 2
}
