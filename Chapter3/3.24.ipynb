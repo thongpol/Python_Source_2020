{
 "cells": [
  {
   "cell_type": "code",
   "execution_count": 10,
   "metadata": {},
   "outputs": [
    {
     "name": "stdout",
     "output_type": "stream",
     "text": [
      "ผลลัพธ์ a = b : 5\n",
      "ผลลัพธ์ c += b : 9\n",
      "ผลลัพธ์ d -= b : 1\n"
     ]
    }
   ],
   "source": [
    "a = 9; b = 5; c =4; d = 6 # สร้างตัวแปร a, b, c และ d เป็นชนิดข้อมูลจำนวนเต็ม\n",
    "a = b  # กำหนดค่าตัวแปร a เท่ากับ b\n",
    "c += b # บวกแล้วเก็บผลลัพธ์ไว้ที่ตัวแปร c\n",
    "d -= b # ลบแล้วเก็บผลลัพธ์ไว้ที่ตัวแปร b\n",
    "print(\"ผลลัพธ์ a = b :\", a) # แสดงผลลัพธ์ค่าตัวแปร a\n",
    "print(\"ผลลัพธ์ c += b :\", c) # แสดงผลลัพธ์ค่าตัวแปร c\n",
    "print(\"ผลลัพธ์ d -= b :\", d) # แสดงผลลัพธ์ค่าตัวแปร d"
   ]
  },
  {
   "cell_type": "code",
   "execution_count": null,
   "metadata": {},
   "outputs": [],
   "source": []
  }
 ],
 "metadata": {
  "kernelspec": {
   "display_name": "Python 3",
   "language": "python",
   "name": "python3"
  },
  "language_info": {
   "codemirror_mode": {
    "name": "ipython",
    "version": 3
   },
   "file_extension": ".py",
   "mimetype": "text/x-python",
   "name": "python",
   "nbconvert_exporter": "python",
   "pygments_lexer": "ipython3",
   "version": "3.7.4"
  }
 },
 "nbformat": 4,
 "nbformat_minor": 2
}
