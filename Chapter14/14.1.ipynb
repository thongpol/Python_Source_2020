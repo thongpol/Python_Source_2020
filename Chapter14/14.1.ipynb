{
 "cells": [
  {
   "cell_type": "code",
   "execution_count": 3,
   "metadata": {},
   "outputs": [
    {
     "name": "stdout",
     "output_type": "stream",
     "text": [
      "พื้นที่สี่เหลี่ยมผืนผ้า 15\n",
      "พื้นที่สามเหลี่ยม 21.0\n",
      "พื้นที่วงกลม 78.5\n"
     ]
    }
   ],
   "source": [
    "class Calculate_area: # ประกาศสร้างคลาส Calculate_area\n",
    "    def cal_rectangle(self, w, h): # เมธอดแบบอินสแตนซ์\n",
    "        return w * h\n",
    "    @classmethod\n",
    "    def cal_triangle(cls, b, h): # เมธอดแบบคลาส\n",
    "        return 0.5 * b * h\n",
    "    @staticmethod # เมธอดแบบสแตติก\n",
    "    def cal_circle(r):\n",
    "        return 3.14 * r * r\n",
    "\n",
    "cal = Calculate_area() # สร้างอินสแตนซ์คลาส Calculate_area\n",
    "cal_rec = cal.cal_rectangle(3, 5) \n",
    "    # เรียกใช้เมธอด cal_rectangle พร้อมส่งค่าอาร์กิวเมนต์\n",
    "cal_tri = Calculate_area.cal_triangle(6, 7)\n",
    "    # เรียกใช้เมธอด cal_triangle พร้อมส่งค่าอาร์กิวเมนต์\n",
    "cal_circle = Calculate_area.cal_circle(5)  \n",
    "    # เรียกใช้เมธอด cal_circle พร้อมส่งค่าอาร์กิวเมนต์\n",
    "print(\"พื้นที่สี่เหลี่ยมผืนผ้า\", cal_rec) # แสดงผลการคำนวณของเมธอด cal_rectangle\n",
    "print(\"พื้นที่สามเหลี่ยม\", cal_tri) # แสดงผลการคำนวณของเมธอด cal_triangle\n",
    "print(\"พื้นที่วงกลม\", cal_circle) # แสดงผลการคำนวณของเมธอด cal_circle"
   ]
  },
  {
   "cell_type": "code",
   "execution_count": null,
   "metadata": {},
   "outputs": [],
   "source": []
  },
  {
   "cell_type": "code",
   "execution_count": null,
   "metadata": {},
   "outputs": [],
   "source": []
  }
 ],
 "metadata": {
  "kernelspec": {
   "display_name": "Python 3",
   "language": "python",
   "name": "python3"
  },
  "language_info": {
   "codemirror_mode": {
    "name": "ipython",
    "version": 3
   },
   "file_extension": ".py",
   "mimetype": "text/x-python",
   "name": "python",
   "nbconvert_exporter": "python",
   "pygments_lexer": "ipython3",
   "version": "3.7.4"
  }
 },
 "nbformat": 4,
 "nbformat_minor": 2
}
