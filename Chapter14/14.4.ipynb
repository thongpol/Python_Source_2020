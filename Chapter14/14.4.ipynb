{
 "cells": [
  {
   "cell_type": "code",
   "execution_count": 3,
   "metadata": {},
   "outputs": [
    {
     "name": "stdout",
     "output_type": "stream",
     "text": [
      "('Linux Programming', 25, 30, 350, '444-454-799-0', 300)\n",
      "('Database Programming', 30, 35, 377, '444-333-222-0', 350)\n"
     ]
    }
   ],
   "source": [
    "class Book: # ประกาศสร้างคลาส Book\n",
    "    def __init__(self): # สร้างคอนสตรัคเตอร์แบบไม่มีการรับค่าพารามิเตอร์\n",
    "        self.name = \"\"\n",
    "        self.wide = \"\"\n",
    "        self.high = \"\"\n",
    "        self.page = \"\"\n",
    "        self.isbn = \"\"\n",
    "        self.price = \"\"\n",
    "\n",
    "    def showBook(self): # สร้างเมธอดแบบอินสแตนซ์คืนค่ากลับแสดงผลข้อมูล\n",
    "        return self.name, self.wide, self.high, self.page, self.isbn, self.price  \n",
    "\n",
    "b_Linux = Book() # สร้างอินสแตนซ์ b_Linux\n",
    "# กำหนดค่าข้อมูลให้แต่ละแอตทริบิวต์ของอินสแตนซ์ b_IT\n",
    "b_Linux.name = \"Linux Programming\"\n",
    "b_Linux.wide = 25\n",
    "b_Linux.high = 30\n",
    "b_Linux.page = 350\n",
    "b_Linux.isbn = \"444-454-799-0\"\n",
    "b_Linux.price = 300\n",
    "\n",
    "b_DB = Book() # สร้างอินสแตนซ์ b_DB\n",
    "# กำหนดค่าข้อมูลให้แต่ละแอตทริบิวต์ของอินสแตนซ์ b_DB\n",
    "b_DB.name = \"Database Programming\"\n",
    "b_DB.wide = 30\n",
    "b_DB.high = 35\n",
    "b_DB.page = 377\n",
    "b_DB.isbn = \"444-333-222-0\"\n",
    "b_DB.price = 350\n",
    "# แสดงผลลัพธ์จากอินสแตนซ์ b_Linux และ b_DB โดยอ้างอิงถึงเมดธอดแบบอินสแตนซ์ showBook()\n",
    "print(b_Linux.showBook())\n",
    "print(b_DB.showBook())"
   ]
  },
  {
   "cell_type": "code",
   "execution_count": null,
   "metadata": {},
   "outputs": [],
   "source": []
  }
 ],
 "metadata": {
  "kernelspec": {
   "display_name": "Python 3",
   "language": "python",
   "name": "python3"
  },
  "language_info": {
   "codemirror_mode": {
    "name": "ipython",
    "version": 3
   },
   "file_extension": ".py",
   "mimetype": "text/x-python",
   "name": "python",
   "nbconvert_exporter": "python",
   "pygments_lexer": "ipython3",
   "version": "3.7.4"
  }
 },
 "nbformat": 4,
 "nbformat_minor": 2
}
