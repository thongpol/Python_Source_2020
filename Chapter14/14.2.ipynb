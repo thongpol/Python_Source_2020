{
 "cells": [
  {
   "cell_type": "code",
   "execution_count": 1,
   "metadata": {},
   "outputs": [
    {
     "name": "stdout",
     "output_type": "stream",
     "text": [
      "('Python Programming', 25, 30, 250, '123-456-789-0')\n",
      "('Web Programming', 25, 30, 250, '777-000-222-0')\n"
     ]
    }
   ],
   "source": [
    "class Book: # ประกาศสร้างคลาส Book\n",
    "    # สร้างแอตทริบิวต์ของคลาสและกำหนดค่า\n",
    "    wide = 25\n",
    "    high = 30\n",
    "    page = 250\n",
    "    def showBook(self, name, isbn): # สร้างเมธอดแบบอินสแตนซ์และพารามิเตอร์รับค่า\n",
    "        self.isbn = isbn\n",
    "        self.name = name\n",
    "        return self.name, Book.wide, Book.high, Book.page, self.isbn    \n",
    "        # คืนค่ากลับแสดงผลลัพธ์\n",
    "\n",
    "b_IT = Book() # สร้างอินสแตนซ์จากคลาส Book() \n",
    "b_Web = Book() # สร้างอินสแตนซ์จากคลาส Book()\n",
    "\n",
    "# แสดงผลลัพธ์จากการสร้างอินสแตนส์อ้างอิงไปยังเมธอด showBook() พร้อมทั้งส่งค่าอากิวเมนต์\n",
    "print(format(b_IT.showBook(\"Python Programming\", \"123-456-789-0\")))\n",
    "print(format(b_Web.showBook(\"Web Programming\", \"777-000-222-0\"))) "
   ]
  },
  {
   "cell_type": "code",
   "execution_count": null,
   "metadata": {},
   "outputs": [],
   "source": []
  }
 ],
 "metadata": {
  "kernelspec": {
   "display_name": "Python 3",
   "language": "python",
   "name": "python3"
  },
  "language_info": {
   "codemirror_mode": {
    "name": "ipython",
    "version": 3
   },
   "file_extension": ".py",
   "mimetype": "text/x-python",
   "name": "python",
   "nbconvert_exporter": "python",
   "pygments_lexer": "ipython3",
   "version": "3.7.4"
  }
 },
 "nbformat": 4,
 "nbformat_minor": 2
}
