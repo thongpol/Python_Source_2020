{
 "cells": [
  {
   "cell_type": "code",
   "execution_count": 1,
   "metadata": {},
   "outputs": [
    {
     "name": "stdout",
     "output_type": "stream",
     "text": [
      "The result of comparison is =  num1 is less than num2\n",
      "The result of comparison is =  False\n"
     ]
    }
   ],
   "source": [
    "class Compare:\n",
    "    def __init__(self, x):\n",
    "        self.x = x\n",
    "\n",
    "    def __ge__(self, other): # เมธอดโอเวอร์โหลดเครื่องหมายมากกว่าหรือเท่ากับ\n",
    "        if (self.x >= other.x):\n",
    "            return \"num1 is greater than or equal num2\"\n",
    "        else:\n",
    "            return \"num1 is less than num2\"\n",
    "\n",
    "    def __ne__(self, other): # เมธอดโอเวอร์โหลดเครื่องหมายไม่เท่ากับ\n",
    "        if (self.x != other.x):\n",
    "            return \"Both are not equal\"\n",
    "        else:\n",
    "            return \"Both are equal\"\n",
    "\n",
    "num1 = Compare(200)\n",
    "num2 = Compare(450)\n",
    "result_n = num1 >= num2\n",
    "print(\"The result of comparison is = \", result_n)\n",
    "\n",
    "str1 = Compare(\"Python\")\n",
    "str2 = Compare(\"Java\")\n",
    "result_s = str1 == str2\n",
    "print(\"The result of comparison is = \", result_s)"
   ]
  },
  {
   "cell_type": "code",
   "execution_count": null,
   "metadata": {},
   "outputs": [],
   "source": []
  }
 ],
 "metadata": {
  "kernelspec": {
   "display_name": "Python 3",
   "language": "python",
   "name": "python3"
  },
  "language_info": {
   "codemirror_mode": {
    "name": "ipython",
    "version": 3
   },
   "file_extension": ".py",
   "mimetype": "text/x-python",
   "name": "python",
   "nbconvert_exporter": "python",
   "pygments_lexer": "ipython3",
   "version": "3.7.4"
  }
 },
 "nbformat": 4,
 "nbformat_minor": 2
}
