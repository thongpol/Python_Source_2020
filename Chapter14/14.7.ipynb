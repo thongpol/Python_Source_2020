{
 "cells": [
  {
   "cell_type": "code",
   "execution_count": 4,
   "metadata": {},
   "outputs": [
    {
     "name": "stdout",
     "output_type": "stream",
     "text": [
      "('Python Programming', '25 x 30', 275, 300)\n",
      "(('Information Technology', '25 x 32', 390, 250), '123-456-789-0', 'ABC')\n",
      "((('Information Technology', '25 x 32', 390, 250), '123-456-789-0', 'ABC'), 'Computer')\n"
     ]
    }
   ],
   "source": [
    "class Book_IT(Book):\n",
    "    def __init__(self, name, size, page, price, isbn, publisher):\n",
    "        super().__init__(name, size, page, price)\n",
    "        self.isbn = isbn\n",
    "        self.publisher = publisher\n",
    "\n",
    "    def showBook_IT(self):\n",
    "        return super().showBook(), self.isbn, self.publisher\n",
    "\n",
    "class BookType(Book_IT):\n",
    "    def __init__(self, name, size, page, price, isbn, type, publisher):\n",
    "        super().__init__(name, size, page, price, isbn, publisher)\n",
    "        self.type = type\n",
    "\n",
    "    def showBookType(self):\n",
    "        return super().showBook_IT(), self.type\n",
    "\n",
    "book = Book(\"Python Programming\", \"25 x 30\", 275, 300)\n",
    "b_IT = Book_IT(\"Information Technology\", \"25 x 32\", 390, 250, \"123-456-789-0\", \"ABC\")\n",
    "b_IT1 = BookType(\"Information Technology\", \"25 x 32\", 390, 250, \"123-456-789-0\", \n",
    "                 \"Computer\", \"ABC\")\n",
    "print(book.showBook())\n",
    "print(b_IT.showBook_IT())\n",
    "print(b_IT1.showBookType())"
   ]
  },
  {
   "cell_type": "code",
   "execution_count": null,
   "metadata": {},
   "outputs": [],
   "source": []
  }
 ],
 "metadata": {
  "kernelspec": {
   "display_name": "Python 3",
   "language": "python",
   "name": "python3"
  },
  "language_info": {
   "codemirror_mode": {
    "name": "ipython",
    "version": 3
   },
   "file_extension": ".py",
   "mimetype": "text/x-python",
   "name": "python",
   "nbconvert_exporter": "python",
   "pygments_lexer": "ipython3",
   "version": "3.7.4"
  }
 },
 "nbformat": 4,
 "nbformat_minor": 2
}
