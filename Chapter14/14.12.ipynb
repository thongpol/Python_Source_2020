{
 "cells": [
  {
   "cell_type": "code",
   "execution_count": 1,
   "metadata": {},
   "outputs": [
    {
     "name": "stdout",
     "output_type": "stream",
     "text": [
      "Samsung, Open mobile with Slide\n",
      "Samsung A8, Open mobile with Slide or Finger scan\n",
      "Samsung A10, Open mobile with Slide, Finger scan or Face scan\n"
     ]
    }
   ],
   "source": [
    "class Mobile: # สร้างคลาสแม่\n",
    "    def __init__(self):\n",
    "        self.brand = \"Samsung\"\n",
    "    def openMobile(self):\n",
    "        return \"Open mobile with Slide\"\n",
    "    def __str__(self):\n",
    "        return \"{}, {}\".format(self.brand, self.openMobile())\n",
    "\n",
    "class MobileOne(Mobile): # สร้างคลาสลูกที่ 1\n",
    "    def __init__(self):\n",
    "        super().__init__()\n",
    "    def openMobile(self):\n",
    "        return \"Open mobile with Slide or Finger scan\"\n",
    "\n",
    "class MobileTwo(MobileOne): # สร้างคลาสลูกที่ 2 สืบทอดคุณสมบัติมาจากคลาสลูกที่ 1\n",
    "    def __init__(self):\n",
    "        super().__init__()\n",
    "    def openMobile(self):\n",
    "        return \"Open mobile with Slide, Finger scan or Face scan\"\n",
    "\n",
    "mobile = Mobile() # สร้างอินสแตนซ์คลาสแม่\n",
    "mobileOne = MobileOne() # สร้างอินสแตนซ์คลาสลูกที่ 1\n",
    "mobileTwo = MobileTwo() # สร้างอินสแตนซ์คลาสลูกที่ 2\n",
    "mobileOne.brand = \"Samsung A8\" # กำหนดค่าแอตทริบิวต์แสดงผลคลาสลูกที่ 1\n",
    "mobileTwo.brand = \"Samsung A10\" # กำหนดค่าแอตทริบิวต์แสดงผลคลาสลูกที่ 2\n",
    "print(mobile)\n",
    "print(mobileOne)\n",
    "print(mobileTwo)"
   ]
  },
  {
   "cell_type": "code",
   "execution_count": null,
   "metadata": {},
   "outputs": [],
   "source": []
  }
 ],
 "metadata": {
  "kernelspec": {
   "display_name": "Python 3",
   "language": "python",
   "name": "python3"
  },
  "language_info": {
   "codemirror_mode": {
    "name": "ipython",
    "version": 3
   },
   "file_extension": ".py",
   "mimetype": "text/x-python",
   "name": "python",
   "nbconvert_exporter": "python",
   "pygments_lexer": "ipython3",
   "version": "3.7.4"
  }
 },
 "nbformat": 4,
 "nbformat_minor": 2
}
