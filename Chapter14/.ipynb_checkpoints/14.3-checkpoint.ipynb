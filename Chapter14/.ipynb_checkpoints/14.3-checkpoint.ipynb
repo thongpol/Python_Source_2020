{
 "cells": [
  {
   "cell_type": "code",
   "execution_count": 2,
   "metadata": {},
   "outputs": [
    {
     "name": "stdout",
     "output_type": "stream",
     "text": [
      "('Python Programming', 25, 30, 350, '123-456-789-0', 300)\n",
      "('Python Programming', 25, 30, 350, '123-456-789-0', 350)\n",
      "('Web Programming', 20, 25, 300, '777-000-222-0', 375)\n"
     ]
    }
   ],
   "source": [
    "class Book: # ประกาศสร้างคลาส Book\n",
    "    # สร้างคอนสตรัคเตอร์แบบมีการรับค่าพารามิเตอร์\n",
    "    def __init__(self, name, wide, high, page, isbn, price):\n",
    "        # สร้างแอตทริบิวต์\n",
    "        self.name = name\n",
    "        self.wide = wide\n",
    "        self.high = high\n",
    "        self.page = page\n",
    "        self.isbn = isbn\n",
    "        self.price = price\n",
    "    def showBook(self): # สร้างเมธอดแบบอินสแตนซ์คืนค่ากลับแสดงผลข้อมูล\n",
    "        return self.name, self.wide, self.high, \n",
    "               self.page, self.isbn, self.price\n",
    "        \n",
    "# สร้างอินสแตนซ์ b_IT พร้อมส่งค่า\n",
    "b_IT = Book(\"Python Programming\", 25, 30, 350, \"123-456-789-0\", 300)\n",
    "print(b_IT.showBook()) # แสดงผลลัพธ์จากอินสแตนซ์ b_IT\n",
    "b_IT.price = 350 # กำหนดราคาหนังสือให้กับอินสแตนซ์ b_IT ใหม่\n",
    "print(b_IT.showBook()) # แสดงผลลัพธ์จากอินสแตนซ์ b_IT อีกครั้ง\n",
    "    \n",
    "# สร้างอินสแตนซ์ b_Web พร้อมส่งค่า\n",
    "b_Web = Book(\"Web Programming\", 20, 25, 300, \"777-000-222-0\", 375) \n",
    "print(b_Web.showBook())  # แสดงผลลัพธ์จากอินสแตนซ์ b_Web"
   ]
  },
  {
   "cell_type": "code",
   "execution_count": null,
   "metadata": {},
   "outputs": [],
   "source": []
  }
 ],
 "metadata": {
  "kernelspec": {
   "display_name": "Python 3",
   "language": "python",
   "name": "python3"
  },
  "language_info": {
   "codemirror_mode": {
    "name": "ipython",
    "version": 3
   },
   "file_extension": ".py",
   "mimetype": "text/x-python",
   "name": "python",
   "nbconvert_exporter": "python",
   "pygments_lexer": "ipython3",
   "version": "3.7.4"
  }
 },
 "nbformat": 4,
 "nbformat_minor": 2
}
