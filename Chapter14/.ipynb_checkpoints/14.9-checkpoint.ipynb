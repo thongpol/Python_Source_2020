{
 "cells": [
  {
   "cell_type": "code",
   "execution_count": 1,
   "metadata": {},
   "outputs": [
    {
     "name": "stdout",
     "output_type": "stream",
     "text": [
      "Jantra 80\n",
      "('Jantra', 80)\n"
     ]
    }
   ],
   "source": [
    "class StudentTest:\n",
    "    def __init__(self, name, score1, score2, score3):\n",
    "        self.name = name\n",
    "        self.score1 = score1\n",
    "        self.score2 = score2\n",
    "        self.score3 = score3\n",
    "\n",
    "    def sumScore(self):\n",
    "        return self.score1 + self.score2 + self.score3\n",
    "\n",
    "    def __repr__(self): # เมธอดคืนค่ากลับแสดงผลข้อมูล\n",
    "        return repr((self.name, self.sumScore()))\n",
    "\n",
    "std1 = StudentTest(\"Jantra\", 20, 35, 25)\n",
    "print(std1.name, std1.sumScore())\n",
    "print(std1)"
   ]
  },
  {
   "cell_type": "code",
   "execution_count": null,
   "metadata": {},
   "outputs": [],
   "source": []
  }
 ],
 "metadata": {
  "kernelspec": {
   "display_name": "Python 3",
   "language": "python",
   "name": "python3"
  },
  "language_info": {
   "codemirror_mode": {
    "name": "ipython",
    "version": 3
   },
   "file_extension": ".py",
   "mimetype": "text/x-python",
   "name": "python",
   "nbconvert_exporter": "python",
   "pygments_lexer": "ipython3",
   "version": "3.7.4"
  }
 },
 "nbformat": 4,
 "nbformat_minor": 2
}
