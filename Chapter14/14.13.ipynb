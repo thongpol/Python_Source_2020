{
 "cells": [
  {
   "cell_type": "code",
   "execution_count": 3,
   "metadata": {},
   "outputs": [
    {
     "name": "stdout",
     "output_type": "stream",
     "text": [
      "587022 Somchai Mongkon 35\n"
     ]
    },
    {
     "ename": "AttributeError",
     "evalue": "'Student' object has no attribute '__updateData'",
     "output_type": "error",
     "traceback": [
      "\u001b[1;31m---------------------------------------------------------------------------\u001b[0m",
      "\u001b[1;31mAttributeError\u001b[0m                            Traceback (most recent call last)",
      "\u001b[1;32m<ipython-input-3-64f7edbe8a22>\u001b[0m in \u001b[0;36m<module>\u001b[1;34m\u001b[0m\n\u001b[0;32m     15\u001b[0m \u001b[0mstd\u001b[0m \u001b[1;33m=\u001b[0m \u001b[0mStudent\u001b[0m\u001b[1;33m(\u001b[0m\u001b[1;33m)\u001b[0m\u001b[1;33m\u001b[0m\u001b[1;33m\u001b[0m\u001b[0m\n\u001b[0;32m     16\u001b[0m \u001b[0mstd\u001b[0m\u001b[1;33m.\u001b[0m\u001b[0mShowData\u001b[0m\u001b[1;33m(\u001b[0m\u001b[1;33m)\u001b[0m\u001b[1;33m\u001b[0m\u001b[1;33m\u001b[0m\u001b[0m\n\u001b[1;32m---> 17\u001b[1;33m \u001b[0mstd\u001b[0m\u001b[1;33m.\u001b[0m\u001b[0m__updateData\u001b[0m\u001b[1;33m(\u001b[0m\u001b[1;34m\"Master\"\u001b[0m\u001b[1;33m)\u001b[0m\u001b[1;33m\u001b[0m\u001b[1;33m\u001b[0m\u001b[0m\n\u001b[0m",
      "\u001b[1;31mAttributeError\u001b[0m: 'Student' object has no attribute '__updateData'"
     ]
    }
   ],
   "source": [
    "class Student: # ประกาศสร้างคลาส Book\n",
    "    def __init__(self): # สร้างคอนสตรัคเตอร์และกำหนดแอตทริบิวต์\n",
    "        self.ID = 587022\n",
    "        self.fname = \"Somchai\"\n",
    "        self.lname = \"Mongkon\"\n",
    "        self.__score = 35 # แอตทริบิวท์ที่ถูกป้องกันการเข้าถึง\n",
    "\n",
    "    def ShowData(self):   # เมธอดแสดงข้อมูล\n",
    "        print(self.ID, self.fname, self.lname, self.__score)\n",
    "\n",
    "    def __updateData(self, degree): # เมธอดที่ถูกป้องกันการเข้าถึง\n",
    "        self.degree = degree\n",
    "        print(self.ID, self.fname, self.lname, self.__score, self.degree)\n",
    "\n",
    "std = Student()\n",
    "std.ShowData()\n",
    "std.__updateData(\"Master\") "
   ]
  },
  {
   "cell_type": "code",
   "execution_count": null,
   "metadata": {},
   "outputs": [],
   "source": []
  }
 ],
 "metadata": {
  "kernelspec": {
   "display_name": "Python 3",
   "language": "python",
   "name": "python3"
  },
  "language_info": {
   "codemirror_mode": {
    "name": "ipython",
    "version": 3
   },
   "file_extension": ".py",
   "mimetype": "text/x-python",
   "name": "python",
   "nbconvert_exporter": "python",
   "pygments_lexer": "ipython3",
   "version": "3.7.4"
  }
 },
 "nbformat": 4,
 "nbformat_minor": 2
}
