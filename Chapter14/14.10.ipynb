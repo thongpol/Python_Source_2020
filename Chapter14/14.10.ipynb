{
 "cells": [
  {
   "cell_type": "code",
   "execution_count": 1,
   "metadata": {},
   "outputs": [
    {
     "name": "stdout",
     "output_type": "stream",
     "text": [
      "Total of score = 75\n"
     ]
    }
   ],
   "source": [
    "class StudentTest:\n",
    "    def __init__(self, score):\n",
    "        self.score = score\n",
    "\n",
    "    def __add__(self, other): # เมธอดโอเวอร์โหลดตัวดำเนินการบวก\n",
    "        result = self.score + other.score\n",
    "        return StudentTest(result)\n",
    "\n",
    "    def __str__(self): # เมธอดจัดรูปแบบชนิดข้อมูลสตริง\n",
    "        return \"Total of score = {}\".format(self.score)\n",
    "\n",
    "score1 = StudentTest(20)\n",
    "score2 = StudentTest(30)\n",
    "score3 = StudentTest(25)\n",
    "sumScore = score1 + score2 + score3\n",
    "print(sumScore)"
   ]
  },
  {
   "cell_type": "code",
   "execution_count": null,
   "metadata": {},
   "outputs": [],
   "source": []
  }
 ],
 "metadata": {
  "kernelspec": {
   "display_name": "Python 3",
   "language": "python",
   "name": "python3"
  },
  "language_info": {
   "codemirror_mode": {
    "name": "ipython",
    "version": 3
   },
   "file_extension": ".py",
   "mimetype": "text/x-python",
   "name": "python",
   "nbconvert_exporter": "python",
   "pygments_lexer": "ipython3",
   "version": "3.7.4"
  }
 },
 "nbformat": 4,
 "nbformat_minor": 2
}
