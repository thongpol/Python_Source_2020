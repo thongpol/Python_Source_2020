{
 "cells": [
  {
   "cell_type": "code",
   "execution_count": 1,
   "metadata": {},
   "outputs": [
    {
     "name": "stdout",
     "output_type": "stream",
     "text": [
      "('Python Programming', '25 x 30', 275, 300)\n",
      "('Information Technology', '25 x 32', 390, 250)\n"
     ]
    }
   ],
   "source": [
    "class Book: # ประกาศสร้างคลาส Book เป็นคลาสแม่\n",
    "    def __init__(self, name, size, page, price): # คอนสตรัคเตอร์กำหนดแอตทริบิวต์\n",
    "        self.name = name\n",
    "        self.size = size\n",
    "        self.page = page\n",
    "        self.price = price\n",
    "\n",
    "    def showBook(self): # สร้างเมธอดแบบอินสแตนซ์สำหรับแสดงผลข้อมูล\n",
    "        return self.name, self.size, self.page, self.price    \n",
    "\n",
    "class Book_IT(Book): # สร้างคลาส Book_IT เป็นคลาสลูกสืบทอดมาจากคลาส Book\n",
    "    pass\n",
    "\n",
    "# กำหนดข้อมูลให้กับอินสแตนซ์คลาสแม่\n",
    "book = Book(\"Python Programming\", \"25 x 30\", 275, 300) \n",
    "# กำหนดข้อมูลให้กับอินสแตนซ์คลาสลูก\n",
    "b_IT = Book_IT(\"Information Technology\", \"25 x 32\", 390, 250) \n",
    "# แสดงผลข้อมูลอ้างอิงจากอินสแตนซ์คลาสแม่ไปยังเมธอด showBook() ของคลาสแม่\n",
    "print(book.showBook())\n",
    "# แสดงผลข้อมูลอ้างอิงจากอินสแตนซ์คลาสลูกไปยังเมธอด showBook() ของคลาสแม่\n",
    "print(b_IT.showBook())"
   ]
  },
  {
   "cell_type": "code",
   "execution_count": null,
   "metadata": {},
   "outputs": [],
   "source": []
  }
 ],
 "metadata": {
  "kernelspec": {
   "display_name": "Python 3",
   "language": "python",
   "name": "python3"
  },
  "language_info": {
   "codemirror_mode": {
    "name": "ipython",
    "version": 3
   },
   "file_extension": ".py",
   "mimetype": "text/x-python",
   "name": "python",
   "nbconvert_exporter": "python",
   "pygments_lexer": "ipython3",
   "version": "3.7.4"
  }
 },
 "nbformat": 4,
 "nbformat_minor": 2
}
