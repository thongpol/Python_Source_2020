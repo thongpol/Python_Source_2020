{
 "cells": [
  {
   "cell_type": "code",
   "execution_count": 1,
   "metadata": {},
   "outputs": [
    {
     "name": "stdout",
     "output_type": "stream",
     "text": [
      "587022 Somchai Mongkon 35\n",
      "587022 Somchai Mongkon 35 Master\n",
      "587022 Somchai Mongkon 50 Master\n"
     ]
    }
   ],
   "source": [
    "class Student: # ประกาศสร้างคลาส Book\n",
    "    def __init__(self): # สร้างคอนสตรัคเตอร์และกำหนดแอตทริบิวต์\n",
    "        self.ID = 587022\n",
    "        self.fname = \"Somchai\"\n",
    "        self.lname = \"Mongkon\"\n",
    "        self.__score = 35 # แอตทริบิวท์ที่ถูกป้องกันการเข้าถึง\n",
    "\n",
    "    def ShowData(self): # เมธอดแสดงข้อมูล\n",
    "        print(self.ID, self.fname, self.lname, self.__score)\n",
    "\n",
    "    def __updateData(self, degree): # เมธอดที่ถูกป้องกันการเข้าถึง\n",
    "        self.degree = degree\n",
    "        print(self.ID, self.fname, self.lname, self.__score, self.degree)\n",
    "\n",
    "std = Student()\n",
    "std.ShowData()\n",
    "std.__score = 50 # แก้ไขข้อมูลแอตทริบิวต์ __score \n",
    "std._Student__updateData(\"Master\") # ข้อมูล __score มีค่าเท่าเดิม\n",
    "std._Student__score = 50 # แก้ไขข้อมูลแอตทริบิวต์ __score ผ่านคลาส Student\n",
    "std._Student__updateData(\"Master\") # ข้อมูลแอตทริบิวต์ __score เป็น 50"
   ]
  },
  {
   "cell_type": "code",
   "execution_count": null,
   "metadata": {},
   "outputs": [],
   "source": []
  }
 ],
 "metadata": {
  "kernelspec": {
   "display_name": "Python 3",
   "language": "python",
   "name": "python3"
  },
  "language_info": {
   "codemirror_mode": {
    "name": "ipython",
    "version": 3
   },
   "file_extension": ".py",
   "mimetype": "text/x-python",
   "name": "python",
   "nbconvert_exporter": "python",
   "pygments_lexer": "ipython3",
   "version": "3.7.4"
  }
 },
 "nbformat": 4,
 "nbformat_minor": 2
}
