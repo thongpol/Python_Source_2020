{
 "cells": [
  {
   "cell_type": "code",
   "execution_count": 1,
   "metadata": {},
   "outputs": [
    {
     "name": "stdout",
     "output_type": "stream",
     "text": [
      "{1: 'Cat', 2: 'Dog', 3: 'Tiger', 4: 'Bird', 5: 'Lion'}\n",
      "{'1': 'Football', '2': 'Tennis', '3': '', '4': 'Runnig'}\n"
     ]
    }
   ],
   "source": [
    "animals_dct = {1:\"Cat\", 2:\"Dog\", 3:\"Tiger\", 4:\"Bird\", 5:\"Lion\"}\n",
    "    # Key เป็นชนิดข้อมูลจำนวนเต็ม และ Value เป็นชนิดข้อมูลสตริง                                                                      ข้อมูลจำนวนเต็ม และ Value เป็นชนิดข้อมูลสตริง\n",
    "sports_dct = {\"1\":\"Football\", \"2\":\"Tennis\", \"3\":\"\", \"4\":\"Runnig\"}\n",
    "    # Key และ Value เป็นชนิดข้อมูลสตริง                                                                                  เป็นชนิดข้อมูลสตริง\n",
    "print (animals_dct) # แสดงผลลัพธ์จากค่าตัวแปร animals_dct\n",
    "print (sports_dct)  # แสดงผลลัพธ์จากค่าตัวแปร sports_dct"
   ]
  },
  {
   "cell_type": "code",
   "execution_count": null,
   "metadata": {},
   "outputs": [],
   "source": []
  }
 ],
 "metadata": {
  "kernelspec": {
   "display_name": "Python 3",
   "language": "python",
   "name": "python3"
  },
  "language_info": {
   "codemirror_mode": {
    "name": "ipython",
    "version": 3
   },
   "file_extension": ".py",
   "mimetype": "text/x-python",
   "name": "python",
   "nbconvert_exporter": "python",
   "pygments_lexer": "ipython3",
   "version": "3.7.4"
  }
 },
 "nbformat": 4,
 "nbformat_minor": 2
}
