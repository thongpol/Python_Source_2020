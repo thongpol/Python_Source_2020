{
 "cells": [
  {
   "cell_type": "code",
   "execution_count": 1,
   "metadata": {},
   "outputs": [
    {
     "name": "stdout",
     "output_type": "stream",
     "text": [
      "ตำแหน่งของหนังสือภาษา Python คือ  0\n",
      "จำนวนหนังสือภาษา Python ทั้งหมด คือ 1 เล่ม\n",
      "จำนวนหนังสือทั้งหมดใน books_tup คือ 6 เล่ม\n"
     ]
    }
   ],
   "source": [
    "books_tup = (\"Python\", \"Java\", \"C\", \"C++\", \"C#\", \"PHP\")\n",
    "    # สร้างตัวแปรชนิดข้อมูลทูเพิล\n",
    "print(\"ตำแหน่งของหนังสือภาษา Python คือ \", books_tup.index(\"Python\"))\n",
    "    # แสดงผลลัพธ์ตำแหน่งด้วยเมธอด index()\n",
    "print(\"จำนวนหนังสือภาษา Python ทั้งหมด คือ\", books_tup.count(\"Python\"), \"เล่ม\")\n",
    "    # นับรายการข้อมูลที่ต้องการด้วยเมธอด count()\n",
    "print(\"จำนวนหนังสือทั้งหมดใน books_tup คือ\", len(books_tup), \"เล่ม\")\n",
    "    # แสดงผลลัพธ์รายการข้อมูลทั้งหมดด้วยฟังก์ชัน len()"
   ]
  },
  {
   "cell_type": "code",
   "execution_count": null,
   "metadata": {},
   "outputs": [],
   "source": []
  }
 ],
 "metadata": {
  "kernelspec": {
   "display_name": "Python 3",
   "language": "python",
   "name": "python3"
  },
  "language_info": {
   "codemirror_mode": {
    "name": "ipython",
    "version": 3
   },
   "file_extension": ".py",
   "mimetype": "text/x-python",
   "name": "python",
   "nbconvert_exporter": "python",
   "pygments_lexer": "ipython3",
   "version": "3.7.4"
  }
 },
 "nbformat": 4,
 "nbformat_minor": 2
}
