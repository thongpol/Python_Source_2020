{
 "cells": [
  {
   "cell_type": "code",
   "execution_count": 1,
   "metadata": {},
   "outputs": [
    {
     "name": "stdout",
     "output_type": "stream",
     "text": [
      "แปลงทูเพิลเป็นเซต = {1.5, 2.5, 3.5, 10.45, 15.89, 17.475}\n",
      "แปลงลิสต์เป็นเซต = {'Python', 'PHP', 'Scala', 'Java'}\n",
      "แปลงสตริงเป็นเซต = {'n', 'y', 'h', 'o', 't', 'P'}\n",
      "แปลงสตริงเป็นเซต = {'6', '7', '2', '5', '8', '1', '3', '9'}\n",
      "แปลงทูเพิลเป็นเซต = frozenset({1.5, 2.5, 3.5, 10.45, 15.89, 17.475})\n",
      "แปลงลิสต์เป็นเซต = frozenset({'Python', 'PHP', 'Scala', 'Java'})\n",
      "แปลงสตริงเป็นเซต = frozenset({'n', 'y', 'h', 'o', 't', 'P'})\n",
      "แปลงสตริงเป็นเซต = frozenset({'6', '7', '2', '5', '8', '1', '3', '9'})\n"
     ]
    }
   ],
   "source": [
    "float_tup = (1.5, 2.5, 3.5, 10.45, 3.5, 17.475, 15.89)\n",
    "books_lst = [\"Python\", \"PHP\", \"Java\", \"Scala\", \"Java\"]\n",
    "str1 = \"Python\"; numbers = \"523671978\"\n",
    "print (\"แปลงทูเพิลเป็นเซต =\", set(float_tup))\n",
    "print (\"แปลงลิสต์เป็นเซต =\", set(books_lst))\n",
    "print (\"แปลงสตริงเป็นเซต =\", set(str1))\n",
    "print (\"แปลงสตริงเป็นเซต =\", set(numbers))\n",
    "print (\"แปลงทูเพิลเป็นเซต =\", frozenset(float_tup))\n",
    "print (\"แปลงลิสต์เป็นเซต =\", frozenset(books_lst))\n",
    "print (\"แปลงสตริงเป็นเซต =\", frozenset(str1))\n",
    "print (\"แปลงสตริงเป็นเซต =\", frozenset(numbers))"
   ]
  },
  {
   "cell_type": "code",
   "execution_count": null,
   "metadata": {},
   "outputs": [],
   "source": []
  }
 ],
 "metadata": {
  "kernelspec": {
   "display_name": "Python 3",
   "language": "python",
   "name": "python3"
  },
  "language_info": {
   "codemirror_mode": {
    "name": "ipython",
    "version": 3
   },
   "file_extension": ".py",
   "mimetype": "text/x-python",
   "name": "python",
   "nbconvert_exporter": "python",
   "pygments_lexer": "ipython3",
   "version": "3.7.4"
  }
 },
 "nbformat": 4,
 "nbformat_minor": 2
}
