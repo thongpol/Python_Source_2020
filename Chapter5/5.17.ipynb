{
 "cells": [
  {
   "cell_type": "code",
   "execution_count": 1,
   "metadata": {},
   "outputs": [
    {
     "name": "stdout",
     "output_type": "stream",
     "text": [
      "สมาชิกของ books_set ประกอบด้วย {'PHP', 'Java', 'Python', 'Scala'}\n",
      "สมาชิกของ numbers_set ประกอบด้วย {2, 3, 5, 6, 7, 8, 9, 15}\n",
      "ชนิดข้อมูลของ sport_set คือ <class 'set'>\n",
      "ชนิดข้อมูลของ books_set คือ <class 'set'>\n"
     ]
    }
   ],
   "source": [
    "sport_set = set() # สร้างตัวแปร sport_set เป็นชนิดข้อมูลเซตที่เป็นเซตว่าง\n",
    "books_set = {\"Python\", \"PHP\", \"Java\", \"Scala\", \"Java\"}\n",
    "    # สร้างตัวแปรเป็นชนิดข้อมูลเซตเป็นชนิดข้อมูลสตริง \n",
    "numbers_set = {5, 2, 3, 6, 7, 15, 9, 7, 8}\n",
    "    # สร้างตัวแปรเป็นชนิดข้อมูลเซตเป็นชนิดข้อมูลจำนวนเต็ม\n",
    "print (\"สมาชิกของ books_set ประกอบด้วย\", books_set)\n",
    "    # แสดงผลลัพธ์ค่าตัวแปร books_set สมาชิกที่ซ้ำกันถูกตัดออก\n",
    "print (\"สมาชิกของ numbers_set ประกอบด้วย\", numbers_set)\n",
    "    # แสดงผลลัพธ์ค่าตัวแปร nembers_set ตำแหน่งสมาชิกถูกเปลี่ยน\n",
    "print (\"ชนิดข้อมูลของ sport_set คือ\", type(sport_set))\n",
    "    # ตรวจสอบชนิดข้อมูลด้วยฟังก์ชัน type()\n",
    "print (\"ชนิดข้อมูลของ books_set คือ\", type(books_set))\n",
    "    # ตรวจสอบชนิดข้อมูลด้วยฟังก์ชัน type()"
   ]
  },
  {
   "cell_type": "code",
   "execution_count": null,
   "metadata": {},
   "outputs": [],
   "source": []
  }
 ],
 "metadata": {
  "kernelspec": {
   "display_name": "Python 3",
   "language": "python",
   "name": "python3"
  },
  "language_info": {
   "codemirror_mode": {
    "name": "ipython",
    "version": 3
   },
   "file_extension": ".py",
   "mimetype": "text/x-python",
   "name": "python",
   "nbconvert_exporter": "python",
   "pygments_lexer": "ipython3",
   "version": "3.7.4"
  }
 },
 "nbformat": 4,
 "nbformat_minor": 2
}
