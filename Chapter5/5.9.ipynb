{
 "cells": [
  {
   "cell_type": "code",
   "execution_count": 1,
   "metadata": {},
   "outputs": [
    {
     "name": "stdout",
     "output_type": "stream",
     "text": [
      "มีหนังสือ .Net หรือไม่ =  False\n",
      "มีหนังสือ C# หรือไม่ =  True\n"
     ]
    }
   ],
   "source": [
    "books_tup = (\"Python\", \"Java\", \"C\", \"C++\", \"C#\")\n",
    "    # สร้างตัวแปรชนิดข้อมูลทูเพิลเป็นชนิดข้อมูลสตริง\n",
    "print(\"มีหนังสือ .Net หรือไม่ = \", \".Net\" in books_tup)\n",
    "    # แสดงผลลัพธ์การตรวจสอบ “.Net” ในค่าตัวแปร books_tup\n",
    "print(\"มีหนังสือ C# หรือไม่ = \", \"C#\" in books_tup)\n",
    "    # แสดงผลลัพธ์การตรวจสอบ “C#” ในค่าตัวแปร books_tup"
   ]
  },
  {
   "cell_type": "code",
   "execution_count": null,
   "metadata": {},
   "outputs": [],
   "source": []
  }
 ],
 "metadata": {
  "kernelspec": {
   "display_name": "Python 3",
   "language": "python",
   "name": "python3"
  },
  "language_info": {
   "codemirror_mode": {
    "name": "ipython",
    "version": 3
   },
   "file_extension": ".py",
   "mimetype": "text/x-python",
   "name": "python",
   "nbconvert_exporter": "python",
   "pygments_lexer": "ipython3",
   "version": "3.7.4"
  }
 },
 "nbformat": 4,
 "nbformat_minor": 2
}
