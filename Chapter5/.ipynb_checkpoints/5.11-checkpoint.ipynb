{
 "cells": [
  {
   "cell_type": "code",
   "execution_count": 1,
   "metadata": {},
   "outputs": [
    {
     "name": "stdout",
     "output_type": "stream",
     "text": [
      "ผลเปรียบเทียบ num_tup_1 < num_tuple_3 คือ False\n",
      "ผลเปรียบเทียบ num_tup_1 = num_tuple_3 คือ True\n",
      "ผลการรวมระหว่าง books_tup_1 กับ books_tuple_2 คือ ('Python', 'Java', 'C', 'C++', 'C#', 'C', 'C++', 'C#')\n",
      "ผลการทำซ้ำของ books_tup_1 คือ ('Python', 'Java', 'C', 'C++', 'C#', 'Python', 'Java', 'C', 'C++', 'C#')\n"
     ]
    }
   ],
   "source": [
    "num_tup_1 = (4, 5, 7, -5.12, -10, 15)\n",
    "num_tup_2 = (4, 5, 4.12, 7,)\n",
    "num_tup_3 = (4, 5, 4.12, 7,)\n",
    "books_tup_1 = (\"Python\", \"Java\", \"C\", \"C++\", \"C#\")\n",
    "books_tup_2 = (\"C\", \"C++\", \"C#\")\n",
    "print (\"ผลเปรียบเทียบ num_tup_1 < num_tuple_3 คือ\", num_tup_1 < num_tup_3)\n",
    "print (\"ผลเปรียบเทียบ num_tup_1 = num_tuple_3 คือ\",  num_tup_2 == num_tup_3)\n",
    "print (\"ผลการรวมระหว่าง books_tup_1 กับ books_tuple_2 คือ\", books_tup_1 + books_tup_2)\n",
    "print (\"ผลการทำซ้ำของ books_tup_1 คือ\", books_tup_1 * 2)"
   ]
  },
  {
   "cell_type": "code",
   "execution_count": null,
   "metadata": {},
   "outputs": [],
   "source": []
  }
 ],
 "metadata": {
  "kernelspec": {
   "display_name": "Python 3",
   "language": "python",
   "name": "python3"
  },
  "language_info": {
   "codemirror_mode": {
    "name": "ipython",
    "version": 3
   },
   "file_extension": ".py",
   "mimetype": "text/x-python",
   "name": "python",
   "nbconvert_exporter": "python",
   "pygments_lexer": "ipython3",
   "version": "3.7.4"
  }
 },
 "nbformat": 4,
 "nbformat_minor": 2
}
