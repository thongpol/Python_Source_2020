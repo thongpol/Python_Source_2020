{
 "cells": [
  {
   "cell_type": "code",
   "execution_count": 1,
   "metadata": {},
   "outputs": [
    {
     "name": "stdout",
     "output_type": "stream",
     "text": [
      "frozenset({'Leicester', 'London', 'Norwich', 'Sheffield'})\n",
      "frozenset({'Sausage', 'Bread', 'Bacon', 'Cereal', 'Ham'})\n"
     ]
    }
   ],
   "source": [
    "cities = frozenset((\"London\", \"Sheffield\", \"Norwich\", \"Leicester\"))\n",
    "    # สร้างตัวแปร cities เป็นชนิดข้อมูล frozenset\n",
    "foods = frozenset([\"Bacon\", \"Sausage\", \"Cereal\", \"Ham\", \"Bread\"])\n",
    "    # สร้างตัวแปร foods เป็นชนิดข้อมูล frozenset\n",
    "print(cities) # แสดงสมาชิกที่เก็บอยู่ในค่าตัวแปร cities\n",
    "print(foods)  # แสดงสมาชิกที่เก็บอยู่ในค่าตัวแปร foods"
   ]
  },
  {
   "cell_type": "code",
   "execution_count": null,
   "metadata": {},
   "outputs": [],
   "source": []
  }
 ],
 "metadata": {
  "kernelspec": {
   "display_name": "Python 3",
   "language": "python",
   "name": "python3"
  },
  "language_info": {
   "codemirror_mode": {
    "name": "ipython",
    "version": 3
   },
   "file_extension": ".py",
   "mimetype": "text/x-python",
   "name": "python",
   "nbconvert_exporter": "python",
   "pygments_lexer": "ipython3",
   "version": "3.7.4"
  }
 },
 "nbformat": 4,
 "nbformat_minor": 2
}
