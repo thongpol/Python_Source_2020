{
 "cells": [
  {
   "cell_type": "code",
   "execution_count": 2,
   "metadata": {},
   "outputs": [
    {
     "name": "stdout",
     "output_type": "stream",
     "text": [
      "[4, 5, 7, 15, 'Python', 'Java', 'C', 'C++', 'C#', 'Scala']\n",
      "[4, 5, 7, 15, 4, 5, 7, 15, 4, 5, 7, 15]\n",
      "num_lst กับ nums_lst1 เท่ากันหรือไม่ =  False\n",
      "[[4, 5, 7, 15], ['Python', 'Java', 'C', 'C++', 'C#', 'Scala']]\n",
      "Python อยู่ใน books_list = True\n"
     ]
    }
   ],
   "source": [
    "nums_lst = [4, 5, 7, 15] \n",
    "    # สร้างตัวแปรชนิดข้อมูลลิสต์เป็นชนิดข้อมูลจำนวนเต็ม\n",
    "nums_lst1 = [4, 3, 5, 78]\n",
    "    # สร้างตัวแปรชนิดข้อมูลลิสต์เป็นชนิดข้อมูลจำนวนเต็ม\n",
    "books_lst = [\"Python\", \"Java\", \"C\", \"C++\", \"C#\", \"Scala\" ]\n",
    "    # สร้างตัวแปรชนิดข้อมูลลิสต์เป็นชนิดข้อมูลสตริง\n",
    "print (nums_lst + books_lst)\n",
    "    # แสดงผลลัพธ์การเชื่อมต่อค่าตัวแปร nums_lst กับ books_lst\n",
    "print (nums_lst * 3) # แสดงผลลัพธ์การทำซ้ำค่าตัวแปร nums_lst ทั้งหมด 3 ครั้ง\n",
    "print (\"num_lst กับ nums_lst1 เท่ากันหรือไม่ = \", nums_lst == nums_lst1)  \n",
    "    # แสดงผลลัพธ์การเปรียบเทียบค่าตัวแปร nums_lst กับ num_lst1\n",
    "news_lst = [nums_lst, books_lst]\n",
    "    # นำค่าตัวแปร nums_lst และ book_lst เก็บไว้ในตัวแปร news_lst\n",
    "print (news_lst) # แสดงผลลัพธ์ค่าตัวแปร news_lst\n",
    "print (\"Python อยู่ใน books_list =\", \"Python\" in books_lst) \n",
    "    # แสดงผลลัพธ์การตรวจสอบ Python อยู่ในค่าตัวแปร books_lst"
   ]
  },
  {
   "cell_type": "code",
   "execution_count": null,
   "metadata": {},
   "outputs": [],
   "source": []
  }
 ],
 "metadata": {
  "kernelspec": {
   "display_name": "Python 3",
   "language": "python",
   "name": "python3"
  },
  "language_info": {
   "codemirror_mode": {
    "name": "ipython",
    "version": 3
   },
   "file_extension": ".py",
   "mimetype": "text/x-python",
   "name": "python",
   "nbconvert_exporter": "python",
   "pygments_lexer": "ipython3",
   "version": "3.7.4"
  }
 },
 "nbformat": 4,
 "nbformat_minor": 2
}
