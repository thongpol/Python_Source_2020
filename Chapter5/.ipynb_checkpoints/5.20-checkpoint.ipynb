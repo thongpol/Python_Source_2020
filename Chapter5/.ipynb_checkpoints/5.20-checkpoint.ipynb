{
 "cells": [
  {
   "cell_type": "code",
   "execution_count": 2,
   "metadata": {},
   "outputs": [
    {
     "name": "stdout",
     "output_type": "stream",
     "text": [
      "nums_set เท่ากับ num_set1 หรือไม่ = False\n",
      "nums_set1 น้อยกว่า num_set2 หรือไม่ = True\n",
      "4 เป็นสมาชิกของ nums_set3 หรือไม่ = True\n",
      "nums_set เท่ากับ nums_set3 หรือไม่ = False\n"
     ]
    }
   ],
   "source": [
    "nums_set = {4, 3, 2, 5, 9}\n",
    "nums_set1 = {4, 3, 2, 9}\n",
    "eq_set = nums_set == nums_set1\n",
    "le_set = nums_set1 < nums_set\n",
    "in_set = 4 in nums_set\n",
    "is_set = nums_set is nums_set1\n",
    "print (\"nums_set เท่ากับ num_set1 หรือไม่ =\", eq_set)\n",
    "print (\"nums_set1 น้อยกว่า num_set2 หรือไม่ =\", le_set)\n",
    "print (\"4 เป็นสมาชิกของ nums_set3 หรือไม่ =\", in_set)\n",
    "print (\"nums_set เท่ากับ nums_set3 หรือไม่ =\", is_set)"
   ]
  },
  {
   "cell_type": "code",
   "execution_count": null,
   "metadata": {},
   "outputs": [],
   "source": []
  }
 ],
 "metadata": {
  "kernelspec": {
   "display_name": "Python 3",
   "language": "python",
   "name": "python3"
  },
  "language_info": {
   "codemirror_mode": {
    "name": "ipython",
    "version": 3
   },
   "file_extension": ".py",
   "mimetype": "text/x-python",
   "name": "python",
   "nbconvert_exporter": "python",
   "pygments_lexer": "ipython3",
   "version": "3.7.4"
  }
 },
 "nbformat": 4,
 "nbformat_minor": 2
}
