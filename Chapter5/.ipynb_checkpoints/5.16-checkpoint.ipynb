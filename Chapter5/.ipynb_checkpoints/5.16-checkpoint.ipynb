{
 "cells": [
  {
   "cell_type": "code",
   "execution_count": 1,
   "metadata": {},
   "outputs": [
    {
     "name": "stdout",
     "output_type": "stream",
     "text": [
      "รายชื่อชนิดกีฬาที่มีอยู่ใน sports_dct = {'1': 'Racing', '2': 'Tennis', '3': 'Basketball', '4': 'Football'}\n"
     ]
    }
   ],
   "source": [
    "sports_dct = {\"1\":\"Football\", \"2\":\"Tennis\",\"3\":\"Basketball\"}\n",
    "    # Key และ Value เป็นชนิดข้อมูลสตริง  \n",
    "sports_dct[\"1\"] = \"Racing\"\n",
    "    # แก้ไข Value ที่ Key 1 จาก Football เป็น Racing\n",
    "sports_dct[\"4\"] = \"Football\"\n",
    "    # เพิ่มสมาชิกเข้าไปในค่าตัวแปร sports_dct\n",
    "print (\"รายชื่อชนิดกีฬาที่มีอยู่ใน sports_dct =\", sports_dct) \n",
    "    # แสดงผลลัพธ์จากการแก้ไขและเพิ่มข้อมูล"
   ]
  },
  {
   "cell_type": "code",
   "execution_count": null,
   "metadata": {},
   "outputs": [],
   "source": []
  }
 ],
 "metadata": {
  "kernelspec": {
   "display_name": "Python 3",
   "language": "python",
   "name": "python3"
  },
  "language_info": {
   "codemirror_mode": {
    "name": "ipython",
    "version": 3
   },
   "file_extension": ".py",
   "mimetype": "text/x-python",
   "name": "python",
   "nbconvert_exporter": "python",
   "pygments_lexer": "ipython3",
   "version": "3.7.4"
  }
 },
 "nbformat": 4,
 "nbformat_minor": 2
}
