{
 "cells": [
  {
   "cell_type": "code",
   "execution_count": 1,
   "metadata": {},
   "outputs": [
    {
     "name": "stdout",
     "output_type": "stream",
     "text": [
      "ข้อมูลที่อยู่ใน sports_dct = {'1': 'Football', '2': 'Tennis', '3': 'Basketball'}\n"
     ]
    }
   ],
   "source": [
    "sports_dct = {\"1\":\"Football\", \"2\":\"Tennis\", \"3\":\"Basketball\", \n",
    "              \"4\":\"Running\"}\n",
    "del sports_dct[\"4\"] # ใช้คำสั่ง del ลบข้อมูล Key ที่ 4 ของค่าตัวแปร sports_dct\n",
    "print (\"ข้อมูลที่อยู่ใน sports_dct =\", sports_dct) # แสดงผลลัพธ์หลังจากการใช้คำสั่ง del\n",
    "del sports_dct # ใช้คำสั่ง del ตัวแปร sports_dct"
   ]
  },
  {
   "cell_type": "code",
   "execution_count": null,
   "metadata": {},
   "outputs": [],
   "source": []
  }
 ],
 "metadata": {
  "kernelspec": {
   "display_name": "Python 3",
   "language": "python",
   "name": "python3"
  },
  "language_info": {
   "codemirror_mode": {
    "name": "ipython",
    "version": 3
   },
   "file_extension": ".py",
   "mimetype": "text/x-python",
   "name": "python",
   "nbconvert_exporter": "python",
   "pygments_lexer": "ipython3",
   "version": "3.7.4"
  }
 },
 "nbformat": 4,
 "nbformat_minor": 2
}
