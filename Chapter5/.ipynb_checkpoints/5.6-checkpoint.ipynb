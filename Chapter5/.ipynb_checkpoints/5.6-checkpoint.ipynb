{
 "cells": [
  {
   "cell_type": "code",
   "execution_count": 1,
   "metadata": {},
   "outputs": [
    {
     "name": "stdout",
     "output_type": "stream",
     "text": [
      "('Name', 'Address', [1, 2, 3], ('ID', 3451))\n",
      "ชนิดข้อมูลของ vars_tup คือ <class 'tuple'>\n",
      "ชนิดข้อมูลของ book_tup คือ <class 'str'>\n",
      "ชนิดข้อมูลของ book_tup1 คือ <class 'tuple'>\n"
     ]
    }
   ],
   "source": [
    "tup = () # สร้างตัวแปรชนิดข้อมูลทูเพิลที่เป็นค่าว่าง\n",
    "vars_tup = (\"Name\", \"Address\", [1, 2, 3], (\"ID\", 3451))\n",
    "    # สร้างตัวแปรเป็นชนิดข้อมูลทูเพิลที่มีสมาชิกเป็นชนิดข้อมูลสตริง ลิสต์ และทูเพิล                                                    \n",
    "book_tup = (\"Python Programming\") # สร้างตัวแปรเป็นชนิดข้อมูลสตริง\n",
    "book_tup1 = (\"Python Programming\",)\n",
    "    # สร้างตัวแปรเป็นชนิดข้อมูลทูเพิล มีเครื่องหมาย (,)\n",
    "print (vars_tup) # แสดงผลลัพธ์จากค่าตัวแปร var_tup\n",
    "print (\"ชนิดข้อมูลของ vars_tup คือ\", type(vars_tup))\n",
    "    # แสดงผลลัพธ์ชนิดข้อมูลของค่าตัวแปร var_tup\n",
    "print (\"ชนิดข้อมูลของ book_tup คือ\", type(book_tup))\n",
    "    # แสดงผลลัพธ์ชนิดข้อมูลของค่าตัวแปร book_tup\n",
    "print (\"ชนิดข้อมูลของ book_tup1 คือ\", type(book_tup1))\n",
    "    # แสดงผลลัพธ์ชนิดข้อมูลของค่าตัวแปร book_tup1"
   ]
  },
  {
   "cell_type": "code",
   "execution_count": null,
   "metadata": {},
   "outputs": [],
   "source": []
  }
 ],
 "metadata": {
  "kernelspec": {
   "display_name": "Python 3",
   "language": "python",
   "name": "python3"
  },
  "language_info": {
   "codemirror_mode": {
    "name": "ipython",
    "version": 3
   },
   "file_extension": ".py",
   "mimetype": "text/x-python",
   "name": "python",
   "nbconvert_exporter": "python",
   "pygments_lexer": "ipython3",
   "version": "3.7.4"
  }
 },
 "nbformat": 4,
 "nbformat_minor": 2
}
