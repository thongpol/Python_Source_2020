{
 "cells": [
  {
   "cell_type": "code",
   "execution_count": 2,
   "metadata": {
    "scrolled": true
   },
   "outputs": [
    {
     "name": "stdout",
     "output_type": "stream",
     "text": [
      "แสดงรายการหนังสือใน books_lst =  ['Python', 'Java', 'C', 'C++', 'C#', 'Scala']\n",
      "ตำแหน่งหนังสือภาษา C ใน books_lst =  2\n",
      "รายชื่อที่มีอยู่ใน books_lst =  ['Python', 'C', 'C++', 'C#', 'Scala']\n",
      "สลับข้อมูลจากด้านหลังมาด้านหน้า =  ['Scala', 'C#', 'C++', 'C', 'Python']\n",
      "เรียงรายชื่อหนังสือใน books_lst =  ['C', 'C#', 'C++', 'Python', 'Scala']\n",
      "เรียงรายชื่อหนังสือใน books_lst =  ['Scala', 'Python', 'C++', 'C#', 'C']\n",
      "จำนวนข้อมูลใน numbers_lst =  9\n"
     ]
    }
   ],
   "source": [
    "books_lst = ['Python', 'Java', 'C', 'C++', 'C#' ]\n",
    "    # สร้างตัวแปรชนิดข้อมูลลิสต์ที่มีสมาชิกเป็นชนิดข้อมูลสตริง\n",
    "numbers_lst = [1, 50, 4, 51, 4, 6, 10, 15]\n",
    "    # สร้างตัวแปรชนิดข้อมูลลิสต์ที่มีสมาชิกเป็นชนิดข้อมูลจำนวนเต็ม\n",
    "books_lst.append(\"Scala\") # เพิ่มข้อมูลเข้าไปใน books_lst ด้วยเมธอด append()\n",
    "print (\"แสดงรายการหนังสือใน books_lst = \", books_lst)\n",
    "    # แสดงผลลัพธ์หลังจากใช้เมธอด append()\n",
    "in_book = books_lst.index(\"C\", 1, 5) \n",
    "    # ค้นหาข้อมูลใน books_lst ด้วยเมธอด index()\n",
    "print (\"ตำแหน่งหนังสือภาษา C ใน books_lst = \", in_book)   \n",
    "    # แสดงผลลัพธ์จากค่าตัวแปร in_book\n",
    "books_lst.pop(1) # ลบข้อมูลตำแหน่งที่ 1 ออกจาก books_lst ด้วยเมธอด pop() \n",
    "print (\"รายชื่อที่มีอยู่ใน books_lst = \", books_lst)\n",
    "    # แสดงผลลัพธ์หลังจากใช้เมธอด pop() ลบข้อมูลออก\n",
    "books_lst.reverse() # สลับข้อมูลจากด้านหลังมาด้านหน้าด้วยเมธอด reverse()\n",
    "print (\"สลับข้อมูลจากด้านหลังมาด้านหน้า = \", books_lst)\n",
    "    # แสดงผลลัพธ์หลังจากใช้เมธอด reverse()\n",
    "books_lst.sort() # เรียงสมาชิกตามลำดับตัวอักษรโดยใช้เมธอด sort()\n",
    "print (\"เรียงรายชื่อหนังสือใน books_lst = \", books_lst)\n",
    "    # แสดงผลลัพธ์หลังจากใช้เมธอด sort()\n",
    "books_lst.sort(reverse=True)\n",
    "    # เรียงสมาชิกตามลำดับตัวอักษรโดยใช้เมธอด sort(reverse=True)\n",
    "print (\"เรียงรายชื่อหนังสือใน books_lst = \", books_lst)\n",
    "    # แสดงผลลัพธ์หลังจากใช้เมธอด sort(reverse=True)\n",
    "print (\"จำนวนข้อมูลใน numbers_lst = \", len(numbers_lst))\n",
    "    # แสดงจำนวนข้อมูลด้วยฟังก์ชัน len()"
   ]
  },
  {
   "cell_type": "code",
   "execution_count": null,
   "metadata": {},
   "outputs": [],
   "source": []
  },
  {
   "cell_type": "code",
   "execution_count": null,
   "metadata": {},
   "outputs": [],
   "source": []
  }
 ],
 "metadata": {
  "kernelspec": {
   "display_name": "Python 3",
   "language": "python",
   "name": "python3"
  },
  "language_info": {
   "codemirror_mode": {
    "name": "ipython",
    "version": 3
   },
   "file_extension": ".py",
   "mimetype": "text/x-python",
   "name": "python",
   "nbconvert_exporter": "python",
   "pygments_lexer": "ipython3",
   "version": "3.7.4"
  }
 },
 "nbformat": 4,
 "nbformat_minor": 2
}
