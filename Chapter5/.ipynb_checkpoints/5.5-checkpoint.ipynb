{
 "cells": [
  {
   "cell_type": "code",
   "execution_count": 3,
   "metadata": {},
   "outputs": [
    {
     "name": "stdout",
     "output_type": "stream",
     "text": [
      "ค่าที่น้อยที่สุดใน numbers_lst =  1\n",
      "ค่าที่มากที่สุดใน numbers_lst =  15\n",
      "ผลรวมของ numbers_lst =  31\n"
     ]
    }
   ],
   "source": [
    "numbers_lst = [1, 4, 5, 6, 15]\n",
    "    # สร้างตัวแปรชนิดข้อมูลลิสต์เป็นชนิดข้อมูลจำนวนเต็ม\n",
    "print(\"ค่าที่น้อยที่สุดใน numbers_lst = \", min(numbers_lst))\n",
    "    # แสดงผลลัพธ์การหาค่าที่น้อยที่สุดด้วยฟังก์ชัน min()\n",
    "print(\"ค่าที่มากที่สุดใน numbers_lst = \", max(numbers_lst))\n",
    "    # แสดงผลลัพธ์การหาค่าที่มากที่สุดด้วยฟังก์ชัน max()\n",
    "print(\"ผลรวมของ numbers_lst = \", sum(numbers_lst))\n",
    "    # แสดงผลลัพธ์การหาค่าผลรวมด้วยฟังก์ชัน sum()"
   ]
  },
  {
   "cell_type": "code",
   "execution_count": null,
   "metadata": {},
   "outputs": [],
   "source": []
  }
 ],
 "metadata": {
  "kernelspec": {
   "display_name": "Python 3",
   "language": "python",
   "name": "python3"
  },
  "language_info": {
   "codemirror_mode": {
    "name": "ipython",
    "version": 3
   },
   "file_extension": ".py",
   "mimetype": "text/x-python",
   "name": "python",
   "nbconvert_exporter": "python",
   "pygments_lexer": "ipython3",
   "version": "3.7.4"
  }
 },
 "nbformat": 4,
 "nbformat_minor": 2
}
