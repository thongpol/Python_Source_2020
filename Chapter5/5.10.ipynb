{
 "cells": [
  {
   "cell_type": "code",
   "execution_count": 1,
   "metadata": {},
   "outputs": [
    {
     "name": "stdout",
     "output_type": "stream",
     "text": [
      "ค่าที่มากที่สุดใน numbers_tup คือ 15\n",
      "ค่าที่ต่ำที่สุดใน numbers_tup คือ 4\n",
      "ผลรวมของ numbers_tup คือ 35.120000000000005\n"
     ]
    }
   ],
   "source": [
    "numbers_tup = (4, 5, 4.12, 7, 15)\n",
    "    # สร้างตัวแปรชนิดข้อมูลทูเพิลเป็นชนิดข้อมูลจำนวนเต็ม\n",
    "print (\"ค่าที่มากที่สุดใน numbers_tup คือ\", max(numbers_tup))\n",
    "    # แสดงผลลัพธ์การหาค่าที่มากที่สุดด้วยฟังก์ชัน max()\n",
    "print (\"ค่าที่ต่ำที่สุดใน numbers_tup คือ\", min(numbers_tup))\n",
    "    # แสดงผลลัพธ์การหาค่าที่ต่ำที่สุดด้วยฟังก์ชัน min()\n",
    "print (\"ผลรวมของ numbers_tup คือ\", sum(numbers_tup))\n",
    "    # แสดงผลลัพธ์การหาค่าผลรวมด้วยฟังก์ชัน sum()"
   ]
  },
  {
   "cell_type": "code",
   "execution_count": null,
   "metadata": {},
   "outputs": [],
   "source": []
  }
 ],
 "metadata": {
  "kernelspec": {
   "display_name": "Python 3",
   "language": "python",
   "name": "python3"
  },
  "language_info": {
   "codemirror_mode": {
    "name": "ipython",
    "version": 3
   },
   "file_extension": ".py",
   "mimetype": "text/x-python",
   "name": "python",
   "nbconvert_exporter": "python",
   "pygments_lexer": "ipython3",
   "version": "3.7.4"
  }
 },
 "nbformat": 4,
 "nbformat_minor": 2
}
