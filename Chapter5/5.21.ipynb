{
 "cells": [
  {
   "cell_type": "code",
   "execution_count": 1,
   "metadata": {},
   "outputs": [
    {
     "name": "stdout",
     "output_type": "stream",
     "text": [
      "แปลงทูเพิลเป็นลิสต์ = [1.5, 2.5, 3.5, 10.45, 3.5, 17.475, 15.89]\n",
      "แปลงสตริงเป็นลิสต์ = ['P', 'y', 't', 'h', 'o', 'n']\n",
      "แปลงเซตเป็นลิสต์ = [1, 2, 3, 5, 6, 7, 8, 9]\n",
      "แปลงดิกชันนารีเป็นลิสต์ = ['1', '2', '3', '4']\n",
      "แปลงดิกชันนารีเป็นลิสต์ = ['Football', 'Tennis', 'Basketball', 'Running']\n"
     ]
    }
   ],
   "source": [
    "float_tup = (1.5, 2.5, 3.5, 10.45, 3.5, 17.475, 15.89)\n",
    "str1 = \"Python\"\n",
    "numbers = {5, 2, 3, 6, 7, 1, 9, 7, 8}\n",
    "sports_dct= {\"1\":\"Football\", \"2\":\"Tennis\", \"3\":\"Basketball\", \"4\":\"Running\"}\n",
    "print (\"แปลงทูเพิลเป็นลิสต์ =\", list(float_tup))\n",
    "print (\"แปลงสตริงเป็นลิสต์ =\", list(str1))\n",
    "print (\"แปลงเซตเป็นลิสต์ =\", list(numbers))\n",
    "print (\"แปลงดิกชันนารีเป็นลิสต์ =\", list(sports_dct.keys()))\n",
    "print (\"แปลงดิกชันนารีเป็นลิสต์ =\", list(sports_dct.values()))"
   ]
  },
  {
   "cell_type": "code",
   "execution_count": null,
   "metadata": {},
   "outputs": [],
   "source": []
  }
 ],
 "metadata": {
  "kernelspec": {
   "display_name": "Python 3",
   "language": "python",
   "name": "python3"
  },
  "language_info": {
   "codemirror_mode": {
    "name": "ipython",
    "version": 3
   },
   "file_extension": ".py",
   "mimetype": "text/x-python",
   "name": "python",
   "nbconvert_exporter": "python",
   "pygments_lexer": "ipython3",
   "version": "3.7.4"
  }
 },
 "nbformat": 4,
 "nbformat_minor": 2
}
