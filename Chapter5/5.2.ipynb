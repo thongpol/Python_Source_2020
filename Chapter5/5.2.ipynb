{
 "cells": [
  {
   "cell_type": "code",
   "execution_count": 1,
   "metadata": {},
   "outputs": [
    {
     "name": "stdout",
     "output_type": "stream",
     "text": [
      "ตำแหน่ง -5 ใน books_lst คือ C\n",
      "ตำแหน่ง 1-6 ใน books_lst คือ ['Python', 'Java', 'C', 'C++', 'C#', 'Scala']\n",
      "ตำแหน่ง 1-4 ใน books_lst คือ ['Java', 'C', 'C++']\n",
      "แสดงข้อมูลตำแหน่งที่ 1-6 โดยข้ามครั้งละ 2 ตำแหน่ง=  ['Java', 'C++', 'Scala']\n",
      "แสดงข้อมูลใน books_lst โดยข้ามครั้งละ 2 ตำแหน่ง=  ['Python', 'C', 'C#', 'PHP']\n"
     ]
    }
   ],
   "source": [
    "books_lst = [\"Python\", \"Java\", \"C\", \"C++\", \"C#\", \"Scala\", \"PHP\"] \n",
    "print (\"ตำแหน่ง -5 ใน books_lst คือ\", books_lst[-5])\n",
    "print (\"ตำแหน่ง 1-6 ใน books_lst คือ\", books_lst[:6])\n",
    "print (\"ตำแหน่ง 1-4 ใน books_lst คือ\", books_lst[1:4])\n",
    "print (\"แสดงข้อมูลตำแหน่งที่ 1-6 โดยข้ามครั้งละ 2 ตำแหน่ง= \", books_lst[1:6:2]) \n",
    "print (\"แสดงข้อมูลใน books_lst โดยข้ามครั้งละ 2 ตำแหน่ง= \", books_lst[::2])"
   ]
  },
  {
   "cell_type": "code",
   "execution_count": null,
   "metadata": {},
   "outputs": [],
   "source": []
  }
 ],
 "metadata": {
  "kernelspec": {
   "display_name": "Python 3",
   "language": "python",
   "name": "python3"
  },
  "language_info": {
   "codemirror_mode": {
    "name": "ipython",
    "version": 3
   },
   "file_extension": ".py",
   "mimetype": "text/x-python",
   "name": "python",
   "nbconvert_exporter": "python",
   "pygments_lexer": "ipython3",
   "version": "3.7.4"
  }
 },
 "nbformat": 4,
 "nbformat_minor": 2
}
