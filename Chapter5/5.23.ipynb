{
 "cells": [
  {
   "cell_type": "code",
   "execution_count": 1,
   "metadata": {},
   "outputs": [
    {
     "name": "stdout",
     "output_type": "stream",
     "text": [
      "แปลงลิสต์เป็นดิกชันนารี = {1: 'Cat', 2: 'Dog', 3: 'Bee', 4: 'Ant'}\n",
      "แปลงทูเพิลเป็นดิกชันนารี = {1: 'Football', 2: 'Swimming', 4: 'Running'}\n",
      "แปลงเซตเป็นดิกชันนารี = {1: None, 2: None, 3: None, 5: None, 6: None, 7: None, 8: None, 9: None}\n"
     ]
    }
   ],
   "source": [
    "animals_lst = [[1,\"Cat\"], [2,\"Dog\"], [3,\"Bee\"], [4, \"Ant\"]]\n",
    "sports_tup = ((1, \"Football\"), (2, \"Swimming\"), (4, \"Running\"))\n",
    "numbers = {5, 2, 3, 6, 7, 1, 9, 7, 8}\n",
    "print (\"แปลงลิสต์เป็นดิกชันนารี =\", dict(animals_lst))\n",
    "print (\"แปลงทูเพิลเป็นดิกชันนารี =\", dict(sports_tup))\n",
    "print (\"แปลงเซตเป็นดิกชันนารี =\", dict.fromkeys(numbers))"
   ]
  },
  {
   "cell_type": "code",
   "execution_count": null,
   "metadata": {},
   "outputs": [],
   "source": []
  }
 ],
 "metadata": {
  "kernelspec": {
   "display_name": "Python 3",
   "language": "python",
   "name": "python3"
  },
  "language_info": {
   "codemirror_mode": {
    "name": "ipython",
    "version": 3
   },
   "file_extension": ".py",
   "mimetype": "text/x-python",
   "name": "python",
   "nbconvert_exporter": "python",
   "pygments_lexer": "ipython3",
   "version": "3.7.4"
  }
 },
 "nbformat": 4,
 "nbformat_minor": 2
}
