{
 "cells": [
  {
   "cell_type": "code",
   "execution_count": 1,
   "metadata": {},
   "outputs": [
    {
     "name": "stdout",
     "output_type": "stream",
     "text": [
      "รายชื่อหนังสือใน books_lst =  ['Python', 'Java', 'C', 'C++', 'C#']\n",
      "สมาชิกใน numbers_lst = [1, 2, 3, 4, 5, 6]\n",
      "สมาชิกใน book_num_lst = [1, 'Python', 2, 'Java', 3, 'C']\n"
     ]
    }
   ],
   "source": [
    "books_lst = [\"Python\", \"Java\", \"C\", \"C++\", \"C#\"]\n",
    "    # สร้างตัวแปรชนิดข้อมูลลิสต์มีสมาชิกเป็นชนิดข้อมูลสตริง\n",
    "numbers_lst = [1, 2, 3, 4, 5, 6]\n",
    "    # สร้างตัวแปรชนิดข้อมูลลิสต์มีสมาชิกเป็นชนิดข้อมูลจำนวนเต็ม\n",
    "book_num_lst = [1, \"Python\", 2, \"Java\", 3 ,\"C\"] \n",
    "    # สร้างตัวแปรชนิดข้อมูลลิสต์มีสมาชิกเป็นชนิดข้อมูลจำนวนเต็มและสตริง\n",
    "print(\"รายชื่อหนังสือใน books_lst = \", books_lst)\n",
    "    # แสดงผลลัพธ์ตัวแปร book_lst\n",
    "print(\"สมาชิกใน numbers_lst =\", numbers_lst)\n",
    "    # แสดงผลลัพธ์ตัวแปร numbers_lst\n",
    "print(\"สมาชิกใน book_num_lst =\", book_num_lst)\n",
    "    # แสดงผลลัพธ์ตัวแปร book_num_lst"
   ]
  },
  {
   "cell_type": "code",
   "execution_count": null,
   "metadata": {},
   "outputs": [],
   "source": []
  }
 ],
 "metadata": {
  "kernelspec": {
   "display_name": "Python 3",
   "language": "python",
   "name": "python3"
  },
  "language_info": {
   "codemirror_mode": {
    "name": "ipython",
    "version": 3
   },
   "file_extension": ".py",
   "mimetype": "text/x-python",
   "name": "python",
   "nbconvert_exporter": "python",
   "pygments_lexer": "ipython3",
   "version": "3.7.4"
  }
 },
 "nbformat": 4,
 "nbformat_minor": 2
}
