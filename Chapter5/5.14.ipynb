{
 "cells": [
  {
   "cell_type": "code",
   "execution_count": 1,
   "metadata": {},
   "outputs": [
    {
     "name": "stdout",
     "output_type": "stream",
     "text": [
      "ตำแหน่งที่ 2 ของ animals_dct คือ Dog\n",
      "key ที่มีอยู่ใน soprts_dct คือ dict_keys(['1', '2', '3', '4'])\n",
      "ข้อมูลทั้งหมดใน animals_dct คือ 5\n",
      "ค่า value ที่อยู่ใน sports_dct =  dict_values(['Football', 'Tennis', '', 'Running'])\n"
     ]
    }
   ],
   "source": [
    "animals_dct = {1:\"Cat\", 2:\"Dog\", 3:\"Tiger\", 4:\"Bird\", 5:\"Lion\"} \n",
    "    # Key เป็นชนิดข้อมูลจำนวนเต็ม และ Value เป็นชนิดข้อมูลสตริง  \n",
    "sports_dct = {\"1\":\"Football\", \"2\":\"Tennis\", \"3\":\"\", \"4\":\"Running\"}\n",
    "    # Key และ Value เป็นชนิดข้อมูลสตริง  \n",
    "print (\"ตำแหน่งที่ 2 ของ animals_dct คือ\", animals_dct.get(2))\n",
    "    # ใช้เมธอด get() แสดงค่าข้อมูล Value ของ animals_dct\n",
    "print (\"key ที่มีอยู่ใน soprts_dct คือ\", sports_dct.keys())\n",
    "    # ใช้เมธอด kes() แสดงค่า key ทั้งหมดในค่าตัวแปร sports_dct \n",
    "print (\"ข้อมูลทั้งหมดใน animals_dct คือ\", len(animals_dct))\n",
    "    # แสดงจำนวนข้อมูลทั้งหมดด้วยฟังก์ชัน len() ของ animals_dct\n",
    "print (\"ค่า value ที่อยู่ใน sports_dct = \", sports_dct.values())\n",
    "    # แสดงค่า Value ทั้งหมดด้วยเมธอด values() ใน sports_dct"
   ]
  },
  {
   "cell_type": "code",
   "execution_count": null,
   "metadata": {},
   "outputs": [],
   "source": []
  }
 ],
 "metadata": {
  "kernelspec": {
   "display_name": "Python 3",
   "language": "python",
   "name": "python3"
  },
  "language_info": {
   "codemirror_mode": {
    "name": "ipython",
    "version": 3
   },
   "file_extension": ".py",
   "mimetype": "text/x-python",
   "name": "python",
   "nbconvert_exporter": "python",
   "pygments_lexer": "ipython3",
   "version": "3.7.4"
  }
 },
 "nbformat": 4,
 "nbformat_minor": 2
}
