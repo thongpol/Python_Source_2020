{
 "cells": [
  {
   "cell_type": "code",
   "execution_count": 1,
   "metadata": {},
   "outputs": [
    {
     "name": "stdout",
     "output_type": "stream",
     "text": [
      "แปลงลิสต์เป็นทูเพิล = (1.5, 2.5, 3.5, 10.45, 3.5, 17.475, 15.89)\n",
      "แปลงสตริงเป็นทูเพิล = ('P', 'y', 't', 'h', 'o', 'n')\n",
      "แปลงเซตเป็นทูเพิล = (1, 2, 3, 5, 6, 7, 8, 9)\n",
      "แปลงดิกชันนารีเป็นทูเพิลในส่วนของค่า Key = ('1', '2', '3', '4')\n",
      "แปลงดิกชันนารีเป็นทูเพิลในส่วนของค่า Value = ('Football', 'Tennis', 'Basketball', 'Running')\n"
     ]
    }
   ],
   "source": [
    "float_lst = [1.5, 2.5, 3.5, 10.45, 3.5, 17.475, 15.89]\n",
    "str1 = \"Python\"\n",
    "numbers = {5, 2, 3, 6, 7, 1, 9, 7, 8}\n",
    "sports_dct= {\"1\":\"Football\", \"2\":\"Tennis\", \"3\":\"Basketball\", \"4\":\"Running\"}\n",
    "print (\"แปลงลิสต์เป็นทูเพิล =\", tuple(float_lst))\n",
    "print (\"แปลงสตริงเป็นทูเพิล =\", tuple(str1))\n",
    "print (\"แปลงเซตเป็นทูเพิล =\", tuple(numbers))\n",
    "print (\"แปลงดิกชันนารีเป็นทูเพิลในส่วนของค่า Key =\", tuple(sports_dct.keys()))\n",
    "print (\"แปลงดิกชันนารีเป็นทูเพิลในส่วนของค่า Value =\", tuple(sports_dct.values()))"
   ]
  },
  {
   "cell_type": "code",
   "execution_count": null,
   "metadata": {},
   "outputs": [],
   "source": []
  }
 ],
 "metadata": {
  "kernelspec": {
   "display_name": "Python 3",
   "language": "python",
   "name": "python3"
  },
  "language_info": {
   "codemirror_mode": {
    "name": "ipython",
    "version": 3
   },
   "file_extension": ".py",
   "mimetype": "text/x-python",
   "name": "python",
   "nbconvert_exporter": "python",
   "pygments_lexer": "ipython3",
   "version": "3.7.4"
  }
 },
 "nbformat": 4,
 "nbformat_minor": 2
}
