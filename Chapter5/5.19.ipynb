{
 "cells": [
  {
   "cell_type": "code",
   "execution_count": 1,
   "metadata": {},
   "outputs": [
    {
     "name": "stdout",
     "output_type": "stream",
     "text": [
      "จำนวนที่น้อยที่สุดใน nums_set คือ 2\n",
      "จำนวนที่มากที่สุดใน nums_set คือ 9\n",
      "ผลรวมสมาชิกใน nums_set คือ 23\n"
     ]
    }
   ],
   "source": [
    "nums_set = {4, 3, 2, 5, 9} # สร้างตัวแปรชนิดข้อมูลเซตเป็นจำนวนเต็ม \n",
    "print (\"จำนวนที่น้อยที่สุดใน nums_set คือ\", min(nums_set))\n",
    "    # แสดงผลลัพธ์ค่าที่น้อยที่สุดด้วยฟังก์ชัน min()\n",
    "print (\"จำนวนที่มากที่สุดใน nums_set คือ\", max(nums_set))\n",
    "    # แสดงผลลัพธ์ค่าที่มากที่สุดด้วยฟังก์ชัน max()\n",
    "print (\"ผลรวมสมาชิกใน nums_set คือ\", sum(nums_set)) \n",
    "    # แสดงผลลัพธ์ค่าผลรวมด้วยฟังก์ชัน sum()"
   ]
  },
  {
   "cell_type": "code",
   "execution_count": null,
   "metadata": {},
   "outputs": [],
   "source": []
  }
 ],
 "metadata": {
  "kernelspec": {
   "display_name": "Python 3",
   "language": "python",
   "name": "python3"
  },
  "language_info": {
   "codemirror_mode": {
    "name": "ipython",
    "version": 3
   },
   "file_extension": ".py",
   "mimetype": "text/x-python",
   "name": "python",
   "nbconvert_exporter": "python",
   "pygments_lexer": "ipython3",
   "version": "3.7.4"
  }
 },
 "nbformat": 4,
 "nbformat_minor": 2
}
