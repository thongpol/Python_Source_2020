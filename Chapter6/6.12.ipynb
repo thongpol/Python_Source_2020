{
 "cells": [
  {
   "cell_type": "code",
   "execution_count": 1,
   "metadata": {},
   "outputs": [
    {
     "name": "stdout",
     "output_type": "stream",
     "text": [
      "1 2 3 4 5 6 7 8 9 10 \n",
      "P y t h o n   P r o g r a m m i n g \n",
      "2 5 7 8 9 \n",
      "1 2 3 4 5 6 7 8 9 "
     ]
    }
   ],
   "source": [
    "# ทำซ้ำชนิดข้อมูลลิสต์\n",
    "i = [1, 2, 3, 4, 5, 6, 7, 8, 9, 10]\n",
    "for num in i:\n",
    "    print(num, end = \" \")\n",
    "print ()\n",
    "# ทำซ้ำชนิดข้อมูลสตริง\n",
    "for char in \"Python Programming\":\n",
    "    print(char, end = \" \")\n",
    "print ()\n",
    "# ทำซ้ำชนิดข้อมูลเซต\n",
    "s = {2, 5, 7, 5, 8, 7, 9}\n",
    "for s_set in s:\n",
    "    print(s_set, end = \" \")\n",
    "print ()\n",
    "# ทำซ้ำจากฟังก์ชัน range()\n",
    "for n in range(1, 10):\n",
    "    print(n, end = \" \")"
   ]
  },
  {
   "cell_type": "code",
   "execution_count": null,
   "metadata": {},
   "outputs": [],
   "source": []
  }
 ],
 "metadata": {
  "kernelspec": {
   "display_name": "Python 3",
   "language": "python",
   "name": "python3"
  },
  "language_info": {
   "codemirror_mode": {
    "name": "ipython",
    "version": 3
   },
   "file_extension": ".py",
   "mimetype": "text/x-python",
   "name": "python",
   "nbconvert_exporter": "python",
   "pygments_lexer": "ipython3",
   "version": "3.7.4"
  }
 },
 "nbformat": 4,
 "nbformat_minor": 2
}
