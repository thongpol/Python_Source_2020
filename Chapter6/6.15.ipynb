{
 "cells": [
  {
   "cell_type": "code",
   "execution_count": 2,
   "metadata": {},
   "outputs": [
    {
     "name": "stdout",
     "output_type": "stream",
     "text": [
      "ค่าที่น้อยที่สุด = 546\n",
      "ค่าที่มากที่สุด = 789\n",
      "ผลรวม = 2558\n"
     ]
    }
   ],
   "source": [
    "dct = {\"A\" : 546, \"B\": 578, \"C\": 789, \"D\":645}\n",
    "\n",
    "print (\"ค่าที่น้อยที่สุด =\", min(dct.values()))\n",
    "print (\"ค่าที่มากที่สุด =\", max(dct.values()))\n",
    "print (\"ผลรวม =\", sum(dct.values()))"
   ]
  },
  {
   "cell_type": "code",
   "execution_count": null,
   "metadata": {},
   "outputs": [],
   "source": []
  }
 ],
 "metadata": {
  "kernelspec": {
   "display_name": "Python 3",
   "language": "python",
   "name": "python3"
  },
  "language_info": {
   "codemirror_mode": {
    "name": "ipython",
    "version": 3
   },
   "file_extension": ".py",
   "mimetype": "text/x-python",
   "name": "python",
   "nbconvert_exporter": "python",
   "pygments_lexer": "ipython3",
   "version": "3.7.4"
  }
 },
 "nbformat": 4,
 "nbformat_minor": 2
}
