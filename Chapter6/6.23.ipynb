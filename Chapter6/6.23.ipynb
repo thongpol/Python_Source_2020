{
 "cells": [
  {
   "cell_type": "code",
   "execution_count": 1,
   "metadata": {},
   "outputs": [
    {
     "name": "stdout",
     "output_type": "stream",
     "text": [
      "กรุณาป้อนตัวเลข 1-10 : 12\n",
      "คุณป้อนตัวเลขไม่ถูกต้อง !!\n",
      "กรุณาป้อนตัวเลข 1-10 : 5\n",
      "ผลคูณระหว่าง 1 x 5 =  5\n",
      "กรุณาป้อนตัวเลข 1-10 : 4\n",
      "ผลคูณระหว่าง 2 x 4 =  8\n",
      "กรุณาป้อนตัวเลข 1-10 : 6\n",
      "ผลคูณระหว่าง 3 x 6 =  18\n",
      "กรุณาป้อนตัวเลข 1-10 : 12\n",
      "คุณป้อนตัวเลขไม่ถูกต้อง !!\n",
      "กรุณาป้อนตัวเลข 1-10 : 5\n",
      "ผลคูณระหว่าง 4 x 5 =  20\n",
      "กรุณาป้อนตัวเลข 1-10 : 5\n",
      "ผลคูณระหว่าง 5 x 5 =  25\n"
     ]
    }
   ],
   "source": [
    "i = 1\n",
    "while i <= 5:\n",
    "    n = int(input(\"กรุณาป้อนตัวเลข 1-10 : \"))\n",
    "    if n > 10:\n",
    "        print (\"คุณป้อนตัวเลขไม่ถูกต้อง !!\")\n",
    "        continue\n",
    "    if n <= 10:\n",
    "        j = n * i\n",
    "        \n",
    "    # แสดงผลลัพธ์โดยมีการจัด format ดูรายละเอียดได้ที่หน้า 68\n",
    "    print (\"ผลคูณระหว่าง %d x %d = \" %(i, n), j)\n",
    "    \n",
    "    i += 1"
   ]
  },
  {
   "cell_type": "code",
   "execution_count": null,
   "metadata": {},
   "outputs": [],
   "source": []
  }
 ],
 "metadata": {
  "kernelspec": {
   "display_name": "Python 3",
   "language": "python",
   "name": "python3"
  },
  "language_info": {
   "codemirror_mode": {
    "name": "ipython",
    "version": 3
   },
   "file_extension": ".py",
   "mimetype": "text/x-python",
   "name": "python",
   "nbconvert_exporter": "python",
   "pygments_lexer": "ipython3",
   "version": "3.7.4"
  }
 },
 "nbformat": 4,
 "nbformat_minor": 2
}
