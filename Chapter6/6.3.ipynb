{
 "cells": [
  {
   "cell_type": "code",
   "execution_count": 1,
   "metadata": {},
   "outputs": [
    {
     "name": "stdout",
     "output_type": "stream",
     "text": [
      "กรุณาป้อนอายุของคุณ = 45\n",
      "You are old.\n",
      "The program is done !!\n"
     ]
    }
   ],
   "source": [
    "age = int(input(\"กรุณาป้อนอายุของคุณ = \")) # รอรับค่าการป้อนข้อมูลเป็นจำนวนเต็ม\n",
    "if age > 35: # ตรวจสอบค่าตัวแปร age มากกว่า 35 หรือไม่\n",
    "    print(\"You are old.\") # แสดงผลลัพธ์ \n",
    "print (\"The program is done !!\") # แสดงผลหลังจากโปรแกรมทำงานทุกครั้ง"
   ]
  },
  {
   "cell_type": "code",
   "execution_count": null,
   "metadata": {},
   "outputs": [],
   "source": []
  }
 ],
 "metadata": {
  "kernelspec": {
   "display_name": "Python 3",
   "language": "python",
   "name": "python3"
  },
  "language_info": {
   "codemirror_mode": {
    "name": "ipython",
    "version": 3
   },
   "file_extension": ".py",
   "mimetype": "text/x-python",
   "name": "python",
   "nbconvert_exporter": "python",
   "pygments_lexer": "ipython3",
   "version": "3.7.4"
  }
 },
 "nbformat": 4,
 "nbformat_minor": 2
}
