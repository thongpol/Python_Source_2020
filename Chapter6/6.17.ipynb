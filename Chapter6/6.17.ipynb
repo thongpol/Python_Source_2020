{
 "cells": [
  {
   "cell_type": "code",
   "execution_count": 16,
   "metadata": {},
   "outputs": [
    {
     "name": "stdout",
     "output_type": "stream",
     "text": [
      "รอบที่ 1 = 1 2 3 4 5 6 7 8 9 10 11 12  \n",
      "รอบที่ 2 = 2 4 6 8 10 12 14 16 18 20 22 24  \n",
      "รอบที่ 3 = 3 6 9 12 15 18 21 24 27 30 33 36  \n",
      "รอบที่ 4 = 4 8 12 16 20 24 28 32 36 40 44 48  \n",
      "รอบที่ 5 = 5 10 15 20 25 30 35 40 45 50 55 60  \n"
     ]
    }
   ],
   "source": [
    "i = 1\n",
    "while i <= 5: # คำสั่ง while ด้านนอกตรวจสอบ i น้อยกว่าหรือเท่ากับ 5 หรือไม่\n",
    "    print (\"รอบที่ %d = \"%i, end = \"\") # แสดงผลถ้า i น้อยกว่าหรือเท่ากับ 5 \n",
    "    j = 1\n",
    "    while j <= 12: # คำสั่ง while ด้านในตรวจสอบ j น้อยกว่าหรือเท่ากับ 12 หรือไม่\n",
    "        print(i * j, end = \" \") # แสดงผลถ้า j น้อยกว่าหรือเท่ากับ 12\n",
    "        j += 1 # เพิ่มค่า j อีก 1\n",
    "    print(\" \") # ขึ้นบรรทัดใหม่\n",
    "    i = i + 1  # เพิ่มค่า i อีก 1"
   ]
  },
  {
   "cell_type": "code",
   "execution_count": null,
   "metadata": {},
   "outputs": [],
   "source": []
  }
 ],
 "metadata": {
  "kernelspec": {
   "display_name": "Python 3",
   "language": "python",
   "name": "python3"
  },
  "language_info": {
   "codemirror_mode": {
    "name": "ipython",
    "version": 3
   },
   "file_extension": ".py",
   "mimetype": "text/x-python",
   "name": "python",
   "nbconvert_exporter": "python",
   "pygments_lexer": "ipython3",
   "version": "3.7.4"
  }
 },
 "nbformat": 4,
 "nbformat_minor": 2
}
