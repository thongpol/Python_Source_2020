{
 "cells": [
  {
   "cell_type": "code",
   "execution_count": 1,
   "metadata": {},
   "outputs": [
    {
     "name": "stdout",
     "output_type": "stream",
     "text": [
      "กรุณาป้อนความยาวของสี่เหลี่ยมผืนผ้า = 10\n",
      "กรุณาป้อนความกว้างของสี่เหลี่ยมผืนผ้า = 5\n",
      "พื้นที่สี่เหลี่ยมผืนผ้า =  50.0\n"
     ]
    }
   ],
   "source": [
    "x = float(input(\"กรุณาป้อนความยาวของสี่เหลี่ยมผืนผ้า = \"))\n",
    "    # รอรับค่าการป้อนข้อมูลด้านความยาวแล้วแปลงเป็นจำนวนทศนิยม\n",
    "y = float(input(\"กรุณาป้อนความกว้างของสี่เหลี่ยมผืนผ้า = \"))\n",
    "    # รอรับค่าการป้อนข้อมูลด้านความกว้างแล้วแปลงเป็นจำนวนทศนิยม\n",
    "z = x * y # ดำเนินการคูณค่าตัวแปร x กับ y ผลลัพธ์เก็บไว้ในตัวแปร z\n",
    "print (\"พื้นที่สี่เหลี่ยมผืนผ้า = \", z) # แสดงผลลัพธ์ตัวแปร z"
   ]
  },
  {
   "cell_type": "code",
   "execution_count": null,
   "metadata": {},
   "outputs": [],
   "source": []
  }
 ],
 "metadata": {
  "kernelspec": {
   "display_name": "Python 3",
   "language": "python",
   "name": "python3"
  },
  "language_info": {
   "codemirror_mode": {
    "name": "ipython",
    "version": 3
   },
   "file_extension": ".py",
   "mimetype": "text/x-python",
   "name": "python",
   "nbconvert_exporter": "python",
   "pygments_lexer": "ipython3",
   "version": "3.7.4"
  }
 },
 "nbformat": 4,
 "nbformat_minor": 2
}
