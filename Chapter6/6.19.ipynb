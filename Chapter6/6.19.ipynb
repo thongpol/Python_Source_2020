{
 "cells": [
  {
   "cell_type": "code",
   "execution_count": 1,
   "metadata": {},
   "outputs": [
    {
     "name": "stdout",
     "output_type": "stream",
     "text": [
      "ป้อนจำนวนนักเรียน = 2\n",
      "นักเรียนคนที่  1\n",
      "กรอกคะแนนครั้งที่ 1 = 20\n",
      "กรอกคะแนนครั้งที่ 2 = 35\n",
      "กรอกคะแนนครั้งที่ 3 = 24\n",
      "นักเรียนคนที่ 1 ได้คะแนน =  [20.0, 35.0, 24.0] คะแนนรวม = 79.0\n",
      "นักเรียนคนที่  2\n",
      "กรอกคะแนนครั้งที่ 1 = 34\n",
      "กรอกคะแนนครั้งที่ 2 = 30\n",
      "กรอกคะแนนครั้งที่ 3 = 23\n",
      "นักเรียนคนที่ 2 ได้คะแนน =  [34.0, 30.0, 23.0] คะแนนรวม = 87.0\n"
     ]
    }
   ],
   "source": [
    "stu = int(input(\"ป้อนจำนวนนักเรียน = \")) # ป้อนจำนวนนักเรียน\n",
    "for i in range(1, stu + 1): # ทำซ้ำตามจำนวนค่าตัวแปร stu\n",
    "    j = 1 # กำหนดค่าเริ่มต้นเพื่อตรวจสอบคำสั่ง while\n",
    "    lst = [] # ตัวแปรลิสต์สำหรับเก็บคะแนน\n",
    "    print (\"นักเรียนคนที่ \", i) # จะแสดงผลตามรอบที่ i\n",
    "    while j <= 3: # เงื่อนไขทำซ้ำ เมื่อ j น้อยกว่าหรือเท่ากับ 3 \n",
    "                  # ถ้ามากกว่าจะออกจากการทำซ้ำ\n",
    "        n = float(input(\"กรอกคะแนนครั้งที่ %d = \" %j)) # ป้อนคะแนน\n",
    "        lst.append(n) # นำค่าตัวแปรเก็บไว้ที่ตัวแปร lst\n",
    "        j += 1 # เพิ่มค่าตัวแปร j ด้วยการบวก 1\n",
    "    print (\"นักเรียนคนที่ %d ได้คะแนน = \" %i, lst,\n",
    "           \"คะแนนรวม =\", sum(lst)) # แสดงผลคะแนนทั้งหมดและคะแนนรวม"
   ]
  },
  {
   "cell_type": "code",
   "execution_count": null,
   "metadata": {},
   "outputs": [],
   "source": []
  }
 ],
 "metadata": {
  "kernelspec": {
   "display_name": "Python 3",
   "language": "python",
   "name": "python3"
  },
  "language_info": {
   "codemirror_mode": {
    "name": "ipython",
    "version": 3
   },
   "file_extension": ".py",
   "mimetype": "text/x-python",
   "name": "python",
   "nbconvert_exporter": "python",
   "pygments_lexer": "ipython3",
   "version": "3.7.4"
  }
 },
 "nbformat": 4,
 "nbformat_minor": 2
}
