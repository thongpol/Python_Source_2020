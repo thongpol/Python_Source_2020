{
 "cells": [
  {
   "cell_type": "code",
   "execution_count": 1,
   "metadata": {
    "scrolled": true
   },
   "outputs": [
    {
     "name": "stdout",
     "output_type": "stream",
     "text": [
      "กรุณาป้อนตัวเลข 1-10 : 5\n",
      "ผลคูณระหว่าง 1 x 5 =  5\n",
      "กรุณาป้อนตัวเลข 1-10 : 9\n",
      "ผลคูณระหว่าง 2 x 9 =  18\n",
      "กรุณาป้อนตัวเลข 1-10 : 8\n",
      "ผลคูณระหว่าง 3 x 8 =  24\n",
      "กรุณาป้อนตัวเลข 1-10 : 12\n",
      "คุณป้อนตัวเลขไม่ถูกต้อง !!\n",
      "สิ้นสุดการทำงานของโปรแกรม\n"
     ]
    }
   ],
   "source": [
    "for i in range(1, 6):\n",
    "    n = int(input(\"กรุณาป้อนตัวเลข 1-10 : \"))\n",
    "    if n >= 11:\n",
    "        print (\"คุณป้อนตัวเลขไม่ถูกต้อง !!\")\n",
    "        break\n",
    "    if n <= 10:\n",
    "        j = n * i\n",
    "    print (\"ผลคูณระหว่าง %d x %d = \" %(i, n), j)\n",
    "print (\"สิ้นสุดการทำงานของโปรแกรม\")"
   ]
  },
  {
   "cell_type": "code",
   "execution_count": null,
   "metadata": {},
   "outputs": [],
   "source": []
  }
 ],
 "metadata": {
  "kernelspec": {
   "display_name": "Python 3",
   "language": "python",
   "name": "python3"
  },
  "language_info": {
   "codemirror_mode": {
    "name": "ipython",
    "version": 3
   },
   "file_extension": ".py",
   "mimetype": "text/x-python",
   "name": "python",
   "nbconvert_exporter": "python",
   "pygments_lexer": "ipython3",
   "version": "3.7.4"
  }
 },
 "nbformat": 4,
 "nbformat_minor": 2
}
