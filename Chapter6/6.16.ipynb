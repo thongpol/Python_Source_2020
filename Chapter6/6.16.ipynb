{
 "cells": [
  {
   "cell_type": "code",
   "execution_count": 1,
   "metadata": {},
   "outputs": [
    {
     "name": "stdout",
     "output_type": "stream",
     "text": [
      "ชื่อชนิดกีฬาตำแหน่งที่ 0 คือ Running\n",
      "ชื่อชนิดกีฬาตำแหน่งที่ 1 คือ Swimming\n",
      "ชื่อชนิดกีฬาตำแหน่งที่ 2 คือ Tennis\n",
      "ชื่อชนิดกีฬาตำแหน่งที่ 3 คือ Racing\n",
      "ชื่อชนิดกีฬาตำแหน่งที่ 4 คือ Football\n",
      "Done !!\n"
     ]
    }
   ],
   "source": [
    "sports = [\"Running\", \"Swimming\", \"Tennis\", \"Racing\", \"Football\"]\n",
    "i=0\n",
    "for sport in range(len(sports)):\n",
    "    print(\"ชื่อชนิดกีฬาตำแหน่งที่ %d คือ\" %(i), sports[sport])\n",
    "    i = i+1\n",
    "else:\n",
    "    print(\"Done !!\") # แสดงผลหลังคำสั่ง for แสดงผลตัวแปร sports ครบทุกตำแหน่ง "
   ]
  },
  {
   "cell_type": "code",
   "execution_count": null,
   "metadata": {},
   "outputs": [],
   "source": []
  }
 ],
 "metadata": {
  "kernelspec": {
   "display_name": "Python 3",
   "language": "python",
   "name": "python3"
  },
  "language_info": {
   "codemirror_mode": {
    "name": "ipython",
    "version": 3
   },
   "file_extension": ".py",
   "mimetype": "text/x-python",
   "name": "python",
   "nbconvert_exporter": "python",
   "pygments_lexer": "ipython3",
   "version": "3.7.4"
  }
 },
 "nbformat": 4,
 "nbformat_minor": 2
}
