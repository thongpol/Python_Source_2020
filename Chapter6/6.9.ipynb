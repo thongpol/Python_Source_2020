{
 "cells": [
  {
   "cell_type": "code",
   "execution_count": 1,
   "metadata": {},
   "outputs": [
    {
     "name": "stdout",
     "output_type": "stream",
     "text": [
      "ป้อนตัวเลขจำนวนเต็ม ครั้งที่ 1 = 45\n",
      "ป้อนตัวเลขจำนวนเต็ม ครั้งที่ 2 = 23\n",
      "ป้อนตัวเลขจำนวนเต็ม ครั้งที่ 3 = 56\n",
      "ป้อนตัวเลขจำนวนเต็ม ครั้งที่ 4 = 49\n",
      "ป้อนตัวเลขจำนวนเต็ม ครั้งที่ 5 = 69\n",
      "ตัวเลขที่คุณป้อน = [45, 23, 56, 49, 69]\n",
      "ตัวเลขค่าที่น้อยที่สุด =  23\n",
      "ตัวเลขค่าที่มากที่สุด =  69\n",
      "ผลบวกตัวเลขทั้งหมด =  242\n"
     ]
    }
   ],
   "source": [
    "i = 1 # สร้างตัวแปรและกำหนดค่าเริ่มต้นในการตรวจสอบเงื่อนไข\n",
    "num =[] # สร้างตัวแปรเป็นชนิดข้อมูลลิสต์\n",
    "while i <= 5: # ตรวจสอบค่าตัวแปร i น้อยกว่าหรือเท่ากับ 5 หรือไม่\n",
    "    n = int(input(\"ป้อนตัวเลขจำนวนเต็ม ครั้งที่ %d = \" %i)) \n",
    "    # ถ้าเป็นจริง จะให้ป้อนจำนวนเต็ม\n",
    "    num.append(n) # เพิ่มค่าตัวแปร n เก็บไว้ในลิสต์ num \n",
    "    i = i + 1 # เพิ่มค่าตัวแปร i ด้วยการบวก 1 \n",
    "print (\"ตัวเลขที่คุณป้อน = %s\" %num) # แสดงผลจากค่าลิสต์ num\n",
    "print (\"ตัวเลขค่าที่น้อยที่สุด = \", min(num)) # แสดงผลค่าที่น้อยที่สุดจากลิสต์ num\n",
    "print (\"ตัวเลขค่าที่มากที่สุด = \", max(num)) # แสดงผลค่าที่มากที่สุดจากลิสต์ num\n",
    "print (\"ผลบวกตัวเลขทั้งหมด = \", sum(num)) # แสดงผลผลรวมจากลิสต์ num"
   ]
  },
  {
   "cell_type": "code",
   "execution_count": null,
   "metadata": {},
   "outputs": [],
   "source": []
  }
 ],
 "metadata": {
  "kernelspec": {
   "display_name": "Python 3",
   "language": "python",
   "name": "python3"
  },
  "language_info": {
   "codemirror_mode": {
    "name": "ipython",
    "version": 3
   },
   "file_extension": ".py",
   "mimetype": "text/x-python",
   "name": "python",
   "nbconvert_exporter": "python",
   "pygments_lexer": "ipython3",
   "version": "3.7.4"
  }
 },
 "nbformat": 4,
 "nbformat_minor": 2
}
