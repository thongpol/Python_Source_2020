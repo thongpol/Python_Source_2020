{
 "cells": [
  {
   "cell_type": "code",
   "execution_count": 1,
   "metadata": {
    "scrolled": true
   },
   "outputs": [
    {
     "name": "stdout",
     "output_type": "stream",
     "text": [
      "2 *  1 = 2    3 *  1 = 3    4 *  1 = 4    5 *  1 = 5    6 *  1 = 6    \n",
      "2 *  2 = 4    3 *  2 = 6    4 *  2 = 8    5 *  2 = 10   6 *  2 = 12   \n",
      "2 *  3 = 6    3 *  3 = 9    4 *  3 = 12   5 *  3 = 15   6 *  3 = 18   \n",
      "2 *  4 = 8    3 *  4 = 12   4 *  4 = 16   5 *  4 = 20   6 *  4 = 24   \n",
      "2 *  5 = 10   3 *  5 = 15   4 *  5 = 20   5 *  5 = 25   6 *  5 = 30   \n",
      "2 *  6 = 12   3 *  6 = 18   4 *  6 = 24   5 *  6 = 30   6 *  6 = 36   \n",
      "2 *  7 = 14   3 *  7 = 21   4 *  7 = 28   5 *  7 = 35   6 *  7 = 42   \n",
      "2 *  8 = 16   3 *  8 = 24   4 *  8 = 32   5 *  8 = 40   6 *  8 = 48   \n",
      "2 *  9 = 18   3 *  9 = 27   4 *  9 = 36   5 *  9 = 45   6 *  9 = 54   \n",
      "2 * 10 = 20   3 * 10 = 30   4 * 10 = 40   5 * 10 = 50   6 * 10 = 60   \n",
      "2 * 11 = 22   3 * 11 = 33   4 * 11 = 44   5 * 11 = 55   6 * 11 = 66   \n",
      "2 * 12 = 24   3 * 12 = 36   4 * 12 = 48   5 * 12 = 60   6 * 12 = 72   \n"
     ]
    }
   ],
   "source": [
    "for i in range(1, 13):\n",
    "    for j in range(2, 7):\n",
    "        # แสดงผลลัพธ์โดยมีการจัด format ดูรายละเอียดได้ที่หน้า 73\n",
    "        print (\"{}{}{:2}{:2}{:<2}\".format(j,\" * \", i, \" = \", j * i),\n",
    "               end = \"   \")\n",
    "    print ()"
   ]
  },
  {
   "cell_type": "code",
   "execution_count": null,
   "metadata": {},
   "outputs": [],
   "source": []
  }
 ],
 "metadata": {
  "kernelspec": {
   "display_name": "Python 3",
   "language": "python",
   "name": "python3"
  },
  "language_info": {
   "codemirror_mode": {
    "name": "ipython",
    "version": 3
   },
   "file_extension": ".py",
   "mimetype": "text/x-python",
   "name": "python",
   "nbconvert_exporter": "python",
   "pygments_lexer": "ipython3",
   "version": "3.7.4"
  }
 },
 "nbformat": 4,
 "nbformat_minor": 2
}
