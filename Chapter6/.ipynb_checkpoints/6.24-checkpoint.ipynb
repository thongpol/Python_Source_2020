{
 "cells": [
  {
   "cell_type": "code",
   "execution_count": 1,
   "metadata": {},
   "outputs": [
    {
     "name": "stdout",
     "output_type": "stream",
     "text": [
      "ป้อนเงินเดือนพนักงาน = 36000\n",
      "เงินโบนัส = 108000 บาท\n",
      "สิ้นสุดการทำงานของโปรแกรม\n"
     ]
    }
   ],
   "source": [
    "salary = int(input(\"ป้อนเงินเดือนพนักงาน = \"))\n",
    "if salary <= 30000:\n",
    "    pass\n",
    "elif salary <= 35000:\n",
    "    pass\n",
    "elif salary <= 40000:\n",
    "    bonus = salary * 3\n",
    "    print (\"เงินโบนัส =\", bonus, \"บาท\")\n",
    "else:\n",
    "    bonus = salary * 2\n",
    "    print (\"เงินโบนัส =\", bonus, \"บาท\")\n",
    "print (\"สิ้นสุดการทำงานของโปรแกรม\")"
   ]
  },
  {
   "cell_type": "code",
   "execution_count": null,
   "metadata": {},
   "outputs": [],
   "source": []
  }
 ],
 "metadata": {
  "kernelspec": {
   "display_name": "Python 3",
   "language": "python",
   "name": "python3"
  },
  "language_info": {
   "codemirror_mode": {
    "name": "ipython",
    "version": 3
   },
   "file_extension": ".py",
   "mimetype": "text/x-python",
   "name": "python",
   "nbconvert_exporter": "python",
   "pygments_lexer": "ipython3",
   "version": "3.7.4"
  }
 },
 "nbformat": 4,
 "nbformat_minor": 2
}
