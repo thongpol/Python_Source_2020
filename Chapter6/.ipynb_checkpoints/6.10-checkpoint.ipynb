{
 "cells": [
  {
   "cell_type": "code",
   "execution_count": null,
   "metadata": {},
   "outputs": [
    {
     "name": "stdout",
     "output_type": "stream",
     "text": [
      "กรุณาป้อนตัวเลข : 34\n",
      "กรุณาป้อนตัวเลข : 45\n",
      "กรุณาป้อนตัวเลข : 67\n",
      "กรุณาป้อนตัวเลข : 23\n",
      "กรุณาป้อนตัวเลข : 12\n"
     ]
    }
   ],
   "source": [
    "i = 1\n",
    "num = []\n",
    "while i > 0:\n",
    "    n = float(input(\"กรุณาป้อนตัวเลข : \"))\n",
    "    num.append(n)\n",
    "    i = i + 1\n",
    "print (\"จำนวนตัวเลขที่คุณป้อน : \", num)"
   ]
  },
  {
   "cell_type": "code",
   "execution_count": null,
   "metadata": {},
   "outputs": [],
   "source": []
  }
 ],
 "metadata": {
  "kernelspec": {
   "display_name": "Python 3",
   "language": "python",
   "name": "python3"
  },
  "language_info": {
   "codemirror_mode": {
    "name": "ipython",
    "version": 3
   },
   "file_extension": ".py",
   "mimetype": "text/x-python",
   "name": "python",
   "nbconvert_exporter": "python",
   "pygments_lexer": "ipython3",
   "version": "3.7.4"
  }
 },
 "nbformat": 4,
 "nbformat_minor": 2
}
