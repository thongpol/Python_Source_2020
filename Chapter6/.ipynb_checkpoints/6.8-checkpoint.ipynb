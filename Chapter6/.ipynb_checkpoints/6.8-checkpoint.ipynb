{
 "cells": [
  {
   "cell_type": "code",
   "execution_count": 1,
   "metadata": {
    "scrolled": true
   },
   "outputs": [
    {
     "name": "stdout",
     "output_type": "stream",
     "text": [
      "Hello\n",
      "Hello\n",
      "Hello\n",
      "Hello\n",
      "Hello\n"
     ]
    }
   ],
   "source": [
    "i = 1 # สร้างตัวแปรและกำหนดค่าเริ่มต้นในการตรวจสอบเงื่อนไข\n",
    "while i <= 5: # ตรวจสอบค่าตัวแปร i น้อยกว่าหรือเท่ากับ 5 หรือไม่\n",
    "    print (\"Hello\") # ถ้าเงื่อนไขเป็นจริง ให้แสดงผลลัพธ์\n",
    "    i = i + 1 # เพิ่มค่าตัวแปร i ด้วยการบวก 1"
   ]
  },
  {
   "cell_type": "code",
   "execution_count": null,
   "metadata": {},
   "outputs": [],
   "source": []
  }
 ],
 "metadata": {
  "kernelspec": {
   "display_name": "Python 3",
   "language": "python",
   "name": "python3"
  },
  "language_info": {
   "codemirror_mode": {
    "name": "ipython",
    "version": 3
   },
   "file_extension": ".py",
   "mimetype": "text/x-python",
   "name": "python",
   "nbconvert_exporter": "python",
   "pygments_lexer": "ipython3",
   "version": "3.7.4"
  }
 },
 "nbformat": 4,
 "nbformat_minor": 2
}
