{
 "cells": [
  {
   "cell_type": "code",
   "execution_count": 2,
   "metadata": {},
   "outputs": [
    {
     "name": "stdout",
     "output_type": "stream",
     "text": [
      "กรุณาป้อนจำนวนเงิน = 36000\n",
      "Buy = Galaxy S10+\n"
     ]
    }
   ],
   "source": [
    "money = int(input(\"กรุณาป้อนจำนวนเงิน = \")) # รอรับการป้อนข้อมูลเป็นจำนวนเต็ม\n",
    "if money >= 30000: # ตรวจสอบค่าตัวแปร money มากกว่า 30000 หรือไม่\n",
    "    if money >= 35000: # ถ้าบรรทัดที่ 2 เป็นจริง ให้ตรวจสอบค่าตัวแปร money อีกครั้ง\n",
    "        print(\"Buy = Galaxy S10+\") # แสดงผล ถ้าบรรทัดที่ 3 เป็นจริง  \n",
    "    else:\n",
    "        print (\"Buy = Galaxy S10\") # แสดงผล ถ้าบรรทัดที่ 3 เป็นเท็จ\n",
    "elif money >= 20000: # ถ้าบรรทัดที่ 2 เป็นเท็จ ให้ตรวจสอบค่าตัวแปร money อีกครั้ง\n",
    "    if money >= 25000: # ถ้าบรรทัดที่ 7 เป็นจริง ให้ตรวจสอบค่าตัวแปร money อีกครั้ง\n",
    "        print (\"Buy = Galaxy S9+\") # แสดงผล ถ้าบรรทัดที่ 8 เป็นจริง\n",
    "    else:\n",
    "        print (\"Buy = Galaxy S9\") # แสดงผล ถ้าบรรทัดที่ 8 เป็นเท็จ\n",
    "else:\n",
    "    print (\"You can’t buy phone.\") # แสดงผล เมื่อไม่ตรงกับเงื่อนไขใดๆ "
   ]
  },
  {
   "cell_type": "code",
   "execution_count": null,
   "metadata": {},
   "outputs": [],
   "source": []
  }
 ],
 "metadata": {
  "kernelspec": {
   "display_name": "Python 3",
   "language": "python",
   "name": "python3"
  },
  "language_info": {
   "codemirror_mode": {
    "name": "ipython",
    "version": 3
   },
   "file_extension": ".py",
   "mimetype": "text/x-python",
   "name": "python",
   "nbconvert_exporter": "python",
   "pygments_lexer": "ipython3",
   "version": "3.7.4"
  }
 },
 "nbformat": 4,
 "nbformat_minor": 2
}
