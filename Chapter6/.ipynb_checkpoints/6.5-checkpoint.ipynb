{
 "cells": [
  {
   "cell_type": "code",
   "execution_count": 2,
   "metadata": {},
   "outputs": [
    {
     "name": "stdout",
     "output_type": "stream",
     "text": [
      "กรุณาป้อนอายุของคุณ = 25\n",
      "You are young.\n"
     ]
    }
   ],
   "source": [
    "age = int(input(\"กรุณาป้อนอายุของคุณ = \")) # รอรับการป้อนข้อมูลเป็นจำนวนเต็ม\n",
    "if age > 35: # ตรวจสอบค่าตัวแปร age มากกว่า 35 หรือไม่\n",
    "    print(\"You are old.\") # แสดงผลลัพธ์\n",
    "else: # ตรวจสอบแล้วเป็นเท็จคือค่าตัวแปร age น้อยกว่า 35\n",
    "    print (\"You are young.\")# แสดงผลลัพธ์"
   ]
  },
  {
   "cell_type": "code",
   "execution_count": null,
   "metadata": {},
   "outputs": [],
   "source": []
  }
 ],
 "metadata": {
  "kernelspec": {
   "display_name": "Python 3",
   "language": "python",
   "name": "python3"
  },
  "language_info": {
   "codemirror_mode": {
    "name": "ipython",
    "version": 3
   },
   "file_extension": ".py",
   "mimetype": "text/x-python",
   "name": "python",
   "nbconvert_exporter": "python",
   "pygments_lexer": "ipython3",
   "version": "3.7.4"
  }
 },
 "nbformat": 4,
 "nbformat_minor": 2
}
