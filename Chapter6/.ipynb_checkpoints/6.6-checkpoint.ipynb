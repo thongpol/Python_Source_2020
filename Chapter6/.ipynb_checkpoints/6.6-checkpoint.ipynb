{
 "cells": [
  {
   "cell_type": "code",
   "execution_count": 1,
   "metadata": {},
   "outputs": [
    {
     "name": "stdout",
     "output_type": "stream",
     "text": [
      "กรุณาป้อนขนาดหน้าอก = 37\n",
      "Size = M\n"
     ]
    }
   ],
   "source": [
    "size = int(input(\"กรุณาป้อนขนาดหน้าอก = \")) # รอรับการป้อนข้อมูลเป็นจำนวนเต็ม\n",
    "if size <= 34: # ตรวจสอบค่าตัวแปร size น้อยกว่าหรือเท่ากับ 34 หรือไม่\n",
    "    print (\"Size = XS\") # แสดงผลลัพธ์ ถ้าเงื่อนไขบรรทัดที่ 2 เป็นจริง \n",
    "elif size <= 36: # ตรวจสอบค่าตัวแปร size น้อยกว่าหรือเท่ากับ 36 หรือไม่\n",
    "    print (\"Size = S\") # แสดงผลลัพธ์ ถ้าเงื่อนไขบรรทัดที่ 4 เป็นจริง \n",
    "elif size <= 38: # ตรวจสอบค่าตัวแปร size น้อยกว่าหรือเท่ากับ 38 หรือไม่\n",
    "    print (\"Size = M\") # แสดงผลลัพธ์ ถ้าเงื่อนไขบรรทัดที่ 6 เป็นจริง \n",
    "elif size <= 40: # ตรวจสอบค่าตัวแปร size น้อยกว่าหรือเท่ากับ 40 หรือไม่\n",
    "    print(\"Size = L\") # แสดงผลลัพธ์ ถ้าเงื่อนไขบรรทัดที่ 8 เป็นจริง \n",
    "else: # ถ้าค่าตัวแปร Size มากกว่า 40 \n",
    "    print (\"Size = XL\") # แสดงผลลัพธ์ ถ้าไม่ตรงกับเงื่อนไขใดๆ "
   ]
  },
  {
   "cell_type": "code",
   "execution_count": null,
   "metadata": {},
   "outputs": [],
   "source": []
  }
 ],
 "metadata": {
  "kernelspec": {
   "display_name": "Python 3",
   "language": "python",
   "name": "python3"
  },
  "language_info": {
   "codemirror_mode": {
    "name": "ipython",
    "version": 3
   },
   "file_extension": ".py",
   "mimetype": "text/x-python",
   "name": "python",
   "nbconvert_exporter": "python",
   "pygments_lexer": "ipython3",
   "version": "3.7.4"
  }
 },
 "nbformat": 4,
 "nbformat_minor": 2
}
