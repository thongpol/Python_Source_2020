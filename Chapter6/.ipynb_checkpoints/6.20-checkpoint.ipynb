{
 "cells": [
  {
   "cell_type": "code",
   "execution_count": 1,
   "metadata": {},
   "outputs": [
    {
     "name": "stdout",
     "output_type": "stream",
     "text": [
      "ป้อนจำนวนนักเรียน = 2\n",
      "นักเรียนคนที่  1\n",
      "กรอกคะแนนครั้งที่ 1 = 25\n",
      "กรอกคะแนนครั้งที่ 2 = 12\n",
      "กรอกคะแนนครั้งที่ 3 = 23\n",
      "นักเรียนคนที่ 1 ได้คะแนน =  [25.0, 12.0, 23.0] คะแนนรวม = 60.0 เกรด = C\n",
      "นักเรียนคนที่  2\n",
      "กรอกคะแนนครั้งที่ 1 = 15\n",
      "กรอกคะแนนครั้งที่ 2 = 26\n",
      "กรอกคะแนนครั้งที่ 3 = 30\n",
      "นักเรียนคนที่ 2 ได้คะแนน =  [15.0, 26.0, 30.0] คะแนนรวม = 71.0 เกรด = B\n"
     ]
    }
   ],
   "source": [
    "stu = int(input(\"ป้อนจำนวนนักเรียน = \"))\n",
    "for i in range(1, stu + 1):\n",
    "    j = 1\n",
    "    lst = []\n",
    "    print (\"นักเรียนคนที่ \", i)\n",
    "    while j <= 3:\n",
    "        n = float(input(\"กรอกคะแนนครั้งที่ %d = \" %j))\n",
    "        lst.append(n)\n",
    "        j += 1\n",
    "    if sum(lst) <= 49:\n",
    "        print (\"นักเรียนคนที่ %d ได้คะแนน = \" %i, lst, \"คะแนนรวม =\", \n",
    "               sum(lst), \"เกรด = F\")\n",
    "    elif sum(lst) <= 59:\n",
    "        print (\"นักเรียนคนที่ %d ได้คะแนน = \" %i, lst, \"คะแนนรวม =\", \n",
    "               sum(lst), \"เกรด = D\")\n",
    "    elif sum(lst) <= 69:\n",
    "        print (\"นักเรียนคนที่ %d ได้คะแนน = \" %i, lst, \"คะแนนรวม =\", \n",
    "               sum(lst), \"เกรด = C\")\n",
    "    elif sum(lst) <= 79:\n",
    "        print (\"นักเรียนคนที่ %d ได้คะแนน = \" %i, lst, \"คะแนนรวม =\", \n",
    "               sum(lst), \"เกรด = B\")\n",
    "    else:\n",
    "        print (\"นักเรียนคนที่ %d ได้คะแนน = \" %i, lst, \"คะแนนรวม =\", \n",
    "               sum(lst), \"เกรด = A\")"
   ]
  },
  {
   "cell_type": "code",
   "execution_count": null,
   "metadata": {},
   "outputs": [],
   "source": []
  }
 ],
 "metadata": {
  "kernelspec": {
   "display_name": "Python 3",
   "language": "python",
   "name": "python3"
  },
  "language_info": {
   "codemirror_mode": {
    "name": "ipython",
    "version": 3
   },
   "file_extension": ".py",
   "mimetype": "text/x-python",
   "name": "python",
   "nbconvert_exporter": "python",
   "pygments_lexer": "ipython3",
   "version": "3.7.4"
  }
 },
 "nbformat": 4,
 "nbformat_minor": 2
}
