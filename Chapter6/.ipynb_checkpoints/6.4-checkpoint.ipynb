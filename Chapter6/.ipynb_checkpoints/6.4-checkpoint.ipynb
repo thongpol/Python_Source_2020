{
 "cells": [
  {
   "cell_type": "code",
   "execution_count": 1,
   "metadata": {},
   "outputs": [
    {
     "name": "stdout",
     "output_type": "stream",
     "text": [
      "กรุณาป้อนเงินเดือน = 9500\n",
      "รายได้สุทธิ = 11500\n",
      "The program is done !!\n"
     ]
    }
   ],
   "source": [
    "salary = int(input(\"กรุณาป้อนเงินเดือน = \"))\n",
    "if salary < 10000:\n",
    "    salary = salary + 2000\n",
    "    print(\"รายได้สุทธิ =\", salary)\n",
    "print (\"The program is done !!\")"
   ]
  },
  {
   "cell_type": "code",
   "execution_count": null,
   "metadata": {},
   "outputs": [],
   "source": []
  }
 ],
 "metadata": {
  "kernelspec": {
   "display_name": "Python 3",
   "language": "python",
   "name": "python3"
  },
  "language_info": {
   "codemirror_mode": {
    "name": "ipython",
    "version": 3
   },
   "file_extension": ".py",
   "mimetype": "text/x-python",
   "name": "python",
   "nbconvert_exporter": "python",
   "pygments_lexer": "ipython3",
   "version": "3.7.4"
  }
 },
 "nbformat": 4,
 "nbformat_minor": 2
}
