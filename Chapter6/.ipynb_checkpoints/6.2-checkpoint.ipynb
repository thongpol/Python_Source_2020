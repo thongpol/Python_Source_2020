{
 "cells": [
  {
   "cell_type": "code",
   "execution_count": 1,
   "metadata": {},
   "outputs": [
    {
     "name": "stdout",
     "output_type": "stream",
     "text": [
      "ชื่อพนักงาน = Nirat\n",
      "เงินเดือน = 30000\n",
      "จำนวนชั่วโมงที่ทำงานล่วงเวลา = 15\n",
      "ค่าทำงานล่วงเวลา 15 * 20  = 300.00 บาท\n",
      "ค่า bonus 30000 * 0.5 = 15000.00 บาท\n",
      "รวม OT และ bonus 300.00 + 15000.00 = 15300.00 บาท\n",
      "รายได้สุทธิ 30000 + 15300.00 = 45300.00 บาท\n"
     ]
    }
   ],
   "source": [
    "name = str(input(\"ชื่อพนักงาน = \"))\n",
    "salary = int(input(\"เงินเดือน = \"))\n",
    "OT = int(input(\"จำนวนชั่วโมงที่ทำงานล่วงเวลา = \"))\n",
    "cal_ot = OT * 20\n",
    "bonus = salary * 0.5\n",
    "ot_bonus = cal_ot + bonus\n",
    "salary_total = salary + ot_bonus\n",
    "print (\"ค่าทำงานล่วงเวลา %d * 20  = %.2f\" %(OT,cal_ot), \"บาท\")\n",
    "print (\"ค่า bonus %d * 0.5 = %.2f\" %(salary,bonus), \"บาท\")\n",
    "print (\"รวม OT และ bonus %.2f + %.2f = %.2f\" %(cal_ot,bonus,ot_bonus),\"บาท\")\n",
    "print (\"รายได้สุทธิ %d + %.2f = %.2f\" %(salary,ot_bonus,salary_total), \"บาท\")"
   ]
  },
  {
   "cell_type": "code",
   "execution_count": null,
   "metadata": {},
   "outputs": [],
   "source": []
  }
 ],
 "metadata": {
  "kernelspec": {
   "display_name": "Python 3",
   "language": "python",
   "name": "python3"
  },
  "language_info": {
   "codemirror_mode": {
    "name": "ipython",
    "version": 3
   },
   "file_extension": ".py",
   "mimetype": "text/x-python",
   "name": "python",
   "nbconvert_exporter": "python",
   "pygments_lexer": "ipython3",
   "version": "3.7.4"
  }
 },
 "nbformat": 4,
 "nbformat_minor": 2
}
