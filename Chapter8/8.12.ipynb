{
 "cells": [
  {
   "cell_type": "code",
   "execution_count": 1,
   "metadata": {},
   "outputs": [
    {
     "name": "stdout",
     "output_type": "stream",
     "text": [
      "เขียนไฟล์สำเร็จ\n"
     ]
    }
   ],
   "source": [
    "import csv # import โมดูล csv เพื่อเรียกใช้คำสั่งจัดการกับไฟล์ .csv\n",
    "try:\n",
    "    # เชื่อมต่อไฟล์ด้วยคำสั่ง with เพื่อเขียนข้อมูล\n",
    "    with open(r\"D:\\Document\\PythonFiles\\Fruits.csv\", \"w+\", newline=\"\") as file: \n",
    "        csvfile = csv.writer(file)\n",
    "        csvfile.writerow([\"Apple\", \"Mango\", \"Watermelon\"])\n",
    "        csvfile.writerow([\"Banana\", \"Lime\", \"Orange\"]) # เขียนข้อความลงไฟล์ด้วยเมธอด writerow()\n",
    "        csvfile.writerow([\"Grapes\", \"Coconut\", \"Lemon\"])\n",
    "except (FileExistsError, FileNotFoundError):\n",
    "    print(\"ไฟล์ถูกสร้างไว้แล้ว หรือ ไม่พบตำแหน่งที่ระบุ\") # แจ้งเตือนเมื่อมีข้อผิดพลาด\n",
    "else:\n",
    "    print(\"เขียนไฟล์สำเร็จ\") #แสดงผลเมื่อไม่พบข้อผิดพลาด"
   ]
  },
  {
   "cell_type": "code",
   "execution_count": null,
   "metadata": {},
   "outputs": [],
   "source": []
  }
 ],
 "metadata": {
  "kernelspec": {
   "display_name": "Python 3",
   "language": "python",
   "name": "python3"
  },
  "language_info": {
   "codemirror_mode": {
    "name": "ipython",
    "version": 3
   },
   "file_extension": ".py",
   "mimetype": "text/x-python",
   "name": "python",
   "nbconvert_exporter": "python",
   "pygments_lexer": "ipython3",
   "version": "3.7.4"
  }
 },
 "nbformat": 4,
 "nbformat_minor": 2
}
