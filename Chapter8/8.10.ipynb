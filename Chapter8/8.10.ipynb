{
 "cells": [
  {
   "cell_type": "code",
   "execution_count": null,
   "metadata": {},
   "outputs": [],
   "source": [
    "header = (\"{:<10}{:<10}{:<10}{:<10}{:<10}{:<10}\\n\".format(\"Students\",\"Score\", \n",
    "                                                          \"MidTerm \",\"Final\",\"Total \", \"Grade\"))\n",
    "file = open(r\"D:\\Document\\PythonFiles\\Score.txt\", \"a\", encoding = \"utf-8\")\n",
    "file.write(header)\n",
    "j = 0\n",
    "stu = int(input(\"ป้อนจำนวนนักเรียน = \"))\n",
    "while j < stu:\n",
    "    stuID = int(input(\"รหัสนักศึกษา = \"))\n",
    "    score = float(input(\"ป้อนคะแนนเก็บ = \"))\n",
    "    midterm = float(input(\"ป้อนคะแนนกลางภาค = \"))\n",
    "    final = float(input(\"ป้อนคะแนนปลายภาค = \"))\n",
    "    total = score + midterm + final\n",
    "    if total < 50:\n",
    "        grade = \"F\"\n",
    "    elif total < 60:\n",
    "        grade = \"D\"\n",
    "    elif total < 70:\n",
    "        grade = \"C\"\n",
    "    elif total < 80:\n",
    "        grade = \"B\"\n",
    "    else:\n",
    "        grade = \"A\"\n",
    "    print (\"StudentID = \", stuID, \"Score = \", score, \"Midterm = \", midterm, \n",
    "           \"Final = \", final, \"Total = \", total, \"Grad = \", grade)\n",
    "    file.write(\"{:<10}{:<10}{:<10}{:<10}{:<10}{:<10}\\n\".format(stuID, score,  midterm, \n",
    "                                                               final,total,grade))\n",
    "    j += 1\n",
    "file.close()"
   ]
  },
  {
   "cell_type": "code",
   "execution_count": null,
   "metadata": {},
   "outputs": [],
   "source": []
  }
 ],
 "metadata": {
  "kernelspec": {
   "display_name": "Python 3",
   "language": "python",
   "name": "python3"
  },
  "language_info": {
   "codemirror_mode": {
    "name": "ipython",
    "version": 3
   },
   "file_extension": ".py",
   "mimetype": "text/x-python",
   "name": "python",
   "nbconvert_exporter": "python",
   "pygments_lexer": "ipython3",
   "version": "3.7.4"
  }
 },
 "nbformat": 4,
 "nbformat_minor": 2
}
