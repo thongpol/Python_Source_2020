{
 "cells": [
  {
   "cell_type": "code",
   "execution_count": null,
   "metadata": {},
   "outputs": [],
   "source": [
    "import json # import โมดูล json เพื่อเรียกใช้คำสั่งจัดการกับไฟล์ .json\n",
    "with open(r\"D:\\PythonFiles\\data.json\", \"r\") as file: # เปิดไฟล์ขึ้นในโหมด r \n",
    "    data = json.load(file) # ใช้เมธอด json.load() แปลงข้อมูล\n",
    "    print (\"{:5} {:10} {:10} {:20} {}\".format(\"ID\",\"Fname\",\"Lname\",\"Email\",\"Tel.\"))\n",
    "    for row in data[\"teachers\"]: # ใช้คำสั่ง for อ่านข้อมูลออกมาแสดงผล\n",
    "        print (\"{:5} {:10} {:10} {:20} {}\".format(row[\"teacher_id\"],\\\n",
    "              row[\"f_name\"],row[\"l_name\"],row[\"e_mail\"],row[\"tel\"]))"
   ]
  },
  {
   "cell_type": "code",
   "execution_count": null,
   "metadata": {},
   "outputs": [],
   "source": []
  }
 ],
 "metadata": {
  "kernelspec": {
   "display_name": "Python 3",
   "language": "python",
   "name": "python3"
  },
  "language_info": {
   "codemirror_mode": {
    "name": "ipython",
    "version": 3
   },
   "file_extension": ".py",
   "mimetype": "text/x-python",
   "name": "python",
   "nbconvert_exporter": "python",
   "pygments_lexer": "ipython3",
   "version": "3.7.4"
  }
 },
 "nbformat": 4,
 "nbformat_minor": 2
}
