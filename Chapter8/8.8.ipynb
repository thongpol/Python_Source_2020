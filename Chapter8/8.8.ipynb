{
 "cells": [
  {
   "cell_type": "code",
   "execution_count": 4,
   "metadata": {},
   "outputs": [
    {
     "name": "stdout",
     "output_type": "stream",
     "text": [
      "Python is easy programming language.\n",
      "Python is easy to learn.\n",
      "Python is widely used.\n",
      "Python is easy first programming.\n",
      "Python is a powerful programming language.\n"
     ]
    }
   ],
   "source": [
    "with open(r\"D:\\Document\\PythonFiles\\PythonFile.txt\", \"r\") as file:\n",
    "    print (file.read())"
   ]
  }
 ],
 "metadata": {
  "kernelspec": {
   "display_name": "Python 3",
   "language": "python",
   "name": "python3"
  },
  "language_info": {
   "codemirror_mode": {
    "name": "ipython",
    "version": 3
   },
   "file_extension": ".py",
   "mimetype": "text/x-python",
   "name": "python",
   "nbconvert_exporter": "python",
   "pygments_lexer": "ipython3",
   "version": "3.7.4"
  }
 },
 "nbformat": 4,
 "nbformat_minor": 2
}
