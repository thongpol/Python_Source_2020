{
 "cells": [
  {
   "cell_type": "code",
   "execution_count": 3,
   "metadata": {},
   "outputs": [
    {
     "name": "stdout",
     "output_type": "stream",
     "text": [
      "กำหนดตำแหน่งสร้างไฟล์ผิดพลาด\n"
     ]
    }
   ],
   "source": [
    "try: # ตรวจสอบข้อผิดพลาดของคำสั่งโปรแกรม\n",
    "    with open(r\"D:\\Document\\PythonFiles\\WriteWithFile.txt\", \"w+\") as file:\n",
    "        file.write(\"Python is easy to learn.\")\n",
    "except FileNotFoundError:\n",
    "    print(\"กำหนดตำแหน่งสร้างไฟล์ผิดพลาด\") # แสดงผลเมื่อกำหนดตำแหน่งสร้างไฟล์ไม่ถูกต้อง\n",
    "else:\n",
    "    print(\"เขียนและสร้างไฟล์สำเร็จ\") # แสดงผลเมื่อกำหนดตำแหน่งสร้างไฟล์ถูกต้อง"
   ]
  },
  {
   "cell_type": "code",
   "execution_count": null,
   "metadata": {},
   "outputs": [],
   "source": []
  },
  {
   "cell_type": "code",
   "execution_count": null,
   "metadata": {},
   "outputs": [],
   "source": []
  }
 ],
 "metadata": {
  "kernelspec": {
   "display_name": "Python 3",
   "language": "python",
   "name": "python3"
  },
  "language_info": {
   "codemirror_mode": {
    "name": "ipython",
    "version": 3
   },
   "file_extension": ".py",
   "mimetype": "text/x-python",
   "name": "python",
   "nbconvert_exporter": "python",
   "pygments_lexer": "ipython3",
   "version": "3.7.4"
  }
 },
 "nbformat": 4,
 "nbformat_minor": 2
}
