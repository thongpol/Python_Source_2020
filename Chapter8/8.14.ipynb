{
 "cells": [
  {
   "cell_type": "code",
   "execution_count": 2,
   "metadata": {},
   "outputs": [
    {
     "name": "stdout",
     "output_type": "stream",
     "text": [
      "บันทึกไฟล์สำเร็จ\n"
     ]
    }
   ],
   "source": [
    "import csv # import โมดูล csv เพื่อเรียกใช้คำสั่งจัดการกับไฟล์ .csv\n",
    "try:\n",
    "    with open(r\"D:\\Document\\PythonFiles\\ProLang.csv\", \"w+\", newline=\"\") as csvfile:\n",
    "        prolang = csv.writer(csvfile, delimiter =\"\\t\")\n",
    "        prolang.writerow([\"Jave\", \"C\", \"C#\"])\n",
    "        prolang.writerow([\"HTML\", \"PHP\", \".NET\"])\n",
    "        prolang.writerow([\"Python\", \"R\", \"Scala\"])\n",
    "except FileNotFoundError:\n",
    "    print(\"ตำแหน่งบันทึกไฟล์ไม่ถูกต้อง\")\n",
    "else:\n",
    "    print(\"บันทึกไฟล์สำเร็จ\")"
   ]
  },
  {
   "cell_type": "code",
   "execution_count": null,
   "metadata": {},
   "outputs": [],
   "source": []
  }
 ],
 "metadata": {
  "kernelspec": {
   "display_name": "Python 3",
   "language": "python",
   "name": "python3"
  },
  "language_info": {
   "codemirror_mode": {
    "name": "ipython",
    "version": 3
   },
   "file_extension": ".py",
   "mimetype": "text/x-python",
   "name": "python",
   "nbconvert_exporter": "python",
   "pygments_lexer": "ipython3",
   "version": "3.7.4"
  }
 },
 "nbformat": 4,
 "nbformat_minor": 2
}
