{
 "cells": [
  {
   "cell_type": "code",
   "execution_count": 2,
   "metadata": {},
   "outputs": [
    {
     "name": "stdout",
     "output_type": "stream",
     "text": [
      "เขียนไฟล์ได้หรือไม่ = False\n",
      "อ่านไฟล์ได้หรือไม่ = True\n",
      "เลื่อนตำแหน่งตัวชี้ได้หรือไม่ = <built-in method seekable of _io.TextIOWrapper object at 0x04A36E30>\n",
      "เรียกใช้งานโหมดไฟล์ = r\n",
      "เรียกใช้งานไฟล์ชื่อ = D:\\Document\\PythonFiles\\ThaiLang.txt\n",
      "สถานะของไฟล์ = False\n",
      "สถานะของไฟล์ = True\n"
     ]
    }
   ],
   "source": [
    "file = open(r\"D:\\Document\\PythonFiles\\ThaiLang.txt\", \"r\")\n",
    "print (\"เขียนไฟล์ได้หรือไม่ =\", file.writable())\n",
    "print (\"อ่านไฟล์ได้หรือไม่ =\", file.readable())\n",
    "print (\"เลื่อนตำแหน่งตัวชี้ได้หรือไม่ =\", file.seekable)\n",
    "print (\"เรียกใช้งานโหมดไฟล์ =\", file.mode)\n",
    "print (\"เรียกใช้งานไฟล์ชื่อ =\", file.name)\n",
    "print (\"สถานะของไฟล์ =\", file.closed)\n",
    "file.close()\n",
    "print (\"สถานะของไฟล์ =\", file.closed)"
   ]
  },
  {
   "cell_type": "code",
   "execution_count": null,
   "metadata": {},
   "outputs": [],
   "source": []
  }
 ],
 "metadata": {
  "kernelspec": {
   "display_name": "Python 3",
   "language": "python",
   "name": "python3"
  },
  "language_info": {
   "codemirror_mode": {
    "name": "ipython",
    "version": 3
   },
   "file_extension": ".py",
   "mimetype": "text/x-python",
   "name": "python",
   "nbconvert_exporter": "python",
   "pygments_lexer": "ipython3",
   "version": "3.7.4"
  }
 },
 "nbformat": 4,
 "nbformat_minor": 2
}
