{
 "cells": [
  {
   "cell_type": "code",
   "execution_count": 3,
   "metadata": {
    "scrolled": true
   },
   "outputs": [
    {
     "name": "stdout",
     "output_type": "stream",
     "text": [
      "﻿ภาษาไพธอนเป็นภาษาที่ง่ายต่อการเรียนรู้ เหมาะสมสำหรับผู้เริ่มที่ต้องการฝึกเขียนโปรแกรม\n",
      "ภาษาไพธอนมีไลบรารีจำนวนมากให้เรียกใช้งาน และยังเป็นภาษาโปรแกรมที่นำมาฝึกเขียนได้ฟรี\n",
      "ภาษาไพธอนนำมาพัฒนาโปรแกรมได้หลากหลาย ทั้งเว็บแอปพลิเคชัน GUI Network Mobile\n"
     ]
    }
   ],
   "source": [
    "file = open(r\"D:\\Document\\PythonFiles\\ThaiLang.txt\", encoding=\"utf8\")\n",
    "print (file.read())\n",
    "file.close()"
   ]
  },
  {
   "cell_type": "code",
   "execution_count": null,
   "metadata": {},
   "outputs": [],
   "source": []
  }
 ],
 "metadata": {
  "kernelspec": {
   "display_name": "Python 3",
   "language": "python",
   "name": "python3"
  },
  "language_info": {
   "codemirror_mode": {
    "name": "ipython",
    "version": 3
   },
   "file_extension": ".py",
   "mimetype": "text/x-python",
   "name": "python",
   "nbconvert_exporter": "python",
   "pygments_lexer": "ipython3",
   "version": "3.7.4"
  }
 },
 "nbformat": 4,
 "nbformat_minor": 2
}
