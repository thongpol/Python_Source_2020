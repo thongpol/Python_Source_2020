{
 "cells": [
  {
   "cell_type": "code",
   "execution_count": 1,
   "metadata": {},
   "outputs": [
    {
     "name": "stdout",
     "output_type": "stream",
     "text": [
      "ตำแหน่งตัวชี้ = 0\n",
      "Python is easy to learn and powerful programming language.\n",
      "ตำแหน่งตัวชี้ = 58\n",
      "easy to learn and powerful programming language.\n",
      "\n",
      "ข้อความในไฟล์ MyFile_new.txt = The most beautiful programming\n"
     ]
    }
   ],
   "source": [
    "file = open(r\"D:\\Document\\PythonFiles\\MyFile.txt\",\"r\") # เปิดไฟล์ขึ้นมาอ่าน\n",
    "print (\"ตำแหน่งตัวชี้ =\", file.tell()) # แสดงตัวชี้ตำแหน่งเริ่มต้นด้วยเมธอด tell()\n",
    "print (file.read()) # แสดงผลลัพธ์รวม\n",
    "print (\"ตำแหน่งตัวชี้ =\",file.tell()) # แสดงตัวชี้ตำแหน่งเริ่มต้นด้วยเมธอด tell() อีกครั้ง\n",
    "file.seek(10) # กำหนดให้อ่านข้อความด้วยเมธอด seek()\n",
    "print (file.read()) # แสดงผลข้อความ\n",
    "file.close() # ปิดการเชื่อมต่อกับออบเจ็ค file\n",
    "print()\n",
    "\n",
    "# เปิดไฟล์ขึ้นมาเขียน หากไม่พบจะสร้างไฟล์ใหม่\n",
    "file_n = open(r\"D:\\Document\\PythonFiles\\MyFile_new.txt\",\"w\") \n",
    "# เขียนข้อความลงไฟล์ Myfile_new.txt\n",
    "file_n.write(\"The most beautiful programming language is Python.\")\n",
    "\n",
    "file_n.truncate(30) # ตัดข้อความที่จะเขียนลงไฟล์ด้วยเมธอด truncate() แค่ 30 ตัวอักษรแรก\n",
    "file_n.close() # ปิดการเชื่อมต่อกับออบเจ็ค file_n\n",
    "file_n = open(r\"D:\\Document\\PythonFiles\\MyFile_new.txt\") # เปิดไฟล์ขึ้นมาอ่าน\n",
    "print(\"ข้อความในไฟล์ MyFile_new.txt =\", file_n.read()) # แสดงผลลัพธ์ข้อความที่อยู่ในออบเจ็ค file_n\n",
    "file_n.close()"
   ]
  },
  {
   "cell_type": "code",
   "execution_count": null,
   "metadata": {},
   "outputs": [],
   "source": []
  }
 ],
 "metadata": {
  "kernelspec": {
   "display_name": "Python 3",
   "language": "python",
   "name": "python3"
  },
  "language_info": {
   "codemirror_mode": {
    "name": "ipython",
    "version": 3
   },
   "file_extension": ".py",
   "mimetype": "text/x-python",
   "name": "python",
   "nbconvert_exporter": "python",
   "pygments_lexer": "ipython3",
   "version": "3.7.4"
  }
 },
 "nbformat": 4,
 "nbformat_minor": 2
}
