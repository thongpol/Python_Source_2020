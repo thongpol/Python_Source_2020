{
 "cells": [
  {
   "cell_type": "code",
   "execution_count": 1,
   "metadata": {},
   "outputs": [
    {
     "name": "stdout",
     "output_type": "stream",
     "text": [
      "b'Python is easy to learn.'\n"
     ]
    }
   ],
   "source": [
    "data = b\"Python is easy to learn.\" # สร้างตัวแปร data เก็บข้อความชนิดไบนารี\n",
    "file = open(r\"D:\\Document\\PythonFiles\\Binary.txt\", \"wb\") # สร้างออบเจ็คไฟล์ชื่อ file ในโหมด wb \n",
    "file.write(data) # เขียนค่าตัวแปร data เขียนลงไฟล์ออบเจ็ค file\n",
    "file.close() # ปิดการเชื่อมต่อกับออบเจ็ค file\n",
    "file = open(r\"D:\\Document\\PythonFiles\\Binary.txt\", \"rb\").read() # สร้างออบเจ็คไฟล์ชื่อ file ในโหมด rb\n",
    "print (file) # แสดงผลลัพธ์ในออบเจ็ค file"
   ]
  },
  {
   "cell_type": "code",
   "execution_count": null,
   "metadata": {},
   "outputs": [],
   "source": []
  }
 ],
 "metadata": {
  "kernelspec": {
   "display_name": "Python 3",
   "language": "python",
   "name": "python3"
  },
  "language_info": {
   "codemirror_mode": {
    "name": "ipython",
    "version": 3
   },
   "file_extension": ".py",
   "mimetype": "text/x-python",
   "name": "python",
   "nbconvert_exporter": "python",
   "pygments_lexer": "ipython3",
   "version": "3.7.4"
  }
 },
 "nbformat": 4,
 "nbformat_minor": 2
}
