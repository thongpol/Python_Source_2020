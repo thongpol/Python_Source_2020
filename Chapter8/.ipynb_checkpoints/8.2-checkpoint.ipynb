{
 "cells": [
  {
   "cell_type": "code",
   "execution_count": 3,
   "metadata": {},
   "outputs": [
    {
     "name": "stdout",
     "output_type": "stream",
     "text": [
      "ไม่พบไดเรกทอรีที่ระบุ\n"
     ]
    }
   ],
   "source": [
    "msg = \"Python is easy programming language to learn.\" # ข้อมูลที่ต้องการเขียนลงไฟล์ใหม่\n",
    "try:\n",
    "    # สร้างออบเจ็ค file และสร้างชื่อไฟล์ใหม่ด้วยโหมด w\n",
    "    file = open(r\"D:\\Documents\\PythonFiles\\NewFile.txt\",\"w\")\n",
    "    file.write(msg) # เขียนข้อมูลจากค่าตัวแปร msg ลงออบเจ็ค file \n",
    "    file.close() # ปิดการเชื่อมต่อออบเจ็คไฟล์\n",
    "except FileNotFoundError: # ตรวจสอบข้อผิดพลาดเมื่อไม่พบไฟล์หรือไดเรกทอรี\n",
    "    print(\"ไม่พบไดเรกทอรีที่ระบุ\") # แสดงผลลัพธ์เมื่อระบุตำแหน่งไฟล์ไม่ถูกต้อง\n",
    "else:\n",
    "    print(\"เขียนไฟล์สำเร็จ\") # แสดงผลลัพธ์เมื่อระบุตำแหน่งไฟล์ถูกต้อง"
   ]
  },
  {
   "cell_type": "code",
   "execution_count": null,
   "metadata": {},
   "outputs": [],
   "source": []
  },
  {
   "cell_type": "code",
   "execution_count": null,
   "metadata": {},
   "outputs": [],
   "source": []
  }
 ],
 "metadata": {
  "kernelspec": {
   "display_name": "Python 3",
   "language": "python",
   "name": "python3"
  },
  "language_info": {
   "codemirror_mode": {
    "name": "ipython",
    "version": 3
   },
   "file_extension": ".py",
   "mimetype": "text/x-python",
   "name": "python",
   "nbconvert_exporter": "python",
   "pygments_lexer": "ipython3",
   "version": "3.7.4"
  }
 },
 "nbformat": 4,
 "nbformat_minor": 2
}
