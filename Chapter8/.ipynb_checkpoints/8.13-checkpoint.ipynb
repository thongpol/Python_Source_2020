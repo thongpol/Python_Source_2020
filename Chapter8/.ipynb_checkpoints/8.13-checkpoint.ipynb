{
 "cells": [
  {
   "cell_type": "code",
   "execution_count": 2,
   "metadata": {},
   "outputs": [
    {
     "name": "stdout",
     "output_type": "stream",
     "text": [
      "Apple, Mango, Watermelon\n",
      "Banana, Lime, Orange\n",
      "Grapes, Coconut, Lemon\n"
     ]
    }
   ],
   "source": [
    "import csv # import โมดูล csv เพื่อเรียกใช้คำสั่งจัดการกับไฟล์ .csv\n",
    "try:\n",
    "    file = csv.reader(open(r\"D:\\Document\\PythonFiles\\Fruits.csv\", \"r\"))\n",
    "except FileNotFoundError:\n",
    "    print(\"ไม่พบไฟล์ที่ระบุ\")\n",
    "else:\n",
    "    for data in file:\n",
    "        print (\"{}, {}, {}\".format(data[0], data[1], data[2]))"
   ]
  },
  {
   "cell_type": "code",
   "execution_count": null,
   "metadata": {},
   "outputs": [],
   "source": []
  }
 ],
 "metadata": {
  "kernelspec": {
   "display_name": "Python 3",
   "language": "python",
   "name": "python3"
  },
  "language_info": {
   "codemirror_mode": {
    "name": "ipython",
    "version": 3
   },
   "file_extension": ".py",
   "mimetype": "text/x-python",
   "name": "python",
   "nbconvert_exporter": "python",
   "pygments_lexer": "ipython3",
   "version": "3.7.4"
  }
 },
 "nbformat": 4,
 "nbformat_minor": 2
}
