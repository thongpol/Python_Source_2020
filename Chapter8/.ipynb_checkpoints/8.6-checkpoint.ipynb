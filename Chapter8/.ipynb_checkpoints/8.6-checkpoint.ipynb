{
 "cells": [
  {
   "cell_type": "code",
   "execution_count": 2,
   "metadata": {},
   "outputs": [
    {
     "name": "stdout",
     "output_type": "stream",
     "text": [
      "D:\\Document\\PythonFiles\\MyDirectory\n",
      "คุณสร้างไดเรกทอรีซ้ำ\n"
     ]
    }
   ],
   "source": [
    "import os # import โมดูล os เพื่อเรียกใช้คำสั่งจัดการกับไดเรกทอรี\n",
    "print (os.getcwd()) # แสดงตำแหน่งไดเรกทอรี ณ ปัจจุบันที่กำลังใช้งาน\n",
    "try:\n",
    "    os.mkdir(r\"D:\\Document\\PythonFiles\\MyDirectory\") # สร้างไดเรกทอรี\n",
    "except FileExistsError:\n",
    "    print(\"คุณสร้างไดเรกทอรีซ้ำ\") # แสดงผลแจ้งเตือนเมื่อสร้างไดเรกทอรีซ้ำ\n",
    "else:\n",
    "    os.chdir(r\"D:\\Document\\PythonFiles\\MyDirectory\") # เปลี่ยนตำแหน่งการใช้งานไดเรกทอรีด้วยเมธอด chdir()\n",
    "    print (os.getcwd()) # แสดงตำแหน่งการเข้าใช้งานไดเรกทอรี\n",
    "    file = open(r\"D:\\Document\\PythonFiles\\MyDirectory\\CreateNewFile.txt\", \"w\") # สร้างไฟล์ใหม่\n",
    "    file.write(\"This is python language.\") # เขียนข้อความลงไฟล์\n",
    "    file.close() # บันทึกข้อความลงไฟล์และยกเลิกการเชื่อมต่อกับออบเจ็ค file"
   ]
  },
  {
   "cell_type": "code",
   "execution_count": null,
   "metadata": {},
   "outputs": [],
   "source": []
  },
  {
   "cell_type": "code",
   "execution_count": null,
   "metadata": {},
   "outputs": [],
   "source": []
  }
 ],
 "metadata": {
  "kernelspec": {
   "display_name": "Python 3",
   "language": "python",
   "name": "python3"
  },
  "language_info": {
   "codemirror_mode": {
    "name": "ipython",
    "version": 3
   },
   "file_extension": ".py",
   "mimetype": "text/x-python",
   "name": "python",
   "nbconvert_exporter": "python",
   "pygments_lexer": "ipython3",
   "version": "3.7.4"
  }
 },
 "nbformat": 4,
 "nbformat_minor": 2
}
