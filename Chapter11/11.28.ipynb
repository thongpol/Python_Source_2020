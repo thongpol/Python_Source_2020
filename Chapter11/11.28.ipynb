{
 "cells": [
  {
   "cell_type": "code",
   "execution_count": 1,
   "metadata": {},
   "outputs": [
    {
     "name": "stdout",
     "output_type": "stream",
     "text": [
      "Tue Sep 10 16:53:23 2019 SE Asia Standard Time\n",
      "Tue, 10 Sep 2019 09:53:23 SE Asia Standard Time\n"
     ]
    }
   ],
   "source": [
    "import time\n",
    "print(time.strftime(\"%c %Z\"))\n",
    "print(time.strftime(\"%a, %d %b %Y %H:%M:%S %Z\", time.gmtime()))"
   ]
  },
  {
   "cell_type": "code",
   "execution_count": null,
   "metadata": {},
   "outputs": [],
   "source": []
  }
 ],
 "metadata": {
  "kernelspec": {
   "display_name": "Python 3",
   "language": "python",
   "name": "python3"
  },
  "language_info": {
   "codemirror_mode": {
    "name": "ipython",
    "version": 3
   },
   "file_extension": ".py",
   "mimetype": "text/x-python",
   "name": "python",
   "nbconvert_exporter": "python",
   "pygments_lexer": "ipython3",
   "version": "3.7.4"
  }
 },
 "nbformat": 4,
 "nbformat_minor": 2
}
