{
 "cells": [
  {
   "cell_type": "code",
   "execution_count": 1,
   "metadata": {},
   "outputs": [
    {
     "name": "stdout",
     "output_type": "stream",
     "text": [
      "ค่าจำนวนเต็มของ 45.4579 = 46\n",
      "แปลงค่าจำนวนเต็มลบ -15 = 15.0\n",
      "ค่า factorial(10) = 3628800\n",
      "ค่า fsum(l) = 16.2\n",
      "ค่า ldexp(20, 5) = 640.0\n"
     ]
    }
   ],
   "source": [
    "import math\n",
    "l = [1.5, 3.5, 5.5, 1.2, 4.5]\n",
    "print (\"ค่าจำนวนเต็มของ 45.4579 =\", math.ceil(45.4579))\n",
    "print (\"แปลงค่าจำนวนเต็มลบ -15 =\", math.copysign(-15, 0.0))\n",
    "print(\"ค่า factorial(10) =\", math.factorial(10))\n",
    "print(\"ค่า fsum(l) =\", math.fsum(l))\n",
    "print (\"ค่า ldexp(20, 5) =\", math.ldexp(20, 5))"
   ]
  },
  {
   "cell_type": "code",
   "execution_count": null,
   "metadata": {},
   "outputs": [],
   "source": []
  }
 ],
 "metadata": {
  "kernelspec": {
   "display_name": "Python 3",
   "language": "python",
   "name": "python3"
  },
  "language_info": {
   "codemirror_mode": {
    "name": "ipython",
    "version": 3
   },
   "file_extension": ".py",
   "mimetype": "text/x-python",
   "name": "python",
   "nbconvert_exporter": "python",
   "pygments_lexer": "ipython3",
   "version": "3.7.4"
  }
 },
 "nbformat": 4,
 "nbformat_minor": 2
}
