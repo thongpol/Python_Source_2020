{
 "cells": [
  {
   "cell_type": "code",
   "execution_count": 1,
   "metadata": {},
   "outputs": [
    {
     "name": "stdout",
     "output_type": "stream",
     "text": [
      "ค่า e = 2.718281828459045\n",
      "ค่า pi = 3.141592653589793\n",
      "ค่า nan = nan\n",
      "ค่า inf = inf\n",
      "ค่า tau = 6.283185307179586\n"
     ]
    }
   ],
   "source": [
    "import math\n",
    "print(\"ค่า e =\", math.e)\n",
    "print(\"ค่า pi =\", math.pi)\n",
    "print(\"ค่า nan =\", math.nan)\n",
    "print(\"ค่า inf =\", math.inf)\n",
    "print(\"ค่า tau =\", math.tau)"
   ]
  },
  {
   "cell_type": "code",
   "execution_count": null,
   "metadata": {},
   "outputs": [],
   "source": []
  }
 ],
 "metadata": {
  "kernelspec": {
   "display_name": "Python 3",
   "language": "python",
   "name": "python3"
  },
  "language_info": {
   "codemirror_mode": {
    "name": "ipython",
    "version": 3
   },
   "file_extension": ".py",
   "mimetype": "text/x-python",
   "name": "python",
   "nbconvert_exporter": "python",
   "pygments_lexer": "ipython3",
   "version": "3.7.4"
  }
 },
 "nbformat": 4,
 "nbformat_minor": 2
}
