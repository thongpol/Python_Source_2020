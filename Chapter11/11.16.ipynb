{
 "cells": [
  {
   "cell_type": "code",
   "execution_count": 1,
   "metadata": {},
   "outputs": [
    {
     "name": "stdout",
     "output_type": "stream",
     "text": [
      "ค่า expm1(5.5) = 243.69193226422038\n",
      "ค่า log(5) = 1.6094379124341003\n",
      "ค่า log10(2) = 0.6931471805599453\n",
      "ค่า log1p(2) = 1.0986122886681098\n",
      "ค่า log2(10) = 3.321928094887362\n",
      "ค่า pow(10, 3) = 1000.0\n",
      "ค่า sqrt(27) = 5.196152422706632\n"
     ]
    }
   ],
   "source": [
    "import math\n",
    "print(\"ค่า expm1(5.5) =\", math.expm1(5.5))\n",
    "print (\"ค่า log(5) =\", math.log(5))\n",
    "print (\"ค่า log10(2) =\", math.log(2))\n",
    "print (\"ค่า log1p(2) =\", math.log1p(2))\n",
    "print (\"ค่า log2(10) =\", math.log2(10))\n",
    "print (\"ค่า pow(10, 3) =\", math.pow(10, 3))\n",
    "print (\"ค่า sqrt(27) =\", math.sqrt(27))"
   ]
  },
  {
   "cell_type": "code",
   "execution_count": null,
   "metadata": {},
   "outputs": [],
   "source": []
  }
 ],
 "metadata": {
  "kernelspec": {
   "display_name": "Python 3",
   "language": "python",
   "name": "python3"
  },
  "language_info": {
   "codemirror_mode": {
    "name": "ipython",
    "version": 3
   },
   "file_extension": ".py",
   "mimetype": "text/x-python",
   "name": "python",
   "nbconvert_exporter": "python",
   "pygments_lexer": "ipython3",
   "version": "3.7.4"
  }
 },
 "nbformat": 4,
 "nbformat_minor": 2
}
