{
 "cells": [
  {
   "cell_type": "code",
   "execution_count": 1,
   "metadata": {},
   "outputs": [
    {
     "name": "stdout",
     "output_type": "stream",
     "text": [
      "ผลลัพธ์จากการบวก 10 กับ 15 = 25\n",
      "ผลลัพธ์จากการลบ 45 กับ 15 = 30\n",
      "ผลลัพธ์จากการคูณ 10 กับ 15 = 150\n",
      "ผลลัพธ์จากการหาร 45 กับ 15 = 3.0\n"
     ]
    }
   ],
   "source": [
    "from my_module.calculate import *\n",
    "print(\"ผลลัพธ์จากการบวก 10 กับ 15 =\", plus(10, 15))\n",
    "print(\"ผลลัพธ์จากการลบ 45 กับ 15 =\", minus(45, 15))\n",
    "print(\"ผลลัพธ์จากการคูณ 10 กับ 15 =\", multiply(10, 15))\n",
    "print(\"ผลลัพธ์จากการหาร 45 กับ 15 =\", divide(45, 15))"
   ]
  },
  {
   "cell_type": "code",
   "execution_count": null,
   "metadata": {},
   "outputs": [],
   "source": []
  }
 ],
 "metadata": {
  "kernelspec": {
   "display_name": "Python 3",
   "language": "python",
   "name": "python3"
  },
  "language_info": {
   "codemirror_mode": {
    "name": "ipython",
    "version": 3
   },
   "file_extension": ".py",
   "mimetype": "text/x-python",
   "name": "python",
   "nbconvert_exporter": "python",
   "pygments_lexer": "ipython3",
   "version": "3.7.4"
  }
 },
 "nbformat": 4,
 "nbformat_minor": 2
}
