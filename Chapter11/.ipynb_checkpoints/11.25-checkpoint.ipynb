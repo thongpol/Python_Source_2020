{
 "cells": [
  {
   "cell_type": "code",
   "execution_count": 1,
   "metadata": {},
   "outputs": [
    {
     "name": "stdout",
     "output_type": "stream",
     "text": [
      "วันเริ่มต้นในสัปดาห์ = 0\n",
      "ปี 2017 มี 366 วัน = False\n",
      "วันแรกและจำนวนวัน เดือนมกราคม ปี 2017 = (6, 31)\n",
      "ปี 2017 เดือน 1 วันที่ 31 ตรงรหัสวัน = 1\n"
     ]
    }
   ],
   "source": [
    "import calendar\n",
    "print(\"วันเริ่มต้นในสัปดาห์ =\", calendar.firstweekday())\n",
    "print(\"ปี 2017 มี 366 วัน =\", calendar.isleap(2017))\n",
    "print (\"วันแรกและจำนวนวัน เดือนมกราคม ปี 2017 =\", calendar.monthrange(2017, 1))\n",
    "print(\"ปี 2017 เดือน 1 วันที่ 31 ตรงรหัสวัน =\", calendar.weekday(2017, 1, 31))"
   ]
  },
  {
   "cell_type": "code",
   "execution_count": null,
   "metadata": {},
   "outputs": [],
   "source": []
  }
 ],
 "metadata": {
  "kernelspec": {
   "display_name": "Python 3",
   "language": "python",
   "name": "python3"
  },
  "language_info": {
   "codemirror_mode": {
    "name": "ipython",
    "version": 3
   },
   "file_extension": ".py",
   "mimetype": "text/x-python",
   "name": "python",
   "nbconvert_exporter": "python",
   "pygments_lexer": "ipython3",
   "version": "3.7.4"
  }
 },
 "nbformat": 4,
 "nbformat_minor": 2
}
