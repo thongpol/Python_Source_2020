{
 "cells": [
  {
   "cell_type": "code",
   "execution_count": 1,
   "metadata": {},
   "outputs": [
    {
     "name": "stdout",
     "output_type": "stream",
     "text": [
      "ค่า phase(5+12j) = 1.176005207095135\n",
      "ค่า phase(7+15j) = 1.1341691669813554\n",
      "ค่า polar(5+12j) = (13.0, 1.176005207095135)\n",
      "ค่า polar(7+15j) = (16.55294535724685, 1.1341691669813554)\n",
      "ค่า rect(13, 6j) = (12.482213726454757-3.632401476586036j)\n",
      "ค่า rect(9, 12) = (7.594685628592429-4.829156262003915j)\n"
     ]
    }
   ],
   "source": [
    "import cmath\n",
    "print(\"ค่า phase(5+12j) =\", cmath.phase(5+12j))\n",
    "print(\"ค่า phase(7+15j) =\", cmath.phase(7+15j))\n",
    "print(\"ค่า polar(5+12j) =\", cmath.polar(5+12j))\n",
    "print(\"ค่า polar(7+15j) =\", cmath.polar(7+15j))\n",
    "print(\"ค่า rect(13, 6j) =\", cmath.rect(13, 6))\n",
    "print(\"ค่า rect(9, 12) =\", cmath.rect(9, 12))"
   ]
  },
  {
   "cell_type": "code",
   "execution_count": null,
   "metadata": {},
   "outputs": [],
   "source": []
  }
 ],
 "metadata": {
  "kernelspec": {
   "display_name": "Python 3",
   "language": "python",
   "name": "python3"
  },
  "language_info": {
   "codemirror_mode": {
    "name": "ipython",
    "version": 3
   },
   "file_extension": ".py",
   "mimetype": "text/x-python",
   "name": "python",
   "nbconvert_exporter": "python",
   "pygments_lexer": "ipython3",
   "version": "3.7.4"
  }
 },
 "nbformat": 4,
 "nbformat_minor": 2
}
