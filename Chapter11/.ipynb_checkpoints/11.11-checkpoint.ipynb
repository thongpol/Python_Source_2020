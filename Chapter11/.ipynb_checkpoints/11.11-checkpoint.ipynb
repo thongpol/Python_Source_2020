{
 "cells": [
  {
   "cell_type": "code",
   "execution_count": 1,
   "metadata": {},
   "outputs": [],
   "source": [
    "def animals_l():\n",
    "    animals = [\"Dog\", \"Cat\", \"Duck\", \"Bird\", \"Snake\"]\n",
    "    return animals\n",
    "def animals_s():\n",
    "    animals = {\"Bear\", \"Zebra\", \"Giraffe\", \"Buffola\", \"Rad\"}\n",
    "    return animals\n",
    "def animals_t():\n",
    "    animals = {\"Chicken\", \"Bat\", \"Spider\", \"Horse\", \"Mouse\"}\n",
    "    return animals"
   ]
  },
  {
   "cell_type": "code",
   "execution_count": null,
   "metadata": {},
   "outputs": [],
   "source": []
  }
 ],
 "metadata": {
  "kernelspec": {
   "display_name": "Python 3",
   "language": "python",
   "name": "python3"
  },
  "language_info": {
   "codemirror_mode": {
    "name": "ipython",
    "version": 3
   },
   "file_extension": ".py",
   "mimetype": "text/x-python",
   "name": "python",
   "nbconvert_exporter": "python",
   "pygments_lexer": "ipython3",
   "version": "3.7.4"
  }
 },
 "nbformat": 4,
 "nbformat_minor": 2
}
