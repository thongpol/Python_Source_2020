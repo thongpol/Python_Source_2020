{
 "cells": [
  {
   "cell_type": "code",
   "execution_count": 1,
   "metadata": {},
   "outputs": [
    {
     "name": "stdout",
     "output_type": "stream",
     "text": [
      "ค่า acosh(5) = 2.2924316695611777\n",
      "ค่า asinh(0.55) = 0.5254804479785135\n",
      "ค่า atanh(0.5) = 0.5493061443340549\n",
      "ค่า cosh(4) = 27.308232836016487\n",
      "ค่า sinh(10) = 11013.232874703393\n",
      "ค่า tanh(5) = 0.9999092042625951\n"
     ]
    }
   ],
   "source": [
    "import math\n",
    "print (\"ค่า acosh(5) =\", math.acosh(5))\n",
    "print (\"ค่า asinh(0.55) =\", math.asinh(0.55))\n",
    "print (\"ค่า atanh(0.5) =\", math.atanh(0.5))\n",
    "print (\"ค่า cosh(4) =\", math.cosh(4))\n",
    "print (\"ค่า sinh(10) =\", math.sinh(10))\n",
    "print (\"ค่า tanh(5) =\", math.tanh(5))"
   ]
  },
  {
   "cell_type": "code",
   "execution_count": null,
   "metadata": {},
   "outputs": [],
   "source": []
  }
 ],
 "metadata": {
  "kernelspec": {
   "display_name": "Python 3",
   "language": "python",
   "name": "python3"
  },
  "language_info": {
   "codemirror_mode": {
    "name": "ipython",
    "version": 3
   },
   "file_extension": ".py",
   "mimetype": "text/x-python",
   "name": "python",
   "nbconvert_exporter": "python",
   "pygments_lexer": "ipython3",
   "version": "3.7.4"
  }
 },
 "nbformat": 4,
 "nbformat_minor": 2
}
