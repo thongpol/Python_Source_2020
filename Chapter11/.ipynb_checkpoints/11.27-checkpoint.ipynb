{
 "cells": [
  {
   "cell_type": "code",
   "execution_count": 1,
   "metadata": {},
   "outputs": [
    {
     "name": "stdout",
     "output_type": "stream",
     "text": [
      "Tue Sep 10 16:52:49 2019\n",
      "Tue Sep 10 09:52:49 2019\n",
      "Tue Sep 10 16:52:49 2019\n",
      "5a 10 Sep 2019 16:52:49\n",
      "5a 10 Sep 2019 09:52:49\n"
     ]
    }
   ],
   "source": [
    "import time\n",
    "print(time.asctime())\n",
    "print(time.asctime(time.gmtime()))\n",
    "print(time.asctime(time.localtime()))\n",
    "print(time.strftime(\"5a %d %b %Y %H:%M:%S\"))\n",
    "print(time.strftime(\"5a %d %b %Y %H:%M:%S\", time.gmtime()))"
   ]
  },
  {
   "cell_type": "code",
   "execution_count": null,
   "metadata": {},
   "outputs": [],
   "source": []
  }
 ],
 "metadata": {
  "kernelspec": {
   "display_name": "Python 3",
   "language": "python",
   "name": "python3"
  },
  "language_info": {
   "codemirror_mode": {
    "name": "ipython",
    "version": 3
   },
   "file_extension": ".py",
   "mimetype": "text/x-python",
   "name": "python",
   "nbconvert_exporter": "python",
   "pygments_lexer": "ipython3",
   "version": "3.7.4"
  }
 },
 "nbformat": 4,
 "nbformat_minor": 2
}
