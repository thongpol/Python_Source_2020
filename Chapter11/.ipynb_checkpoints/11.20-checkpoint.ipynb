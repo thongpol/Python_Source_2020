{
 "cells": [
  {
   "cell_type": "code",
   "execution_count": 1,
   "metadata": {},
   "outputs": [
    {
     "name": "stdout",
     "output_type": "stream",
     "text": [
      "ค่า erf(2.5) = 0.999593047982555\n",
      "ค่า erfc(5) = 1.537459794428035e-12\n",
      "ค่า gamma(5.5) = 52.34277778455352\n",
      "ค่า lgamma(1.5) = -0.12078223763524543\n"
     ]
    }
   ],
   "source": [
    "import math\n",
    "print(\"ค่า erf(2.5) =\", math.erf(2.5))\n",
    "print(\"ค่า erfc(5) =\", math.erfc(5))\n",
    "print(\"ค่า gamma(5.5) =\", math.gamma(5.5))\n",
    "print (\"ค่า lgamma(1.5) =\", math.lgamma(1.5))"
   ]
  },
  {
   "cell_type": "code",
   "execution_count": null,
   "metadata": {},
   "outputs": [],
   "source": []
  }
 ],
 "metadata": {
  "kernelspec": {
   "display_name": "Python 3",
   "language": "python",
   "name": "python3"
  },
  "language_info": {
   "codemirror_mode": {
    "name": "ipython",
    "version": 3
   },
   "file_extension": ".py",
   "mimetype": "text/x-python",
   "name": "python",
   "nbconvert_exporter": "python",
   "pygments_lexer": "ipython3",
   "version": "3.7.4"
  }
 },
 "nbformat": 4,
 "nbformat_minor": 2
}
