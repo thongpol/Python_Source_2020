{
 "cells": [
  {
   "cell_type": "code",
   "execution_count": 2,
   "metadata": {},
   "outputs": [
    {
     "name": "stdout",
     "output_type": "stream",
     "text": [
      "ค่า sin(5) = -0.9589242746631385\n",
      "ค่า cos(5) = 0.28366218546322625\n",
      "ค่า tan(5) = -3.380515006246586\n",
      "ค่า hypot(5) = 7.0710678118654755\n"
     ]
    }
   ],
   "source": [
    "import math\n",
    "print (\"ค่า sin(5) =\", math.sin(5))\n",
    "print (\"ค่า cos(5) =\", math.cos(5))\n",
    "print (\"ค่า tan(5) =\", math.tan(5))\n",
    "print (\"ค่า hypot(5) =\", math.hypot(5, 5))"
   ]
  },
  {
   "cell_type": "code",
   "execution_count": null,
   "metadata": {},
   "outputs": [],
   "source": []
  }
 ],
 "metadata": {
  "kernelspec": {
   "display_name": "Python 3",
   "language": "python",
   "name": "python3"
  },
  "language_info": {
   "codemirror_mode": {
    "name": "ipython",
    "version": 3
   },
   "file_extension": ".py",
   "mimetype": "text/x-python",
   "name": "python",
   "nbconvert_exporter": "python",
   "pygments_lexer": "ipython3",
   "version": "3.7.4"
  }
 },
 "nbformat": 4,
 "nbformat_minor": 2
}
