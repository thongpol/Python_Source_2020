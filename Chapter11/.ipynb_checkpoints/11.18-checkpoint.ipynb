{
 "cells": [
  {
   "cell_type": "code",
   "execution_count": 1,
   "metadata": {},
   "outputs": [
    {
     "name": "stdout",
     "output_type": "stream",
     "text": [
      "แปลงค่ามุม sine(5) = -54.942313810841576 องศา\n",
      "แปลงค่ามุม cos(10) = -48.07525732566926 องศา\n",
      "แปลงค่ามุม tan(15) = -49.04480916310797 องศา\n",
      "แปลงค่ามุม 90 องศา = 1.5707963267948966 เรเดียน\n"
     ]
    }
   ],
   "source": [
    "import math\n",
    "print (\"แปลงค่ามุม sine(5) =\", math.degrees(math.sin(5)), \"องศา\")\n",
    "print (\"แปลงค่ามุม cos(10) =\", math.degrees(math.cos(10)), \"องศา\")\n",
    "print (\"แปลงค่ามุม tan(15) =\", math.degrees(math.tan(15)), \"องศา\")\n",
    "print (\"แปลงค่ามุม 90 องศา =\", math.radians(90), \"เรเดียน\")"
   ]
  },
  {
   "cell_type": "code",
   "execution_count": null,
   "metadata": {},
   "outputs": [],
   "source": []
  }
 ],
 "metadata": {
  "kernelspec": {
   "display_name": "Python 3",
   "language": "python",
   "name": "python3"
  },
  "language_info": {
   "codemirror_mode": {
    "name": "ipython",
    "version": 3
   },
   "file_extension": ".py",
   "mimetype": "text/x-python",
   "name": "python",
   "nbconvert_exporter": "python",
   "pygments_lexer": "ipython3",
   "version": "3.7.4"
  }
 },
 "nbformat": 4,
 "nbformat_minor": 2
}
