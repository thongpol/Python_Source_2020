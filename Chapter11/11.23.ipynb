{
 "cells": [
  {
   "cell_type": "code",
   "execution_count": 1,
   "metadata": {},
   "outputs": [
    {
     "name": "stdout",
     "output_type": "stream",
     "text": [
      "ค่า sin(2) = (0.9092974268256817-0j)\n",
      "ค่า cos(2) = (-0.4161468365471424-0j)\n",
      "ค่า tan(2) = (-2.185039863261519+0j)\n"
     ]
    }
   ],
   "source": [
    "import cmath\n",
    "print(\"ค่า sin(2) =\", cmath.sin(2))\n",
    "print(\"ค่า cos(2) =\", cmath.cos(2))\n",
    "print(\"ค่า tan(2) =\", cmath.tan(2))"
   ]
  },
  {
   "cell_type": "code",
   "execution_count": null,
   "metadata": {},
   "outputs": [],
   "source": []
  }
 ],
 "metadata": {
  "kernelspec": {
   "display_name": "Python 3",
   "language": "python",
   "name": "python3"
  },
  "language_info": {
   "codemirror_mode": {
    "name": "ipython",
    "version": 3
   },
   "file_extension": ".py",
   "mimetype": "text/x-python",
   "name": "python",
   "nbconvert_exporter": "python",
   "pygments_lexer": "ipython3",
   "version": "3.7.4"
  }
 },
 "nbformat": 4,
 "nbformat_minor": 2
}
