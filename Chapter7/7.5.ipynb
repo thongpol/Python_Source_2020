{
 "cells": [
  {
   "cell_type": "code",
   "execution_count": 1,
   "metadata": {},
   "outputs": [
    {
     "name": "stdout",
     "output_type": "stream",
     "text": [
      "ตำแหน่งที่ 5 ของ lst = 15\n",
      "ตำแหน่งที่ 2 ของ dct = Football\n"
     ]
    }
   ],
   "source": [
    "lst = [5, 6, 8, 9, 10, 15]\n",
    "dct = {1:\"Tennis\", 2:\"Football\", 3:\"Racing\", 4:\"Running\"}\n",
    "try:\n",
    "    print (\"ตำแหน่งที่ 5 ของ lst =\", lst[5])\n",
    "    print (\"ตำแหน่งที่ 2 ของ dct =\", dct[2]) # ใส่คีย์ถูกต้อง\n",
    "except(IndexError, KeyError): # ตัวจับแบบหลายตัว\n",
    "    print (\"ตำแหน่ง หรือ คีย์ที่ระบุไม่ถูกต้อง\")"
   ]
  },
  {
   "cell_type": "code",
   "execution_count": null,
   "metadata": {},
   "outputs": [],
   "source": []
  }
 ],
 "metadata": {
  "kernelspec": {
   "display_name": "Python 3",
   "language": "python",
   "name": "python3"
  },
  "language_info": {
   "codemirror_mode": {
    "name": "ipython",
    "version": 3
   },
   "file_extension": ".py",
   "mimetype": "text/x-python",
   "name": "python",
   "nbconvert_exporter": "python",
   "pygments_lexer": "ipython3",
   "version": "3.7.4"
  }
 },
 "nbformat": 4,
 "nbformat_minor": 2
}
