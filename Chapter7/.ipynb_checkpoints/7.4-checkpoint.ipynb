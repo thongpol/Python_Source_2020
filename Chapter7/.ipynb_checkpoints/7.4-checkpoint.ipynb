{
 "cells": [
  {
   "cell_type": "code",
   "execution_count": 1,
   "metadata": {},
   "outputs": [
    {
     "name": "stdout",
     "output_type": "stream",
     "text": [
      "กรุณาป้อนตัวเลข: 5.5\n",
      "ข้อมูลที่คุณป้อนไม่ใช่ตัวเลขจำนวนเต็ม\n"
     ]
    }
   ],
   "source": [
    "x =5\n",
    "try:\n",
    "    n = int(input(\"กรุณาป้อนตัวเลข: \"))\n",
    "    z = x/n\n",
    "    print (z)\n",
    "except ZeroDivisionError: # ตรวจจับข้อผิดพลาดเมื่อตัวหารเป็นเลข 0\n",
    "    print(\"ไม่สามารถหารด้วย 0 ได้\")\n",
    "except ValueError: # ตรวจจับข้อผิดพลาดเมื่อป้อนข้อมูลไม่ถูกต้อง\n",
    "    print(\"ข้อมูลที่คุณป้อนไม่ใช่ตัวเลขจำนวนเต็ม\")"
   ]
  },
  {
   "cell_type": "code",
   "execution_count": null,
   "metadata": {},
   "outputs": [],
   "source": []
  }
 ],
 "metadata": {
  "kernelspec": {
   "display_name": "Python 3",
   "language": "python",
   "name": "python3"
  },
  "language_info": {
   "codemirror_mode": {
    "name": "ipython",
    "version": 3
   },
   "file_extension": ".py",
   "mimetype": "text/x-python",
   "name": "python",
   "nbconvert_exporter": "python",
   "pygments_lexer": "ipython3",
   "version": "3.7.4"
  }
 },
 "nbformat": 4,
 "nbformat_minor": 2
}
