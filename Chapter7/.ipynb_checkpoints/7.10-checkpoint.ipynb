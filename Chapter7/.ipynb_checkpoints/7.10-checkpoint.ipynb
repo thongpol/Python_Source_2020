{
 "cells": [
  {
   "cell_type": "code",
   "execution_count": 1,
   "metadata": {},
   "outputs": [
    {
     "name": "stdout",
     "output_type": "stream",
     "text": [
      "ขายสินค้าได้ = 6\n"
     ]
    },
    {
     "ename": "LessthanStockError",
     "evalue": "สินค้าคงเหลือน้อยกว่าที่กำหนดไว้",
     "output_type": "error",
     "traceback": [
      "\u001b[1;31m---------------------------------------------------------------------------\u001b[0m",
      "\u001b[1;31mLessthanStockError\u001b[0m                        Traceback (most recent call last)",
      "\u001b[1;32m<ipython-input-1-bed2e5381e47>\u001b[0m in \u001b[0;36m<module>\u001b[1;34m\u001b[0m\n\u001b[0;32m      8\u001b[0m \u001b[0mz\u001b[0m \u001b[1;33m=\u001b[0m \u001b[0mx\u001b[0m \u001b[1;33m-\u001b[0m \u001b[0mn\u001b[0m\u001b[1;33m\u001b[0m\u001b[1;33m\u001b[0m\u001b[0m\n\u001b[0;32m      9\u001b[0m \u001b[1;32mif\u001b[0m \u001b[0mz\u001b[0m \u001b[1;33m<\u001b[0m \u001b[1;36m5\u001b[0m\u001b[1;33m:\u001b[0m\u001b[1;33m\u001b[0m\u001b[1;33m\u001b[0m\u001b[0m\n\u001b[1;32m---> 10\u001b[1;33m     \u001b[1;32mraise\u001b[0m \u001b[0mLessthanStockError\u001b[0m \u001b[1;31m# เรียกใช้ประเภท Exception ของ LessthanStockError\u001b[0m\u001b[1;33m\u001b[0m\u001b[1;33m\u001b[0m\u001b[0m\n\u001b[0m\u001b[0;32m     11\u001b[0m \u001b[1;32melse\u001b[0m\u001b[1;33m:\u001b[0m\u001b[1;33m\u001b[0m\u001b[1;33m\u001b[0m\u001b[0m\n\u001b[0;32m     12\u001b[0m     \u001b[0mprint\u001b[0m \u001b[1;33m(\u001b[0m\u001b[1;34m\"สินค้าคงเหลือ =\"\u001b[0m\u001b[1;33m,\u001b[0m \u001b[0mz\u001b[0m\u001b[1;33m,\u001b[0m \u001b[1;34m\"ชิ้น\"\u001b[0m\u001b[1;33m)\u001b[0m\u001b[1;33m\u001b[0m\u001b[1;33m\u001b[0m\u001b[0m\n",
      "\u001b[1;31mLessthanStockError\u001b[0m: สินค้าคงเหลือน้อยกว่าที่กำหนดไว้"
     ]
    }
   ],
   "source": [
    "class LessthanStockError(Exception):\n",
    "    # สร้าง subclass ชื่อ LessthanStrockError ที่มีคลาส Exception เป็น superclass\n",
    "    def __init__(self):\n",
    "        Exception.__init__(self, \"สินค้าคงเหลือน้อยกว่าที่กำหนดไว้\")\n",
    "            # กำหนดให้มีข้อความแสดงผลเมื่อมีข้อผิดพลาดเกิดขึ้น\n",
    "x = 10\n",
    "n = int(input(\"ขายสินค้าได้ = \"))\n",
    "z = x - n\n",
    "if z < 5:\n",
    "    raise LessthanStockError # เรียกใช้ประเภท Exception ของ LessthanStockError\n",
    "else:\n",
    "    print (\"สินค้าคงเหลือ =\", z, \"ชิ้น\")"
   ]
  },
  {
   "cell_type": "code",
   "execution_count": null,
   "metadata": {},
   "outputs": [],
   "source": []
  }
 ],
 "metadata": {
  "kernelspec": {
   "display_name": "Python 3",
   "language": "python",
   "name": "python3"
  },
  "language_info": {
   "codemirror_mode": {
    "name": "ipython",
    "version": 3
   },
   "file_extension": ".py",
   "mimetype": "text/x-python",
   "name": "python",
   "nbconvert_exporter": "python",
   "pygments_lexer": "ipython3",
   "version": "3.7.4"
  }
 },
 "nbformat": 4,
 "nbformat_minor": 2
}
