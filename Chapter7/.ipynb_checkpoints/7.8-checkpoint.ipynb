{
 "cells": [
  {
   "cell_type": "code",
   "execution_count": 1,
   "metadata": {},
   "outputs": [
    {
     "name": "stdout",
     "output_type": "stream",
     "text": [
      "กรุณาป้อนตัวเลขจำนวนเต็ม : 0\n",
      "ไม่สามารถหารด้วยเลข 0\n"
     ]
    }
   ],
   "source": [
    "try:\n",
    "    n = int(input(\"กรุณาป้อนตัวเลขจำนวนเต็ม : \"))\n",
    "    try:\n",
    "        x = 10\n",
    "        z = x / n\n",
    "        print (z)\n",
    "    except ZeroDivisionError:\n",
    "        print (\"ไม่สามารถหารด้วยเลข 0\")\n",
    "except ValueError:\n",
    "    print (\"คุณป้อนข้อมูลไม่ถูกต้อง\")"
   ]
  },
  {
   "cell_type": "code",
   "execution_count": null,
   "metadata": {},
   "outputs": [],
   "source": []
  }
 ],
 "metadata": {
  "kernelspec": {
   "display_name": "Python 3",
   "language": "python",
   "name": "python3"
  },
  "language_info": {
   "codemirror_mode": {
    "name": "ipython",
    "version": 3
   },
   "file_extension": ".py",
   "mimetype": "text/x-python",
   "name": "python",
   "nbconvert_exporter": "python",
   "pygments_lexer": "ipython3",
   "version": "3.7.4"
  }
 },
 "nbformat": 4,
 "nbformat_minor": 2
}
