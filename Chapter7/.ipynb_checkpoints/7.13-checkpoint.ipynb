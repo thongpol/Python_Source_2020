{
 "cells": [
  {
   "cell_type": "code",
   "execution_count": 1,
   "metadata": {},
   "outputs": [
    {
     "name": "stdout",
     "output_type": "stream",
     "text": [
      "กรุณากรอกคะแนนไม่เกิน 30 คะแนน : 50\n",
      "คุณป้อนค่าตัวเลขเกินจำนวน\n"
     ]
    }
   ],
   "source": [
    "try:\n",
    "    n = int(input(\"กรุณากรอกคะแนนไม่เกิน 30 คะแนน : \"))\n",
    "    assert n < 30 # ตรวจจับความผิดพลาดเมื่อค่าตัวแปร n มีค่ามากกว่า 30\n",
    "    print (\"คะแนนที่คุณกรอก คือ \", n)\n",
    "except ValueError:\n",
    "    print (\"คุณป้อนค่าตัวเลขไม่ถูกต้อง\")\n",
    "        # แสดงข้อผิดพลาดประเภท Exception ของ ValueError\n",
    "except AssertionError:\n",
    "    print (\"คุณป้อนค่าตัวเลขเกินจำนวน\") \n",
    "        # แสดงข้อผิดพลาดประเภท Exception ของ AssertionError"
   ]
  },
  {
   "cell_type": "code",
   "execution_count": null,
   "metadata": {},
   "outputs": [],
   "source": []
  }
 ],
 "metadata": {
  "kernelspec": {
   "display_name": "Python 3",
   "language": "python",
   "name": "python3"
  },
  "language_info": {
   "codemirror_mode": {
    "name": "ipython",
    "version": 3
   },
   "file_extension": ".py",
   "mimetype": "text/x-python",
   "name": "python",
   "nbconvert_exporter": "python",
   "pygments_lexer": "ipython3",
   "version": "3.7.4"
  }
 },
 "nbformat": 4,
 "nbformat_minor": 2
}
