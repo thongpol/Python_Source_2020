{
 "cells": [
  {
   "cell_type": "code",
   "execution_count": 2,
   "metadata": {},
   "outputs": [
    {
     "name": "stdout",
     "output_type": "stream",
     "text": [
      "กรุณากรอกคะแนน : 48\n",
      "คุณไม่ผ่านเกณฑ์ 50 คะแนน คะแนนที่คุณได้ 48 คะแนน\n"
     ]
    }
   ],
   "source": [
    "class PassTestError(Exception):\n",
    "    pass\n",
    "class FailTestError(Exception):\n",
    "    pass\n",
    "try:\n",
    "    n = int(input(\"กรุณากรอกคะแนน : \"))\n",
    "    if n < 50:\n",
    "        raise FailTestError # เรียกใช้ประเภท Exception ของ FailTestError\n",
    "    else:\n",
    "        raise PassTestError # เรียกใช้ประเภท Exception ของ PassTestError\n",
    "except FailTestError:\n",
    "    print (\"คุณไม่ผ่านเกณฑ์ 50 คะแนน คะแนนที่คุณได้ %d คะแนน\" %n)   \n",
    "        # แสดงข้อผิดพลาดประเภท Exception ของ FailTestError\n",
    "except PassTestError:\n",
    "    print (\"ยินดีด้วยครับคุณสอบผ่าน คะแนนที่คุณได้ คือ %d\" %n)\n",
    "        # แสดงข้อผิดพลาดประเภท Exception ของ PassTestError\n",
    "except ValueError:\n",
    "    print (\"คุณป้อนข้อมูลไม่ถูกต้อง\")\n",
    "        # แสดงข้อผิดพลาดประเภท Exception ของ ValueError"
   ]
  },
  {
   "cell_type": "code",
   "execution_count": null,
   "metadata": {},
   "outputs": [],
   "source": []
  },
  {
   "cell_type": "code",
   "execution_count": null,
   "metadata": {},
   "outputs": [],
   "source": []
  }
 ],
 "metadata": {
  "kernelspec": {
   "display_name": "Python 3",
   "language": "python",
   "name": "python3"
  },
  "language_info": {
   "codemirror_mode": {
    "name": "ipython",
    "version": 3
   },
   "file_extension": ".py",
   "mimetype": "text/x-python",
   "name": "python",
   "nbconvert_exporter": "python",
   "pygments_lexer": "ipython3",
   "version": "3.7.4"
  }
 },
 "nbformat": 4,
 "nbformat_minor": 2
}
