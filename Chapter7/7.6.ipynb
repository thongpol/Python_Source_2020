{
 "cells": [
  {
   "cell_type": "code",
   "execution_count": 1,
   "metadata": {},
   "outputs": [
    {
     "name": "stdout",
     "output_type": "stream",
     "text": [
      "กรุณาป้อนตัวเลข : 5\n",
      "กรุณาป้อนตำแหน่งข้อมูลในลิสต์ : 10\n",
      "ไม่พบตำแหน่งที่คุณระบุในลิสต์ x\n"
     ]
    }
   ],
   "source": [
    "x = [5, 12, 6, 9, 13]\n",
    "try:\n",
    "    n = int(input(\"กรุณาป้อนตัวเลข : \"))\n",
    "    i = int(input(\"กรุณาป้อนตำแหน่งข้อมูลในลิสต์ : \"))\n",
    "    z = x[i]/n\n",
    "except IndexError:\n",
    "    print (\"ไม่พบตำแหน่งที่คุณระบุในลิสต์ x\")\n",
    "except ArithmeticError:\n",
    "    print (\"ตัวหารเป็นเลข 0\")\n",
    "except ValueError:\n",
    "    print (\"ข้อมูลที่คุณป้อนไม่ใช่ตัวเลข\")\n",
    "else:\n",
    "    print(\"ไม่พบข้อผิดพลาดของ Exception\")\n",
    "    print (\"ผลลัพธ์ที่ได้ =\", z)"
   ]
  },
  {
   "cell_type": "code",
   "execution_count": null,
   "metadata": {},
   "outputs": [],
   "source": []
  }
 ],
 "metadata": {
  "kernelspec": {
   "display_name": "Python 3",
   "language": "python",
   "name": "python3"
  },
  "language_info": {
   "codemirror_mode": {
    "name": "ipython",
    "version": 3
   },
   "file_extension": ".py",
   "mimetype": "text/x-python",
   "name": "python",
   "nbconvert_exporter": "python",
   "pygments_lexer": "ipython3",
   "version": "3.7.4"
  }
 },
 "nbformat": 4,
 "nbformat_minor": 2
}
