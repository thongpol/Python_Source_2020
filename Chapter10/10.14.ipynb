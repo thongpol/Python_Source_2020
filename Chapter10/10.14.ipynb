{
 "cells": [
  {
   "cell_type": "code",
   "execution_count": 1,
   "metadata": {},
   "outputs": [
    {
     "name": "stdout",
     "output_type": "stream",
     "text": [
      "ปริมาตรทรงกระบอก =  471.0 ลูกบาศก์เมตร\n",
      "พื้นที่วงกลม =  28.26 ตารางเมตร\n",
      "พื้นที่สามเหลี่ยม =  17.5 ตารางเมตร\n",
      "พื้นที่สี่เหลี่ยมผืนผ้า =  120 ตารางเมตร\n"
     ]
    }
   ],
   "source": [
    "area_volume = [lambda r, h: 3.14 * (r * r) * h,\n",
    "       lambda r: 3.14 * (r * r),\n",
    "       lambda b, h: 0.5 * b * h,\n",
    "       lambda w, h: w * h]\n",
    "print (\"ปริมาตรทรงกระบอก = \", area_volume[0](5, 6), \"ลูกบาศก์เมตร\")\n",
    "print (\"พื้นที่วงกลม = \", area_volume[1](3), \"ตารางเมตร\")\n",
    "print (\"พื้นที่สามเหลี่ยม = \", area_volume[2](5, 7), \"ตารางเมตร\")\n",
    "print (\"พื้นที่สี่เหลี่ยมผืนผ้า = \", area_volume[3](10, 12), \"ตารางเมตร\") "
   ]
  },
  {
   "cell_type": "code",
   "execution_count": null,
   "metadata": {},
   "outputs": [],
   "source": []
  }
 ],
 "metadata": {
  "kernelspec": {
   "display_name": "Python 3",
   "language": "python",
   "name": "python3"
  },
  "language_info": {
   "codemirror_mode": {
    "name": "ipython",
    "version": 3
   },
   "file_extension": ".py",
   "mimetype": "text/x-python",
   "name": "python",
   "nbconvert_exporter": "python",
   "pygments_lexer": "ipython3",
   "version": "3.7.4"
  }
 },
 "nbformat": 4,
 "nbformat_minor": 2
}
