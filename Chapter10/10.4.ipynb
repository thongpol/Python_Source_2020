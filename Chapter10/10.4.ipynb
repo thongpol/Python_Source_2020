{
 "cells": [
  {
   "cell_type": "code",
   "execution_count": 1,
   "metadata": {},
   "outputs": [
    {
     "name": "stdout",
     "output_type": "stream",
     "text": [
      "Hello, how are you?\n"
     ]
    }
   ],
   "source": [
    "def show_greeting3(): # ประกาศฟังก์ชันโดยไม่มีพารามิเตอร์คอยรับค่า\n",
    "    greeting =\"Hello, how are you?\" # สร้างตัวแปรพร้อมกำหนดค่า\n",
    "    return greeting # ส่งค่าตัวแปร greeting กลับ เมื่อมีการเรียกใช้งานฟังก์ชัน \n",
    "print (show_greeting3()) # แสดงผลลัพธ์จากการเรียกใช้งานฟังก์ชัน"
   ]
  },
  {
   "cell_type": "code",
   "execution_count": null,
   "metadata": {},
   "outputs": [],
   "source": []
  }
 ],
 "metadata": {
  "kernelspec": {
   "display_name": "Python 3",
   "language": "python",
   "name": "python3"
  },
  "language_info": {
   "codemirror_mode": {
    "name": "ipython",
    "version": 3
   },
   "file_extension": ".py",
   "mimetype": "text/x-python",
   "name": "python",
   "nbconvert_exporter": "python",
   "pygments_lexer": "ipython3",
   "version": "3.7.4"
  }
 },
 "nbformat": 4,
 "nbformat_minor": 2
}
