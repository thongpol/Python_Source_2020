{
 "cells": [
  {
   "cell_type": "code",
   "execution_count": 1,
   "metadata": {},
   "outputs": [
    {
     "name": "stdout",
     "output_type": "stream",
     "text": [
      "แสดงค่าข้อมูลในลิสต์ = [1, 2, 3]\n",
      "แสดงค่าข้อมูลในตัวแปร num = 10\n",
      "แสดงค่าข้อมูลในตัวแปร msg = Python is easy\n"
     ]
    }
   ],
   "source": [
    "def key_arg(lst, msg, num):\n",
    "    print(\"แสดงค่าข้อมูลในลิสต์ =\", lst)\n",
    "    print(\"แสดงค่าข้อมูลในตัวแปร num =\", num)\n",
    "    print(\"แสดงค่าข้อมูลในตัวแปร msg =\", msg)\n",
    "key_arg(lst=[1, 2, 3], num=10, msg=\"Python is easy\")"
   ]
  },
  {
   "cell_type": "code",
   "execution_count": null,
   "metadata": {},
   "outputs": [],
   "source": []
  }
 ],
 "metadata": {
  "kernelspec": {
   "display_name": "Python 3",
   "language": "python",
   "name": "python3"
  },
  "language_info": {
   "codemirror_mode": {
    "name": "ipython",
    "version": 3
   },
   "file_extension": ".py",
   "mimetype": "text/x-python",
   "name": "python",
   "nbconvert_exporter": "python",
   "pygments_lexer": "ipython3",
   "version": "3.7.4"
  }
 },
 "nbformat": 4,
 "nbformat_minor": 2
}
