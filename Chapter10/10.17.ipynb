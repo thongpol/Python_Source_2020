{
 "cells": [
  {
   "cell_type": "code",
   "execution_count": 2,
   "metadata": {},
   "outputs": [
    {
     "name": "stdout",
     "output_type": "stream",
     "text": [
      "ป้อนจำนวนเงิน : 6000\n",
      "จำนวนเงินไม่รวมภาษี 7% (ตัวแปรแบบโลคอล) =  4650.0 บาท\n",
      "จำนวนเงินไม่รวมภาษี 7% (ตัวแปรแบบโกลบอล) =  5580.0 บาท\n"
     ]
    }
   ],
   "source": [
    "cash = int(input(\"ป้อนจำนวนเงิน : \"))\n",
    "vat = 0.07 # ตัวแปรชนิดข้อมูลโกลบอล\n",
    "total = cash - (cash * vat) # ตัวแปรชนิดข้อมูลโกลบอล\n",
    "def cash(cash):\n",
    "    total = cash - (cash * vat) # ตัวแปรชนิดข้อมูลโลคอล\n",
    "    return total\n",
    "print (\"จำนวนเงินไม่รวมภาษี 7% (ตัวแปรแบบโลคอล) = \", cash(5000), \"บาท\")\n",
    "print (\"จำนวนเงินไม่รวมภาษี 7% (ตัวแปรแบบโกลบอล) = \", total, \"บาท\")"
   ]
  },
  {
   "cell_type": "code",
   "execution_count": null,
   "metadata": {},
   "outputs": [],
   "source": []
  }
 ],
 "metadata": {
  "kernelspec": {
   "display_name": "Python 3",
   "language": "python",
   "name": "python3"
  },
  "language_info": {
   "codemirror_mode": {
    "name": "ipython",
    "version": 3
   },
   "file_extension": ".py",
   "mimetype": "text/x-python",
   "name": "python",
   "nbconvert_exporter": "python",
   "pygments_lexer": "ipython3",
   "version": "3.7.4"
  }
 },
 "nbformat": 4,
 "nbformat_minor": 2
}
