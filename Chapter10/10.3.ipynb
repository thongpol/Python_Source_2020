{
 "cells": [
  {
   "cell_type": "code",
   "execution_count": 1,
   "metadata": {},
   "outputs": [
    {
     "name": "stdout",
     "output_type": "stream",
     "text": [
      "Hello Doraemon\n"
     ]
    }
   ],
   "source": [
    "def show_greeting2(name): # ประกาศฟังก์ชันโดยมีพารามิเตอร์คอยรับค่า\n",
    "    print (\"Hello\", name) # แสดงผลลัพธ์จากค่าพารามิเตอร์\n",
    "show_greeting2(\"Doraemon\") # เรียกใช้งานฟังก์ชันพร้อมส่งอาร์กิวเมนต์"
   ]
  },
  {
   "cell_type": "code",
   "execution_count": null,
   "metadata": {},
   "outputs": [],
   "source": []
  }
 ],
 "metadata": {
  "kernelspec": {
   "display_name": "Python 3",
   "language": "python",
   "name": "python3"
  },
  "language_info": {
   "codemirror_mode": {
    "name": "ipython",
    "version": 3
   },
   "file_extension": ".py",
   "mimetype": "text/x-python",
   "name": "python",
   "nbconvert_exporter": "python",
   "pygments_lexer": "ipython3",
   "version": "3.7.4"
  }
 },
 "nbformat": 4,
 "nbformat_minor": 2
}
