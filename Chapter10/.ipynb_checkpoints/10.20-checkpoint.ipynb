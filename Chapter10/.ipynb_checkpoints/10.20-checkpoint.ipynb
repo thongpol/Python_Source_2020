{
 "cells": [
  {
   "cell_type": "code",
   "execution_count": 1,
   "metadata": {},
   "outputs": [
    {
     "name": "stdout",
     "output_type": "stream",
     "text": [
      "ค่าผลหารและเศษ = (4, 1)\n",
      "exp = 80\n",
      "รหัส Unicode A = 65\n",
      "[5, 4, 3, 2, 1]\n",
      "ค่าข้อมูลตำแหน่งที่ 1-10 ข้ามครั้งละ 2 ตำแหน่ง = yhnPo\n",
      "{1: 'C', 2: 'C++', 3: 'Java', 4: 'Python', 5: 'C#'}\n"
     ]
    }
   ],
   "source": [
    "l = [1, 2, 3, 4, 5]\n",
    "s = {\"Python\", \"Java\", \"C\", \"C++\", \"C#\"}\n",
    "sl = \"Python Programming\"\n",
    "div = divmod(9, 2)\n",
    "exp = \"20 + 60\"\n",
    "print(\"ค่าผลหารและเศษ =\", div)\n",
    "print (\"exp =\", eval(exp))\n",
    "print(\"รหัส Unicode A =\", ord(\"A\"))\n",
    "print(list(reversed(l)))\n",
    "print(\"ค่าข้อมูลตำแหน่งที่ 1-10 ข้ามครั้งละ 2 ตำแหน่ง =\", sl[slice(1, 10, 2)])\n",
    "print(dict(zip(l, s)))"
   ]
  },
  {
   "cell_type": "code",
   "execution_count": null,
   "metadata": {},
   "outputs": [],
   "source": []
  }
 ],
 "metadata": {
  "kernelspec": {
   "display_name": "Python 3",
   "language": "python",
   "name": "python3"
  },
  "language_info": {
   "codemirror_mode": {
    "name": "ipython",
    "version": 3
   },
   "file_extension": ".py",
   "mimetype": "text/x-python",
   "name": "python",
   "nbconvert_exporter": "python",
   "pygments_lexer": "ipython3",
   "version": "3.7.4"
  }
 },
 "nbformat": 4,
 "nbformat_minor": 2
}
