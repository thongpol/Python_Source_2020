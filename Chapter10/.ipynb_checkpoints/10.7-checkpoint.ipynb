{
 "cells": [
  {
   "cell_type": "code",
   "execution_count": 1,
   "metadata": {},
   "outputs": [
    {
     "name": "stdout",
     "output_type": "stream",
     "text": [
      "ค่าอาร์กิวเมนต์ที่ส่งให้ค่าพารามิเตอร์ = ['Python is']\n",
      "ค่าพารามิเตอร์ที่รับมาจาก arg_lst = ['Python is']\n",
      "เปลี่ยนค่าพารามิเตอร์ =  ['Python is', 'easy to learn.']\n",
      "ค่าอาร์กิวเมนต์หลังจากเปลี่ยนค่าพารามิเตอร์ = ['Python is', 'easy to learn.']\n"
     ]
    }
   ],
   "source": [
    "def msg(f_lst):\n",
    "    print (\"ค่าพารามิเตอร์ที่รับมาจาก arg_lst =\", f_lst)\n",
    "    f_lst.append(\"easy to learn.\")\n",
    "    print (\"เปลี่ยนค่าพารามิเตอร์ = \", f_lst)\n",
    "arg_lst = [\"Python is\"]\n",
    "print (\"ค่าอาร์กิวเมนต์ที่ส่งให้ค่าพารามิเตอร์ =\", arg_lst)\n",
    "msg(arg_lst)\n",
    "print (\"ค่าอาร์กิวเมนต์หลังจากเปลี่ยนค่าพารามิเตอร์ =\", arg_lst)"
   ]
  },
  {
   "cell_type": "code",
   "execution_count": null,
   "metadata": {},
   "outputs": [],
   "source": []
  }
 ],
 "metadata": {
  "kernelspec": {
   "display_name": "Python 3",
   "language": "python",
   "name": "python3"
  },
  "language_info": {
   "codemirror_mode": {
    "name": "ipython",
    "version": 3
   },
   "file_extension": ".py",
   "mimetype": "text/x-python",
   "name": "python",
   "nbconvert_exporter": "python",
   "pygments_lexer": "ipython3",
   "version": "3.7.4"
  }
 },
 "nbformat": 4,
 "nbformat_minor": 2
}
