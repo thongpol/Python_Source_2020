{
 "cells": [
  {
   "cell_type": "code",
   "execution_count": 1,
   "metadata": {},
   "outputs": [
    {
     "name": "stdout",
     "output_type": "stream",
     "text": [
      "เงินเดือนที่ได้รับสุทธิ =  18050.0 บาท\n",
      "เงินเดือนที่ได้รับสุทธิ =  24020.0 บาท\n"
     ]
    }
   ],
   "source": [
    "def bonus_1(m, ot):\n",
    "    total =  (m + (ot * 20)) * 0.5\n",
    "    salary = total + m\n",
    "    return salary\n",
    "def bonus_2(m, ot):\n",
    "    total =  (m + (ot * 20)) * 0.2\n",
    "    salary = total + m\n",
    "    return salary\n",
    "print (\"เงินเดือนที่ได้รับสุทธิ = \", bonus_1(12000, 5), \"บาท\")\n",
    "print (\"เงินเดือนที่ได้รับสุทธิ = \", bonus_2(20000, 5), \"บาท\")"
   ]
  },
  {
   "cell_type": "code",
   "execution_count": null,
   "metadata": {},
   "outputs": [],
   "source": []
  }
 ],
 "metadata": {
  "kernelspec": {
   "display_name": "Python 3",
   "language": "python",
   "name": "python3"
  },
  "language_info": {
   "codemirror_mode": {
    "name": "ipython",
    "version": 3
   },
   "file_extension": ".py",
   "mimetype": "text/x-python",
   "name": "python",
   "nbconvert_exporter": "python",
   "pygments_lexer": "ipython3",
   "version": "3.7.4"
  }
 },
 "nbformat": 4,
 "nbformat_minor": 2
}
