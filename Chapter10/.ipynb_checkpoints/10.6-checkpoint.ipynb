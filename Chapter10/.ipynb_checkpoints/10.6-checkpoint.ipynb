{
 "cells": [
  {
   "cell_type": "code",
   "execution_count": 1,
   "metadata": {},
   "outputs": [
    {
     "name": "stdout",
     "output_type": "stream",
     "text": [
      "ค่าอาร์กิวเมนต์ที่ส่งให้ค่าพารามิเตอร์ = Python is programming language.\n",
      "ค่าพารามิเตอร์ที่รับมา = Python is programming language.\n",
      "เปลี่ยนค่าพารามิเตอร์ =  Python is easy to learn.\n",
      "ค่าอาร์กิวเมนต์หลังจากเปลี่ยนค่าพารามิเตอร์ส่งกลับ = Python is programming language.\n"
     ]
    }
   ],
   "source": [
    "def msg(f_str): # ประกาศฟังก์ชันโดยมีพารามิเตอร์คอยรับค่า\n",
    "    print (\"ค่าพารามิเตอร์ที่รับมา =\", f_str) # แสดงผลลัพธ์ค่าพารามิเตอร์\n",
    "    f_str = \"Python is easy to learn.\" # เปลี่ยนค่าข้อมูลพารามิเตอร์ f_str \n",
    "    print (\"เปลี่ยนค่าพารามิเตอร์ = \", f_str) # แสดงผลลัพธ์หลังจากแปลี่ยนค่าพารามิเตอร์\n",
    "arg_str = \"Python is programming language.\" # กำหนดค่าให้กับตัวแปร\n",
    "print (\"ค่าอาร์กิวเมนต์ที่ส่งให้ค่าพารามิเตอร์ =\", arg_str)\n",
    "        # แสดงผลลัพธ์ค่าตัวแปร arg_str ก่อนส่งค่าให้กับฟังก์ชัน\n",
    "msg(arg_str) # ส่งค่าอาร์กิวเมนต์ให้กับฟังก์ชัน\n",
    "print (\"ค่าอาร์กิวเมนต์หลังจากเปลี่ยนค่าพารามิเตอร์ส่งกลับ =\", arg_str) \n",
    "        # แสดงผลลัพธ์ค่าตัวแปร arg_str หลังจากฟังก์ชันส่งกลับ"
   ]
  },
  {
   "cell_type": "code",
   "execution_count": null,
   "metadata": {},
   "outputs": [],
   "source": []
  }
 ],
 "metadata": {
  "kernelspec": {
   "display_name": "Python 3",
   "language": "python",
   "name": "python3"
  },
  "language_info": {
   "codemirror_mode": {
    "name": "ipython",
    "version": 3
   },
   "file_extension": ".py",
   "mimetype": "text/x-python",
   "name": "python",
   "nbconvert_exporter": "python",
   "pygments_lexer": "ipython3",
   "version": "3.7.4"
  }
 },
 "nbformat": 4,
 "nbformat_minor": 2
}
