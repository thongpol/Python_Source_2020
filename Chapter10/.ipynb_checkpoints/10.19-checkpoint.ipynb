{
 "cells": [
  {
   "cell_type": "code",
   "execution_count": 1,
   "metadata": {},
   "outputs": [
    {
     "name": "stdout",
     "output_type": "stream",
     "text": [
      "10.5\n",
      "False\n",
      "False\n",
      "'Python programming \\xa9'\n",
      "ตัวอักขระที่ 97 = a\n"
     ]
    }
   ],
   "source": [
    "x = -10.5; y = [1, 2, 3, True, False]; z = []\n",
    "msg = \"Python programming ©\"\n",
    "print(abs(x))\n",
    "print(all(y))\n",
    "print(any(z))\n",
    "print(ascii(msg))\n",
    "print(\"ตัวอักขระที่ 97 =\", chr(97))"
   ]
  },
  {
   "cell_type": "code",
   "execution_count": null,
   "metadata": {},
   "outputs": [],
   "source": []
  }
 ],
 "metadata": {
  "kernelspec": {
   "display_name": "Python 3",
   "language": "python",
   "name": "python3"
  },
  "language_info": {
   "codemirror_mode": {
    "name": "ipython",
    "version": 3
   },
   "file_extension": ".py",
   "mimetype": "text/x-python",
   "name": "python",
   "nbconvert_exporter": "python",
   "pygments_lexer": "ipython3",
   "version": "3.7.4"
  }
 },
 "nbformat": 4,
 "nbformat_minor": 2
}
