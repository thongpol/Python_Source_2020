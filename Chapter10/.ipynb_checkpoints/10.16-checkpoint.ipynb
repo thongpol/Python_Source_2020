{
 "cells": [
  {
   "cell_type": "code",
   "execution_count": 1,
   "metadata": {},
   "outputs": [
    {
     "name": "stdout",
     "output_type": "stream",
     "text": [
      "พื้นที่วงกลม =  314.0 ตารางเมตร\n",
      "เส้นรอบวงวงกลม = 62.800 เมตร\n"
     ]
    }
   ],
   "source": [
    "def circle_area():\n",
    "    global r; r = 10 # ตัวแปรชนิดข้อมูลโกลบอล\n",
    "    global pi; pi = 3.14 # ตัวแปรชนิดข้อมูลโกลบอล\n",
    "    result = pi * (r * r) # ตัวแปรชนิดข้อมูลโลคอล\n",
    "    return result\n",
    "def circumference():\n",
    "    result = 2 * pi * r # ตัวแปรชนิดข้อมูลโลคอล\n",
    "    return result\n",
    "print (\"พื้นที่วงกลม = \", circle_area(), \"ตารางเมตร\")\n",
    "print (\"เส้นรอบวงวงกลม = %.3f\" %circumference(), \"เมตร\")"
   ]
  },
  {
   "cell_type": "code",
   "execution_count": null,
   "metadata": {},
   "outputs": [],
   "source": []
  }
 ],
 "metadata": {
  "kernelspec": {
   "display_name": "Python 3",
   "language": "python",
   "name": "python3"
  },
  "language_info": {
   "codemirror_mode": {
    "name": "ipython",
    "version": 3
   },
   "file_extension": ".py",
   "mimetype": "text/x-python",
   "name": "python",
   "nbconvert_exporter": "python",
   "pygments_lexer": "ipython3",
   "version": "3.7.4"
  }
 },
 "nbformat": 4,
 "nbformat_minor": 2
}
