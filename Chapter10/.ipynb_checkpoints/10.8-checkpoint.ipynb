{
 "cells": [
  {
   "cell_type": "code",
   "execution_count": 1,
   "metadata": {},
   "outputs": [
    {
     "name": "stdout",
     "output_type": "stream",
     "text": [
      "แสดงค่าข้อมูลในลิสต์ = [1, 2, 3]\n",
      "แสดงค่าข้อมูลในตัวแปร num = 50\n",
      "แสดค่าข้อมูลในตัวแปร str_ = Python\n"
     ]
    }
   ],
   "source": [
    "def req_arg(numlst, str_, num):\n",
    "    print (\"แสดงค่าข้อมูลในลิสต์ =\", numlst)\n",
    "    print (\"แสดงค่าข้อมูลในตัวแปร num =\", num)\n",
    "    print (\"แสดค่าข้อมูลในตัวแปร str_ =\", str_)\n",
    "lst = [1,2,3]; msg = \"Python\"\n",
    "req_arg(lst, msg, 50)"
   ]
  },
  {
   "cell_type": "code",
   "execution_count": null,
   "metadata": {},
   "outputs": [],
   "source": []
  }
 ],
 "metadata": {
  "kernelspec": {
   "display_name": "Python 3",
   "language": "python",
   "name": "python3"
  },
  "language_info": {
   "codemirror_mode": {
    "name": "ipython",
    "version": 3
   },
   "file_extension": ".py",
   "mimetype": "text/x-python",
   "name": "python",
   "nbconvert_exporter": "python",
   "pygments_lexer": "ipython3",
   "version": "3.7.4"
  }
 },
 "nbformat": 4,
 "nbformat_minor": 2
}
