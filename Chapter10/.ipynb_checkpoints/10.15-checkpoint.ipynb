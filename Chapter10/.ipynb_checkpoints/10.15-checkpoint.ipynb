{
 "cells": [
  {
   "cell_type": "code",
   "execution_count": 1,
   "metadata": {},
   "outputs": [
    {
     "name": "stdout",
     "output_type": "stream",
     "text": [
      "ป้อนค่ารัศมี : 10\n",
      "ป้อนค่าความสูง : 12\n",
      "ปริมาตรทรงกระบอก =  3768.0 ลูกบาศก์เมตร\n"
     ]
    }
   ],
   "source": [
    "r = int(input(\"ป้อนค่ารัศมี : \")) # ตัวแปรชนิดข้อมูลโกลบอล\n",
    "h = int(input(\"ป้อนค่าความสูง : \")) # ตัวแปรชนิดข้อมูลโกลบอล\n",
    "def cylinder():\n",
    "    volume = 3.14 * (r * r) * h # volume เป็นตัวแปรชนิดข้อมูลโลคอล\n",
    "    return volume\n",
    "print (\"ปริมาตรทรงกระบอก = \", cylinder(), \"ลูกบาศก์เมตร\")"
   ]
  },
  {
   "cell_type": "code",
   "execution_count": null,
   "metadata": {},
   "outputs": [],
   "source": []
  }
 ],
 "metadata": {
  "kernelspec": {
   "display_name": "Python 3",
   "language": "python",
   "name": "python3"
  },
  "language_info": {
   "codemirror_mode": {
    "name": "ipython",
    "version": 3
   },
   "file_extension": ".py",
   "mimetype": "text/x-python",
   "name": "python",
   "nbconvert_exporter": "python",
   "pygments_lexer": "ipython3",
   "version": "3.7.4"
  }
 },
 "nbformat": 4,
 "nbformat_minor": 2
}
