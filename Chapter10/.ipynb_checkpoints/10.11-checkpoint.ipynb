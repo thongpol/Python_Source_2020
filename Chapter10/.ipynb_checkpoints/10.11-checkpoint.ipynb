{
 "cells": [
  {
   "cell_type": "code",
   "execution_count": 1,
   "metadata": {},
   "outputs": [
    {
     "name": "stdout",
     "output_type": "stream",
     "text": [
      "จำนวนข้อมูลในตัวแปร num :\n",
      "10 20 30 40  \n",
      "ผลคูณพารามิเตอร์ num[2] * 2 = 60\n"
     ]
    }
   ],
   "source": [
    "def varleng_arg(*num):\n",
    "    print(\"จำนวนข้อมูลในตัวแปร num :\")\n",
    "    for var in num:\n",
    "        print(var, end=\" \")\n",
    "    print(\" \")\n",
    "    result = num[2] * 2\n",
    "    print(\"ผลคูณพารามิเตอร์ num[2] * 2 =\", result)\n",
    "varleng_arg(10, 20, 30, 40)"
   ]
  },
  {
   "cell_type": "code",
   "execution_count": null,
   "metadata": {},
   "outputs": [],
   "source": []
  }
 ],
 "metadata": {
  "kernelspec": {
   "display_name": "Python 3",
   "language": "python",
   "name": "python3"
  },
  "language_info": {
   "codemirror_mode": {
    "name": "ipython",
    "version": 3
   },
   "file_extension": ".py",
   "mimetype": "text/x-python",
   "name": "python",
   "nbconvert_exporter": "python",
   "pygments_lexer": "ipython3",
   "version": "3.7.4"
  }
 },
 "nbformat": 4,
 "nbformat_minor": 2
}
