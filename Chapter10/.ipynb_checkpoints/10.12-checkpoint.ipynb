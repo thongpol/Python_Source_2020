{
 "cells": [
  {
   "cell_type": "code",
   "execution_count": 1,
   "metadata": {},
   "outputs": [
    {
     "name": "stdout",
     "output_type": "stream",
     "text": [
      "ปริมาตรทรงกระบอกที่ 1 =  141.3\n",
      "ปริมาตรทรงกระบอกที่ 2 =  2411.52\n",
      "ปริมาตรทรงกระบอกที่ 3 =  3815.1\n"
     ]
    }
   ],
   "source": [
    "volume = lambda r, h: 3.14 * (r*r) * h\n",
    "print (\"ปริมาตรทรงกระบอกที่ 1 = \", volume(3,5))\n",
    "print (\"ปริมาตรทรงกระบอกที่ 2 = \", volume(8,12))\n",
    "print (\"ปริมาตรทรงกระบอกที่ 3 = \", volume(9,15)) "
   ]
  },
  {
   "cell_type": "code",
   "execution_count": null,
   "metadata": {},
   "outputs": [],
   "source": []
  }
 ],
 "metadata": {
  "kernelspec": {
   "display_name": "Python 3",
   "language": "python",
   "name": "python3"
  },
  "language_info": {
   "codemirror_mode": {
    "name": "ipython",
    "version": 3
   },
   "file_extension": ".py",
   "mimetype": "text/x-python",
   "name": "python",
   "nbconvert_exporter": "python",
   "pygments_lexer": "ipython3",
   "version": "3.7.4"
  }
 },
 "nbformat": 4,
 "nbformat_minor": 2
}
