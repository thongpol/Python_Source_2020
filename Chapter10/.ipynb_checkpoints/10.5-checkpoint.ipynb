{
 "cells": [
  {
   "cell_type": "code",
   "execution_count": 1,
   "metadata": {},
   "outputs": [
    {
     "name": "stdout",
     "output_type": "stream",
     "text": [
      "Hello, Doraemon. Where are you?\n"
     ]
    }
   ],
   "source": [
    "def show_greeting4(name): # ประกาศฟังก์ชันโดยมีพารามิเตอร์คอยรับค่า\n",
    "    greeting_name = \"Hello, \" + name + \" Where are you?\" \n",
    "        # สร้างตัวแปรพร้อมกำหนดค่า\n",
    "    return greeting_name # ส่งค่าตัวแปร greeting กลับ เมื่อมีการเรียกใช้งานฟังก์ชัน\n",
    "print (show_greeting4(\"Doraemon.\")) \n",
    "        # แสดงผลลัพธ์จากการเรียกใช้งานฟังก์ชันพร้อมมีการส่งค่า"
   ]
  },
  {
   "cell_type": "code",
   "execution_count": null,
   "metadata": {},
   "outputs": [],
   "source": []
  }
 ],
 "metadata": {
  "kernelspec": {
   "display_name": "Python 3",
   "language": "python",
   "name": "python3"
  },
  "language_info": {
   "codemirror_mode": {
    "name": "ipython",
    "version": 3
   },
   "file_extension": ".py",
   "mimetype": "text/x-python",
   "name": "python",
   "nbconvert_exporter": "python",
   "pygments_lexer": "ipython3",
   "version": "3.7.4"
  }
 },
 "nbformat": 4,
 "nbformat_minor": 2
}
