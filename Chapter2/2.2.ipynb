{
 "cells": [
  {
   "cell_type": "code",
   "execution_count": 1,
   "metadata": {},
   "outputs": [
    {
     "name": "stdout",
     "output_type": "stream",
     "text": [
      "Hello Python Hello Python programming\n",
      "50\n",
      "HelloPython\n",
      "Hello Python\n",
      "\n",
      "25.0\n"
     ]
    }
   ],
   "source": [
    "print (\"Hello Python\", 'Hello Python programming')\n",
    "print (50)\n",
    "print (\"Hello\" + \"Python\")\n",
    "print (\"Hello\" + ' ' + \"Python\")\n",
    "print ()\n",
    "print (5*10/2)"
   ]
  },
  {
   "cell_type": "code",
   "execution_count": null,
   "metadata": {},
   "outputs": [],
   "source": []
  }
 ],
 "metadata": {
  "kernelspec": {
   "display_name": "Python 3",
   "language": "python",
   "name": "python3"
  },
  "language_info": {
   "codemirror_mode": {
    "name": "ipython",
    "version": 3
   },
   "file_extension": ".py",
   "mimetype": "text/x-python",
   "name": "python",
   "nbconvert_exporter": "python",
   "pygments_lexer": "ipython3",
   "version": "3.7.4"
  }
 },
 "nbformat": 4,
 "nbformat_minor": 2
}
