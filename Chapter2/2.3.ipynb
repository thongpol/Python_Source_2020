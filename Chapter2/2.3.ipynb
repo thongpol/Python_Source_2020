{
 "cells": [
  {
   "cell_type": "code",
   "execution_count": null,
   "metadata": {},
   "outputs": [
    {
     "name": "stdout",
     "output_type": "stream",
     "text": [
      "กรุณาป้อนชื่อของคุณ : ณัฐวัตร\n",
      "กรุณาป้อนนามสกุลของคุณ : คำภักดี\n"
     ]
    }
   ],
   "source": [
    "first_name = input(\"กรุณาป้อนชื่อของคุณ : \")\n",
    "last_name = input(\"กรุณาป้อนนามสกุลของคุณ : \")\n",
    "age = input(\"กรุณาป้อนอายุของคุณ : \")\n",
    "print(\"----------------------------------\")\n",
    "print (\"ชื่อของคุณ คือ\", first_name)\n",
    "print (\"นามสกุลของคุณ คือ\", last_name)\n",
    "print (\"อายุของคุณ คือ\", age)"
   ]
  },
  {
   "cell_type": "code",
   "execution_count": null,
   "metadata": {},
   "outputs": [],
   "source": []
  }
 ],
 "metadata": {
  "kernelspec": {
   "display_name": "Python 3",
   "language": "python",
   "name": "python3"
  },
  "language_info": {
   "codemirror_mode": {
    "name": "ipython",
    "version": 3
   },
   "file_extension": ".py",
   "mimetype": "text/x-python",
   "name": "python",
   "nbconvert_exporter": "python",
   "pygments_lexer": "ipython3",
   "version": "3.7.4"
  }
 },
 "nbformat": 4,
 "nbformat_minor": 2
}
