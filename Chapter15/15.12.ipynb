{
 "cells": [
  {
   "cell_type": "code",
   "execution_count": null,
   "metadata": {},
   "outputs": [],
   "source": [
    "...\n",
    "DATABASES = {\n",
    "    'default': {\n",
    "        'ENGINE': 'django.db.backends.mysql',\n",
    "        'NAME': 'django_db', # ชื่อฐานข้อมูลที่ได้สร้างไว้ใน MariaDB\n",
    "        'HOST': '127.0.0.1',\n",
    "        'PORT': '3306',\n",
    "        'USER': 'root',\n",
    "        'PASSWORD': '1234', # Password ตามผู้ใช้งานที่ได้ตั้งไว้\n",
    "    }\n",
    "}\n",
    "..."
   ]
  }
 ],
 "metadata": {
  "kernelspec": {
   "display_name": "Python 3",
   "language": "python",
   "name": "python3"
  },
  "language_info": {
   "codemirror_mode": {
    "name": "ipython",
    "version": 3
   },
   "file_extension": ".py",
   "mimetype": "text/x-python",
   "name": "python",
   "nbconvert_exporter": "python",
   "pygments_lexer": "ipython3",
   "version": "3.7.4"
  }
 },
 "nbformat": 4,
 "nbformat_minor": 2
}
