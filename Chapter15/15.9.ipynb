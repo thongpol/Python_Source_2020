{
 "cells": [
  {
   "cell_type": "code",
   "execution_count": null,
   "metadata": {},
   "outputs": [],
   "source": [
    "{% load static from staticfiles %} # โหลด staticfiles เข้ามายัง template\n",
    "<!DOCTYPE html>\n",
    "<html lang=\"en\" dir=\"ltr\">\n",
    "  <head>\n",
    "    <meta charset=\"utf-8\">\n",
    "    <title>Django Templates</title>\n",
    "  </head>\n",
    "  <body>\n",
    "    <img src=\"{% static 'logo.png' %}\" alt=\"\"/> # นำรูปภาพมาแสดงผลหน้าเว็บเพจ\n",
    "    <h1>This is Django templates</h1>\n",
    "  </body>\n",
    "</html>"
   ]
  }
 ],
 "metadata": {
  "kernelspec": {
   "display_name": "Python 3",
   "language": "python",
   "name": "python3"
  },
  "language_info": {
   "codemirror_mode": {
    "name": "ipython",
    "version": 3
   },
   "file_extension": ".py",
   "mimetype": "text/x-python",
   "name": "python",
   "nbconvert_exporter": "python",
   "pygments_lexer": "ipython3",
   "version": "3.7.4"
  }
 },
 "nbformat": 4,
 "nbformat_minor": 2
}
