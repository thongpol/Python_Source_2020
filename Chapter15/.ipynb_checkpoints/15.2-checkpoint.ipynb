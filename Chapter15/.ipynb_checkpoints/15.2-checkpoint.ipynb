{
 "cells": [
  {
   "cell_type": "code",
   "execution_count": null,
   "metadata": {},
   "outputs": [],
   "source": [
    "from django.urls import path # import ฟังก์ชัน path\n",
    "from . import views # import ทุก views ของแพ็กเก็ต showmessages\n",
    "# กำหนด URLs ด้วยฟังก์ชันสำหรับค้นหาเส้นทาง views\n",
    "urlpatterns = [\n",
    "     path(\"\", views.index, name=\"index\"),  # กำหนดเส้นทางลิงค์ไปยังฟังก์ชัน index ภายในไฟล์ views.py\n",
    "]"
   ]
  }
 ],
 "metadata": {
  "kernelspec": {
   "display_name": "Python 3",
   "language": "python",
   "name": "python3"
  },
  "language_info": {
   "codemirror_mode": {
    "name": "ipython",
    "version": 3
   },
   "file_extension": ".py",
   "mimetype": "text/x-python",
   "name": "python",
   "nbconvert_exporter": "python",
   "pygments_lexer": "ipython3",
   "version": "3.7.4"
  }
 },
 "nbformat": 4,
 "nbformat_minor": 2
}
