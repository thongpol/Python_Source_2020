{
 "cells": [
  {
   "cell_type": "code",
   "execution_count": null,
   "metadata": {},
   "outputs": [],
   "source": [
    "…\n",
    "# Static files (CSS, JavaScript, Images)\n",
    "# https://docs.djangoproject.com/en/2.2/howto/static-files/\n",
    "\n",
    "STATIC_URL = '/static/'\n",
    "STATICFILES_DIRS = [os.path.join(BASE_DIR, \"showmessages\\\\static\\\\\"),]  # เชื่อมโยงไปยังไดเรกทรอรี static"
   ]
  }
 ],
 "metadata": {
  "kernelspec": {
   "display_name": "Python 3",
   "language": "python",
   "name": "python3"
  },
  "language_info": {
   "codemirror_mode": {
    "name": "ipython",
    "version": 3
   },
   "file_extension": ".py",
   "mimetype": "text/x-python",
   "name": "python",
   "nbconvert_exporter": "python",
   "pygments_lexer": "ipython3",
   "version": "3.7.4"
  }
 },
 "nbformat": 4,
 "nbformat_minor": 2
}
