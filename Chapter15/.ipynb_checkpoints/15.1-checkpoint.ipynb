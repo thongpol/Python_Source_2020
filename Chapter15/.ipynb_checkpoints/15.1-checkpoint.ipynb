{
 "cells": [
  {
   "cell_type": "code",
   "execution_count": null,
   "metadata": {},
   "outputs": [],
   "source": [
    "from django.http import HttpResponse # import ฟังก์ชัน HttpResponse\n",
    "\n",
    "def index(request): # สร้างฟังก์ชัน index โดยมี request เป็นตัวรับค่า\n",
    "     return HttpResponse(\"<h1> This is showmessages page</h1>\")  # คืนค่ากลับจากการร้องขอจากบราวเซอร์ "
   ]
  }
 ],
 "metadata": {
  "kernelspec": {
   "display_name": "Python 3",
   "language": "python",
   "name": "python3"
  },
  "language_info": {
   "codemirror_mode": {
    "name": "ipython",
    "version": 3
   },
   "file_extension": ".py",
   "mimetype": "text/x-python",
   "name": "python",
   "nbconvert_exporter": "python",
   "pygments_lexer": "ipython3",
   "version": "3.7.4"
  }
 },
 "nbformat": 4,
 "nbformat_minor": 2
}
