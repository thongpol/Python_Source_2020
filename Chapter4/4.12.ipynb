{
 "cells": [
  {
   "cell_type": "code",
   "execution_count": 2,
   "metadata": {},
   "outputs": [
    {
     "name": "stdout",
     "output_type": "stream",
     "text": [
      "Guido van Rossum developed Python. Python has feature highlights such as:\n",
      "\t- Easy-to-learn\n",
      "\t- Easy-to-read\n",
      "\t- Easy-to-maintain\n",
      "and \"Everyone can learn and practice in a short time\"\n"
     ]
    }
   ],
   "source": [
    "str1 = (\"Guido van Rossum developed Python. \\\n",
    "Python has feature highlights such as:\\n\\t\\\n",
    "- Easy-to-learn\\n\\t\\\n",
    "- Easy-to-read\\n\\t\\\n",
    "- Easy-to-maintain\\n\\\n",
    "and \\\"Everyone can learn and practice in a short time\\\"\")\n",
    "print (str1)\n",
    "    # จัดรูปแบบการแสดงผลด้วยรหัสพิเศษ \\n \\t"
   ]
  },
  {
   "cell_type": "code",
   "execution_count": null,
   "metadata": {},
   "outputs": [],
   "source": []
  }
 ],
 "metadata": {
  "kernelspec": {
   "display_name": "Python 3",
   "language": "python",
   "name": "python3"
  },
  "language_info": {
   "codemirror_mode": {
    "name": "ipython",
    "version": 3
   },
   "file_extension": ".py",
   "mimetype": "text/x-python",
   "name": "python",
   "nbconvert_exporter": "python",
   "pygments_lexer": "ipython3",
   "version": "3.7.4"
  }
 },
 "nbformat": 4,
 "nbformat_minor": 2
}
