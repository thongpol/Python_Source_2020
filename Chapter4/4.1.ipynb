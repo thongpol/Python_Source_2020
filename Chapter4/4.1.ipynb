{
 "cells": [
  {
   "cell_type": "code",
   "execution_count": 1,
   "metadata": {},
   "outputs": [
    {
     "name": "stdout",
     "output_type": "stream",
     "text": [
      "Python Programming\n",
      "Python is the best programming.\n"
     ]
    }
   ],
   "source": [
    "str1 = \"Python Programming\" # ใช้เครื่องหมาย “” เป็นชนิดข้อมูลสตริง\n",
    "str2 = 'Python is the best programming.' # ใช้เครื่องหมาย ‘’ เป็นชนิดข้อมูลสตริง\n",
    "print (str1) # แสดงผลค่าตัวแปร str1\n",
    "print (str2) # แสดงผลค่าตัวแปร str2"
   ]
  },
  {
   "cell_type": "code",
   "execution_count": null,
   "metadata": {},
   "outputs": [],
   "source": []
  }
 ],
 "metadata": {
  "kernelspec": {
   "display_name": "Python 3",
   "language": "python",
   "name": "python3"
  },
  "language_info": {
   "codemirror_mode": {
    "name": "ipython",
    "version": 3
   },
   "file_extension": ".py",
   "mimetype": "text/x-python",
   "name": "python",
   "nbconvert_exporter": "python",
   "pygments_lexer": "ipython3",
   "version": "3.7.4"
  }
 },
 "nbformat": 4,
 "nbformat_minor": 2
}
