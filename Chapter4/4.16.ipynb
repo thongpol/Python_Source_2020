{
 "cells": [
  {
   "cell_type": "code",
   "execution_count": 14,
   "metadata": {},
   "outputs": [
    {
     "name": "stdout",
     "output_type": "stream",
     "text": [
      "สมชาย เรียนวิชา Programming ได้คะแนน\n",
      "ทดสอบครั้งที่ 1 = 23\n",
      "ทดสอบครั้งที่ 2 = 24.50\n",
      "ทดสอบครั้งที่ 3 = 30\n",
      "ได้เกรด = B+\n"
     ]
    }
   ],
   "source": [
    "test1 = 23; test2 = 24.5; test3 = 30; subject = \"Programming\"; grade = \"B+\"\n",
    "print(\"สมชาย เรียนวิชา %s ได้คะแนน\\n\\\n",
    "ทดสอบครั้งที่ 1 = %d\\n\\\n",
    "ทดสอบครั้งที่ 2 = %.2f\\n\\\n",
    "ทดสอบครั้งที่ 3 = %d\\n\\\n",
    "ได้เกรด = %s\" %(subject, test1, test2, test3, grade))\n",
    "    # แสดงผลค่าอาร์กิวเมนต์ทั้งหมด (subject, test1, test2, test3, test4) "
   ]
  }
 ],
 "metadata": {
  "kernelspec": {
   "display_name": "Python 3",
   "language": "python",
   "name": "python3"
  },
  "language_info": {
   "codemirror_mode": {
    "name": "ipython",
    "version": 3
   },
   "file_extension": ".py",
   "mimetype": "text/x-python",
   "name": "python",
   "nbconvert_exporter": "python",
   "pygments_lexer": "ipython3",
   "version": "3.7.4"
  }
 },
 "nbformat": 4,
 "nbformat_minor": 2
}
