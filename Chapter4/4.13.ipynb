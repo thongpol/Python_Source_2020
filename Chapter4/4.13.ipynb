{
 "cells": [
  {
   "cell_type": "code",
   "execution_count": 1,
   "metadata": {},
   "outputs": [
    {
     "name": "stdout",
     "output_type": "stream",
     "text": [
      "จัดรูปแบบแสดงผลโดยใช้เครื่องหมาย % = 109.888889\n",
      "จัดรูปแบบแสดงผลโดยใช้เครื่องหมาย {} = 109.888889\n"
     ]
    }
   ],
   "source": [
    "num1 = 4945; num2 = 45 # สร้างตัวแปรเป็นชนิดข้อมูลจำนวนเต็ม\n",
    "result = num1/num2 # หารค่าตัวแปร num1 กับ num2 เก็บผลลัพธ์ไว้ใน result\n",
    "print(\"จัดรูปแบบแสดงผลโดยใช้เครื่องหมาย % =\", \"%f\" %(result)) \n",
    "      # ใช้เครื่องหมาย % จัดรูปแบบแสดงผล\n",
    "print(\"จัดรูปแบบแสดงผลโดยใช้เครื่องหมาย {} =\", \"{:f}\".format(result)) \n",
    "      # ใช้เครื่องหมาย {} จัดรูปแบบแสดงผลร่วมกับฟังก์ชัน .format()"
   ]
  }
 ],
 "metadata": {
  "kernelspec": {
   "display_name": "Python 3",
   "language": "python",
   "name": "python3"
  },
  "language_info": {
   "codemirror_mode": {
    "name": "ipython",
    "version": 3
   },
   "file_extension": ".py",
   "mimetype": "text/x-python",
   "name": "python",
   "nbconvert_exporter": "python",
   "pygments_lexer": "ipython3",
   "version": "3.7.4"
  }
 },
 "nbformat": 4,
 "nbformat_minor": 2
}
