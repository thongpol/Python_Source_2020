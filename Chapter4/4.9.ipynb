{
 "cells": [
  {
   "cell_type": "code",
   "execution_count": 1,
   "metadata": {},
   "outputs": [
    {
     "name": "stdout",
     "output_type": "stream",
     "text": [
      "ผลลัพธ์ที่ได้จากการตัดคำ -12::2 = n agae\n",
      "ผลลัพธ์ที่ได้จากการตัดคำ 1::2 = yhni h etpormiglnug.\n"
     ]
    }
   ],
   "source": [
    "str1 = \"Python is the best programming language.\"  # สร้างตัวแปรชนิดข้อมูลสตริง\n",
    "print (\"ผลลัพธ์ที่ได้จากการตัดคำ -12::2 =\", str1[-12::2]) \n",
    "# แสดงตัวอักขระจากตำแหน่งที่ -12 ถึง -1 โดยกระโดดครั้งละ 2 ตำแหน่ง\n",
    "print (\"ผลลัพธ์ที่ได้จากการตัดคำ 1::2 =\", str1[1::2])       \n",
    "# แสดงตัวอักขระจากตำแหน่งที่ 2 ถึงตำแหน่งสุดท้าย โดยกระโดดครั้งละ 2 ตำแหน่ง       "
   ]
  },
  {
   "cell_type": "code",
   "execution_count": null,
   "metadata": {},
   "outputs": [],
   "source": []
  }
 ],
 "metadata": {
  "kernelspec": {
   "display_name": "Python 3",
   "language": "python",
   "name": "python3"
  },
  "language_info": {
   "codemirror_mode": {
    "name": "ipython",
    "version": 3
   },
   "file_extension": ".py",
   "mimetype": "text/x-python",
   "name": "python",
   "nbconvert_exporter": "python",
   "pygments_lexer": "ipython3",
   "version": "3.7.4"
  }
 },
 "nbformat": 4,
 "nbformat_minor": 2
}
