{
 "cells": [
  {
   "cell_type": "code",
   "execution_count": 1,
   "metadata": {},
   "outputs": [
    {
     "name": "stdout",
     "output_type": "stream",
     "text": [
      "จัดตำแหน่งให้อยู่ด้านซ้าย = Programming         \n",
      "จัดตำแหน่งให้อยู่ตรงกลาง =     Programming     \n",
      "จัดตำแหน่งให้อยู่ด้านขวา= ---------Programming\n"
     ]
    }
   ],
   "source": [
    "str = \"Programming\"\n",
    "print(\"จัดตำแหน่งให้อยู่ด้านซ้าย =\", str.ljust(20))\n",
    "print(\"จัดตำแหน่งให้อยู่ตรงกลาง =\", str.center(20))\n",
    "print(\"จัดตำแหน่งให้อยู่ด้านขวา=\", str.rjust(20, \"-\"))"
   ]
  },
  {
   "cell_type": "code",
   "execution_count": null,
   "metadata": {},
   "outputs": [],
   "source": []
  }
 ],
 "metadata": {
  "kernelspec": {
   "display_name": "Python 3",
   "language": "python",
   "name": "python3"
  },
  "language_info": {
   "codemirror_mode": {
    "name": "ipython",
    "version": 3
   },
   "file_extension": ".py",
   "mimetype": "text/x-python",
   "name": "python",
   "nbconvert_exporter": "python",
   "pygments_lexer": "ipython3",
   "version": "3.7.4"
  }
 },
 "nbformat": 4,
 "nbformat_minor": 2
}
