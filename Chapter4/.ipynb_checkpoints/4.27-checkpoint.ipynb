{
 "cells": [
  {
   "cell_type": "code",
   "execution_count": 1,
   "metadata": {},
   "outputs": [
    {
     "name": "stdout",
     "output_type": "stream",
     "text": [
      "str1 < str2 หรือไม่ = True\n",
      "str1 > str2 หรือไม่ = False\n",
      "str1 >= str2 หรือไม่ = False\n",
      "str1 != str2 หรือไม่ = True\n",
      "str2 == str3 หรือไม่ = True\n"
     ]
    }
   ],
   "source": [
    "str1 = \"Hello Python\"; str2 = \"Programming\"; str3 = \"Programming\"\n",
    "print (\"str1 < str2 หรือไม่ =\", str1 < str2)\n",
    "print (\"str1 > str2 หรือไม่ =\", str1 > str2)\n",
    "print (\"str1 >= str2 หรือไม่ =\", str1 >= str2)\n",
    "print (\"str1 != str2 หรือไม่ =\", str1 != str2)\n",
    "print (\"str2 == str3 หรือไม่ =\", str2 == str3)"
   ]
  },
  {
   "cell_type": "code",
   "execution_count": null,
   "metadata": {},
   "outputs": [],
   "source": []
  }
 ],
 "metadata": {
  "kernelspec": {
   "display_name": "Python 3",
   "language": "python",
   "name": "python3"
  },
  "language_info": {
   "codemirror_mode": {
    "name": "ipython",
    "version": 3
   },
   "file_extension": ".py",
   "mimetype": "text/x-python",
   "name": "python",
   "nbconvert_exporter": "python",
   "pygments_lexer": "ipython3",
   "version": "3.7.4"
  }
 },
 "nbformat": 4,
 "nbformat_minor": 2
}
