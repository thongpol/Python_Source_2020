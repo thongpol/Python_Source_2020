{
 "cells": [
  {
   "cell_type": "code",
   "execution_count": 1,
   "metadata": {},
   "outputs": [
    {
     "name": "stdout",
     "output_type": "stream",
     "text": [
      "Enter first score :39\n",
      "Enter second score :20\n",
      "Enter third score :45\n",
      " first score = 39,\n",
      " Second score = 20,\n",
      " Third scord 45, \n",
      " Total Score = 104,\n",
      " Grade = A\n"
     ]
    }
   ],
   "source": [
    "f = int(input(\"Enter first score :\"))\n",
    "s = int(input(\"Enter second score :\"))\n",
    "t = int(input(\"Enter third score :\"))\n",
    "total = f + s + t\n",
    "if total < 49:\n",
    "    Grade = \"F\"\n",
    "elif total < 59:\n",
    "    Grade = \"D\"\n",
    "elif total < 69:\n",
    "    Grade = \"C\"\n",
    "elif total < 79:\n",
    "    Grade = \"B\"\n",
    "else:\n",
    "    Grade = \"A\"\n",
    "print(f\" first score = {f},\\n\\\n",
    " Second score = {s},\\n\\\n",
    " Third scord {t}, \\n\\\n",
    " Total Score = {total},\\n\\\n",
    " Grade = {Grade}\") "
   ]
  },
  {
   "cell_type": "code",
   "execution_count": null,
   "metadata": {},
   "outputs": [],
   "source": []
  }
 ],
 "metadata": {
  "kernelspec": {
   "display_name": "Python 3",
   "language": "python",
   "name": "python3"
  },
  "language_info": {
   "codemirror_mode": {
    "name": "ipython",
    "version": 3
   },
   "file_extension": ".py",
   "mimetype": "text/x-python",
   "name": "python",
   "nbconvert_exporter": "python",
   "pygments_lexer": "ipython3",
   "version": "3.7.4"
  }
 },
 "nbformat": 4,
 "nbformat_minor": 2
}
