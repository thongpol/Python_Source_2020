{
 "cells": [
  {
   "cell_type": "code",
   "execution_count": 1,
   "metadata": {},
   "outputs": [
    {
     "name": "stdout",
     "output_type": "stream",
     "text": [
      "Python Python Python \n",
      "Python Python Python \n",
      "***\n"
     ]
    }
   ],
   "source": [
    "str1 = \"Python \"; star = \"*\" # สร้างตัวแปร str1 และ str2 เป็นชนิดข้อมูลสตริง\n",
    "print (str1 *3) # แสดงผลลัพธ์ตัวแปร str1 จำนวน 3 ครั้ง\n",
    "print (3 * str1) # แสดงผลลัพธ์ตัวแปร str1 จำนวน 3 ครั้ง\n",
    "print (3 * star) # แสดงผลลัพธ์ตัวแปร star จำนวน 10 ครั้ง"
   ]
  },
  {
   "cell_type": "code",
   "execution_count": null,
   "metadata": {},
   "outputs": [],
   "source": []
  }
 ],
 "metadata": {
  "kernelspec": {
   "display_name": "Python 3",
   "language": "python",
   "name": "python3"
  },
  "language_info": {
   "codemirror_mode": {
    "name": "ipython",
    "version": 3
   },
   "file_extension": ".py",
   "mimetype": "text/x-python",
   "name": "python",
   "nbconvert_exporter": "python",
   "pygments_lexer": "ipython3",
   "version": "3.7.4"
  }
 },
 "nbformat": 4,
 "nbformat_minor": 2
}
