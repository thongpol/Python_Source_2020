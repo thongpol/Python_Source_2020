{
 "cells": [
  {
   "cell_type": "code",
   "execution_count": 1,
   "metadata": {},
   "outputs": [
    {
     "name": "stdout",
     "output_type": "stream",
     "text": [
      "+987.485000; -225.154000\n",
      "987.485; -225.154\n",
      " 987.485; -225.154\n"
     ]
    }
   ],
   "source": [
    "x = 987.485; y = -225.154\n",
    "print(\"{:+f}; {:+f}\".format(x, y))  \n",
    "        # กำหนดให้มีเครื่องหมาย + นำอยู่ด้านหน้า\n",
    "print(\"{:-.3f}; {:-.3f}\".format(x, y)) \n",
    "        # กำหนดให้มีจำนวนทศนิยม 3 ตำแหน่ง และเครื่องหมาย - อยู่ด้านหน้า\n",
    "print(\"{: .3f}; {: .3f}\".format(x, y)) \n",
    "        # กำหนดให้มีจำนวนทศนิยม 3 ตำแหน่ง และให้มีช่องว่างด้านหน้า"
   ]
  },
  {
   "cell_type": "code",
   "execution_count": null,
   "metadata": {},
   "outputs": [],
   "source": []
  }
 ],
 "metadata": {
  "kernelspec": {
   "display_name": "Python 3",
   "language": "python",
   "name": "python3"
  },
  "language_info": {
   "codemirror_mode": {
    "name": "ipython",
    "version": 3
   },
   "file_extension": ".py",
   "mimetype": "text/x-python",
   "name": "python",
   "nbconvert_exporter": "python",
   "pygments_lexer": "ipython3",
   "version": "3.7.4"
  }
 },
 "nbformat": 4,
 "nbformat_minor": 2
}
