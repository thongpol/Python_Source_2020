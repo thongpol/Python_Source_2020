{
 "cells": [
  {
   "cell_type": "code",
   "execution_count": 2,
   "metadata": {},
   "outputs": [
    {
     "name": "stdout",
     "output_type": "stream",
     "text": [
      "มี i อยู่ใน str1 หรือไม่ = True\n",
      "มี A อยู่ใน str1 หรือไม่ = False\n",
      "มี พ อยู่ใน str1 หรือไม่ = False\n",
      "มี \"สตริง\" อยู่ใน str2 หรือไม่ = True\n"
     ]
    }
   ],
   "source": [
    "str1 = \"Python Programming\"\n",
    "str2 = \"อักขระหรือสตริง\"\n",
    "print(\"มี i อยู่ใน str1 หรือไม่ =\", \"i\" in str1)\n",
    "      # ตรวจสอบตัวอักขระ i ในค่าตัวแปร str1\n",
    "print(\"มี A อยู่ใน str1 หรือไม่ =\", \"A\" in str1)   \n",
    "      # ตรวจสอบตัวอักขระ A ในค่าตัวแปร str1\n",
    "print(\"มี พ อยู่ใน str1 หรือไม่ =\", \"พ\" in str2)   \n",
    "      # ตรวจสอบตัวอักขระ พ ในค่าตัวแปร str2\n",
    "print(\"มี \" + '\"สตริง\"' + \" อยู่ใน str2 หรือไม่ =\", \"สตริง\" in str2)  \n",
    "      # ตรวจสอบ “สตริง” ในค่าตัวแปร str2"
   ]
  },
  {
   "cell_type": "code",
   "execution_count": null,
   "metadata": {},
   "outputs": [],
   "source": []
  }
 ],
 "metadata": {
  "kernelspec": {
   "display_name": "Python 3",
   "language": "python",
   "name": "python3"
  },
  "language_info": {
   "codemirror_mode": {
    "name": "ipython",
    "version": 3
   },
   "file_extension": ".py",
   "mimetype": "text/x-python",
   "name": "python",
   "nbconvert_exporter": "python",
   "pygments_lexer": "ipython3",
   "version": "3.7.4"
  }
 },
 "nbformat": 4,
 "nbformat_minor": 2
}
