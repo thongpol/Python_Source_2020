{
 "cells": [
  {
   "cell_type": "code",
   "execution_count": 1,
   "metadata": {},
   "outputs": [
    {
     "name": "stdout",
     "output_type": "stream",
     "text": [
      "จำนวนตัวอักขระทั้งหมด คือ 40\n",
      "ตำแหน่งที่ 0 คือ P\n",
      "ตำแหน่งที่ -5 คือ u\n",
      "ตำแหน่งที่ 5 คือ n\n",
      "ตำแหน่งที่ -15 คือ m\n"
     ]
    }
   ],
   "source": [
    "str1 = \"Python is the best programming language.\"# สร้างตัวแปรชนิดข้อมูลสตริง\n",
    "print (\"จำนวนตัวอักขระทั้งหมด คือ\", len(str1)) # แสดงจำนวนอักขระจากค่าตัวแปร str1\n",
    "print (\"ตำแหน่งที่ 0 คือ\", str1[0]) # แสดงตัวอักขระในตำแหน่งที่ 0 \n",
    "print (\"ตำแหน่งที่ -5 คือ\", str1[-5]) # แสดงตัวอักขระในตำแหน่งที่ -5\n",
    "print (\"ตำแหน่งที่ 5 คือ\", str1[5]) # แสดงตัวอักขระในตำแหน่งที่ 5\n",
    "print (\"ตำแหน่งที่ -15 คือ\", str1[-15]) # แสดงตัวอักขระในตำแหน่งที่ -15"
   ]
  },
  {
   "cell_type": "code",
   "execution_count": null,
   "metadata": {},
   "outputs": [],
   "source": []
  }
 ],
 "metadata": {
  "kernelspec": {
   "display_name": "Python 3",
   "language": "python",
   "name": "python3"
  },
  "language_info": {
   "codemirror_mode": {
    "name": "ipython",
    "version": 3
   },
   "file_extension": ".py",
   "mimetype": "text/x-python",
   "name": "python",
   "nbconvert_exporter": "python",
   "pygments_lexer": "ipython3",
   "version": "3.7.4"
  }
 },
 "nbformat": 4,
 "nbformat_minor": 2
}
