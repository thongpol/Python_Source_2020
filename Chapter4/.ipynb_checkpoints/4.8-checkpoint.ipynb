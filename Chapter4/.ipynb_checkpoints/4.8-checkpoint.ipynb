{
 "cells": [
  {
   "cell_type": "code",
   "execution_count": 1,
   "metadata": {},
   "outputs": [
    {
     "name": "stdout",
     "output_type": "stream",
     "text": [
      "ผลลัพธ์ที่ได้จากการตัดคำ 0:4 = Pyth\n",
      "ผลลัพธ์ที่ได้จากการตัดคำ -6:-1 = guage\n",
      "ผลลัพธ์ที่ได้จากการตัดคำ 6:12 =  is th\n",
      "ผลลัพธ์ที่ได้จากการตัดคำ 0:5 = Pytho\n",
      "ผลลัพธ์ที่ได้จากการตัดคำ = Python is the best programming language.\n"
     ]
    }
   ],
   "source": [
    "str1 = \"Python is the best programming language.\" # สร้างตัวแปรชนิดข้อมูลสตริง\n",
    "print (\"ผลลัพธ์ที่ได้จากการตัดคำ 0:4 =\", str1[0:4]) # แสดง str1 ตัวที่ 0 ถึง 4\n",
    "print (\"ผลลัพธ์ที่ได้จากการตัดคำ -6:-1 =\", str1[-6:-1]) # แสดง str1 ตัวที่ -6 ถึง-1\n",
    "print (\"ผลลัพธ์ที่ได้จากการตัดคำ 6:12 =\", str1[6:12]) # แสดง str1 ตัวที่ 6 ถึง 12\n",
    "print (\"ผลลัพธ์ที่ได้จากการตัดคำ 0:5 =\", str1[:5]) # แสดง str1 ตัวที่ 0 ถึง 5\n",
    "print (\"ผลลัพธ์ที่ได้จากการตัดคำ =\", str1[:]) # แสดงอักขระ str1 ทั้งหมด"
   ]
  },
  {
   "cell_type": "code",
   "execution_count": null,
   "metadata": {},
   "outputs": [],
   "source": []
  }
 ],
 "metadata": {
  "kernelspec": {
   "display_name": "Python 3",
   "language": "python",
   "name": "python3"
  },
  "language_info": {
   "codemirror_mode": {
    "name": "ipython",
    "version": 3
   },
   "file_extension": ".py",
   "mimetype": "text/x-python",
   "name": "python",
   "nbconvert_exporter": "python",
   "pygments_lexer": "ipython3",
   "version": "3.7.4"
  }
 },
 "nbformat": 4,
 "nbformat_minor": 2
}
