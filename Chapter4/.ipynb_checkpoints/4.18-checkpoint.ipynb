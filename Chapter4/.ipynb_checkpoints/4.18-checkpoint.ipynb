{
 "cells": [
  {
   "cell_type": "code",
   "execution_count": 1,
   "metadata": {},
   "outputs": [
    {
     "name": "stdout",
     "output_type": "stream",
     "text": [
      "สมใจ เรียนวิชา Database System ได้คะแนน\n",
      "ทดสอบครั้งที่ 1 = 30\n",
      "ทดสอบครั้งที่ 2 = 25.50\n",
      "ทดสอบครั้งที่ 3 = 25.50\n",
      "ได้เกรด = A\n"
     ]
    }
   ],
   "source": [
    "print(\"สมใจ เรียนวิชา {s} ได้คะแนน\\n\\\n",
    "ทดสอบครั้งที่ 1 = {T1}\\n\\\n",
    "ทดสอบครั้งที่ 2 = {T2:.2f}\\n\\\n",
    "ทดสอบครั้งที่ 3 = {T3:.2f}\\n\\\n",
    "ได้เกรด = {G}\" \\\n",
    ".format(s=\"Database System\", T1 = 30, T2 = 25.50, T3 = 25.50, G = \"A\"))"
   ]
  },
  {
   "cell_type": "code",
   "execution_count": null,
   "metadata": {},
   "outputs": [],
   "source": []
  }
 ],
 "metadata": {
  "kernelspec": {
   "display_name": "Python 3",
   "language": "python",
   "name": "python3"
  },
  "language_info": {
   "codemirror_mode": {
    "name": "ipython",
    "version": 3
   },
   "file_extension": ".py",
   "mimetype": "text/x-python",
   "name": "python",
   "nbconvert_exporter": "python",
   "pygments_lexer": "ipython3",
   "version": "3.7.4"
  }
 },
 "nbformat": 4,
 "nbformat_minor": 2
}
