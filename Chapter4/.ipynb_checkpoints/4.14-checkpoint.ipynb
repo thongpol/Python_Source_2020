{
 "cells": [
  {
   "cell_type": "code",
   "execution_count": 1,
   "metadata": {},
   "outputs": [
    {
     "name": "stdout",
     "output_type": "stream",
     "text": [
      "จัดรูปแบบแสดงผลข้อความ =     Python\n",
      "จัดรูปแบบแสดงผลเป็นเลขทศนิยม = 4945.000\n",
      "จัดรูปแบบแสดงผลเป็นเลขฐานแปด = 55\n",
      "จัดรูปแบบแสดงผลเป็นเลขฐานสิบหก= 5AD\n"
     ]
    }
   ],
   "source": [
    "n = 4945; o = 45; x = 1453; s = \"Python\"\n",
    "    # ประกาศตัวแปร n, o, x เป็นชนิดข้อมูลจำนวนเต็ม และ s เป็นชนิดข้อมูลสตริง \n",
    "print(\"จัดรูปแบบแสดงผลข้อความ =\",\"%10s\" % s) \n",
    "    # ให้เยื้องค่าตัวแปร s ไปทางขวารวม 10 ตัวอักขระ\n",
    "print(\"จัดรูปแบบแสดงผลเป็นเลขทศนิยม =\",\"%.3f\" % n)\n",
    "    # กำหนดให้แสดงผลทศนิยม 3 ตำแหน่ง\n",
    "print(\"จัดรูปแบบแสดงผลเป็นเลขฐานแปด =\",\"%o\" % o)\n",
    "    # กำหนดให้แสดงผลเป็นเลขฐาน 8\n",
    "print(\"จัดรูปแบบแสดงผลเป็นเลขฐานสิบหก=\",\"%X\" % x) \n",
    "    # กำหนดให้แสดงผลเป็นเลขฐาน 16"
   ]
  },
  {
   "cell_type": "code",
   "execution_count": null,
   "metadata": {},
   "outputs": [],
   "source": []
  }
 ],
 "metadata": {
  "kernelspec": {
   "display_name": "Python 3",
   "language": "python",
   "name": "python3"
  },
  "language_info": {
   "codemirror_mode": {
    "name": "ipython",
    "version": 3
   },
   "file_extension": ".py",
   "mimetype": "text/x-python",
   "name": "python",
   "nbconvert_exporter": "python",
   "pygments_lexer": "ipython3",
   "version": "3.7.4"
  }
 },
 "nbformat": 4,
 "nbformat_minor": 2
}
