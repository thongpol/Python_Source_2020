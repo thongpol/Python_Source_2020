{
 "cells": [
  {
   "cell_type": "code",
   "execution_count": 1,
   "metadata": {},
   "outputs": [
    {
     "name": "stdout",
     "output_type": "stream",
     "text": [
      "จำนวนอักขระใน str1 = 6\n",
      "จำนวนอักขระใน str2 = 7\n",
      "จำนวนอักขระใน str3 = 0\n",
      "จำนวนอักขระใน str4 = 1\n",
      "จำนวนอักขระใน str5 = 15\n"
     ]
    }
   ],
   "source": [
    "str1 = \"Python\"; str2 = \"Python \"; \n",
    "str3 = \"\"; str4 = \" \" # สร้างตัวแปรชนิดข้อมูลสตริง\n",
    "str5 = \"อักขระหรือสตริง\"\n",
    "print (\"จำนวนอักขระใน str1 =\", len(str1)) # แสดงจำนวนอักขระจากค่าตัวแปร str1\n",
    "print (\"จำนวนอักขระใน str2 =\", len(str2)) # แสดงจำนวนอักขระจากค่าตัวแปร str2\n",
    "print (\"จำนวนอักขระใน str3 =\", len(str3)) # แสดงจำนวนอักขระจากค่าตัวแปร str3\n",
    "print (\"จำนวนอักขระใน str4 =\", len(str4)) # แสดงจำนวนอักขระจากค่าตัวแปร str4\n",
    "print (\"จำนวนอักขระใน str5 =\", len(str5)) # แสดงจำนวนอักขระจากค่าตัวแปร str5"
   ]
  },
  {
   "cell_type": "code",
   "execution_count": null,
   "metadata": {},
   "outputs": [],
   "source": []
  }
 ],
 "metadata": {
  "kernelspec": {
   "display_name": "Python 3",
   "language": "python",
   "name": "python3"
  },
  "language_info": {
   "codemirror_mode": {
    "name": "ipython",
    "version": 3
   },
   "file_extension": ".py",
   "mimetype": "text/x-python",
   "name": "python",
   "nbconvert_exporter": "python",
   "pygments_lexer": "ipython3",
   "version": "3.7.4"
  }
 },
 "nbformat": 4,
 "nbformat_minor": 2
}
