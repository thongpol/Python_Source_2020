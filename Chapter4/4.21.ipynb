{
 "cells": [
  {
   "cell_type": "code",
   "execution_count": 1,
   "metadata": {},
   "outputs": [
    {
     "name": "stdout",
     "output_type": "stream",
     "text": [
      "เปลี่ยนตัวอักษรแรกให้เป็นตัวพิมพ์ใหญ่ = Python is the best programming language.\n",
      "เปลี่ยนตัวอักษรให้เป็นพิมพ์เล็กทั้งหมด = python is the best programming language.\n",
      "เปลี่ยนตัวอักษรแรกของคำให้เป็นตัวพิมพ์ใหญ่ = Python Is The Best Programming Language.\n",
      "เปลี่ยนตัวอักษรให้เป็นตัวพิมพ์ใหญ่ทั้งหมด = PYTHON IS THE BEST PROGRAMMING LANGUAGE.\n",
      "สลับตัวอักษรตัวพิมพ์เล็กและใหญ่ในประโยค = PYTHON IS THE BEST pROGRAMMING lANGUAGE.\n"
     ]
    }
   ],
   "source": [
    "str = \"python is the best Programming Language.\"\n",
    "print(\"เปลี่ยนตัวอักษรแรกให้เป็นตัวพิมพ์ใหญ่ =\", str.capitalize()) \n",
    "print(\"เปลี่ยนตัวอักษรให้เป็นพิมพ์เล็กทั้งหมด =\", str.lower())   \n",
    "print(\"เปลี่ยนตัวอักษรแรกของคำให้เป็นตัวพิมพ์ใหญ่ =\", str.title())\n",
    "print(\"เปลี่ยนตัวอักษรให้เป็นตัวพิมพ์ใหญ่ทั้งหมด =\", str.upper())\n",
    "print(\"สลับตัวอักษรตัวพิมพ์เล็กและใหญ่ในประโยค =\", str.swapcase())"
   ]
  },
  {
   "cell_type": "code",
   "execution_count": null,
   "metadata": {},
   "outputs": [],
   "source": []
  }
 ],
 "metadata": {
  "kernelspec": {
   "display_name": "Python 3",
   "language": "python",
   "name": "python3"
  },
  "language_info": {
   "codemirror_mode": {
    "name": "ipython",
    "version": 3
   },
   "file_extension": ".py",
   "mimetype": "text/x-python",
   "name": "python",
   "nbconvert_exporter": "python",
   "pygments_lexer": "ipython3",
   "version": "3.7.4"
  }
 },
 "nbformat": 4,
 "nbformat_minor": 2
}
