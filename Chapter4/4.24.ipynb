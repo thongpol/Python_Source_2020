{
 "cells": [
  {
   "cell_type": "code",
   "execution_count": 1,
   "metadata": {},
   "outputs": [
    {
     "name": "stdout",
     "output_type": "stream",
     "text": [
      "ประกอบด้วยตัวอักษรทั้งหมดหรือไม่ = True\n",
      "ประกอบด้วยตัวอักษรหรือตัวเลขทั้งหมดหรือไม่ = True\n",
      "แต่ละคำขึ้นต้นด้วยตัวอักษรพิมพ์ใหญ่ทั้งหมดหรือไม่= False\n"
     ]
    }
   ],
   "source": [
    "str1 = \"Programming\"; str2 = \"Python2019\"\n",
    "str3 = \"Python programming Language\"\n",
    "print(\"ประกอบด้วยตัวอักษรทั้งหมดหรือไม่ =\", str1.isalpha())\n",
    "print(\"ประกอบด้วยตัวอักษรหรือตัวเลขทั้งหมดหรือไม่ =\", str2.isalnum())\n",
    "print(\"แต่ละคำขึ้นต้นด้วยตัวอักษรพิมพ์ใหญ่ทั้งหมดหรือไม่=\", str3.istitle())"
   ]
  },
  {
   "cell_type": "code",
   "execution_count": null,
   "metadata": {},
   "outputs": [],
   "source": []
  }
 ],
 "metadata": {
  "kernelspec": {
   "display_name": "Python 3",
   "language": "python",
   "name": "python3"
  },
  "language_info": {
   "codemirror_mode": {
    "name": "ipython",
    "version": 3
   },
   "file_extension": ".py",
   "mimetype": "text/x-python",
   "name": "python",
   "nbconvert_exporter": "python",
   "pygments_lexer": "ipython3",
   "version": "3.7.4"
  }
 },
 "nbformat": 4,
 "nbformat_minor": 2
}
