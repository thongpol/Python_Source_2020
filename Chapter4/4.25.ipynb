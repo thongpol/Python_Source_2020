{
 "cells": [
  {
   "cell_type": "code",
   "execution_count": 1,
   "metadata": {},
   "outputs": [
    {
     "name": "stdout",
     "output_type": "stream",
     "text": [
      "คำสุดท้ายในประโยคคือ language. = True\n",
      "language. เริ่มจากตำแหน่งที่ = 31\n",
      "มีตัวอักษร e ทั้งหมด = 3\n"
     ]
    }
   ],
   "source": [
    "str1 = \"Python is the best programming language.\"\n",
    "print(\"คำสุดท้ายในประโยคคือ language. =\", str1.endswith(\"language.\"))\n",
    "print(\"language. เริ่มจากตำแหน่งที่ =\", str1.index(\"language.\"))\n",
    "print(\"มีตัวอักษร e ทั้งหมด =\", str1.count(\"e\"))"
   ]
  },
  {
   "cell_type": "code",
   "execution_count": null,
   "metadata": {},
   "outputs": [],
   "source": []
  },
  {
   "cell_type": "code",
   "execution_count": null,
   "metadata": {},
   "outputs": [],
   "source": []
  }
 ],
 "metadata": {
  "kernelspec": {
   "display_name": "Python 3",
   "language": "python",
   "name": "python3"
  },
  "language_info": {
   "codemirror_mode": {
    "name": "ipython",
    "version": 3
   },
   "file_extension": ".py",
   "mimetype": "text/x-python",
   "name": "python",
   "nbconvert_exporter": "python",
   "pygments_lexer": "ipython3",
   "version": "3.7.4"
  }
 },
 "nbformat": 4,
 "nbformat_minor": 2
}
