{
 "cells": [
  {
   "cell_type": "code",
   "execution_count": 2,
   "metadata": {},
   "outputs": [
    {
     "name": "stdout",
     "output_type": "stream",
     "text": [
      "245\n",
      "ชนิดข้อมูล num คือ <class 'int'>\n",
      "ชนิดข้อมูลของ str1 คือ <class 'str'>\n"
     ]
    }
   ],
   "source": [
    "num = 245 # ประกาศตัวแปรชนิดข้อมูลจำนวนเต็ม\n",
    "str1 = str(num) # แปลงค่าตัวแปร num เป็นชนิดข้อมูลสตริง\n",
    "print (str1) # แสดงผลค่าตัวแปร str1\n",
    "print (\"ชนิดข้อมูล num คือ\", type(num)) # แสดงประเภทข้อมูลค่าตัวแปร num\n",
    "print (\"ชนิดข้อมูลของ str1 คือ\", type(str1)) # แสดงประเภทข้อมูลค่าตัวแปร str1"
   ]
  },
  {
   "cell_type": "code",
   "execution_count": null,
   "metadata": {},
   "outputs": [],
   "source": []
  }
 ],
 "metadata": {
  "kernelspec": {
   "display_name": "Python 3",
   "language": "python",
   "name": "python3"
  },
  "language_info": {
   "codemirror_mode": {
    "name": "ipython",
    "version": 3
   },
   "file_extension": ".py",
   "mimetype": "text/x-python",
   "name": "python",
   "nbconvert_exporter": "python",
   "pygments_lexer": "ipython3",
   "version": "3.7.4"
  }
 },
 "nbformat": 4,
 "nbformat_minor": 2
}
