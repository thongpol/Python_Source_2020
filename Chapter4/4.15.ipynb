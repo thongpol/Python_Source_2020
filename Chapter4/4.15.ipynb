{
 "cells": [
  {
   "cell_type": "code",
   "execution_count": 1,
   "metadata": {},
   "outputs": [
    {
     "name": "stdout",
     "output_type": "stream",
     "text": [
      "จัดรูปแบบแสดงผลข้อความ = Python              \n",
      "จัดรูปแบบแสดงผลเป็นเลขทศนิยม = 4945.000\n",
      "จัดรูปแบบแสดงผลเป็นเลขฐานแปด = 55\n",
      "จัดรูปแบบแสดงผลเป็นเลขฐานสิบหก= 5AD\n",
      "แยกจำนวนตัวเลขด้วยเครื่องหมาย , = 45,609,823,465\n"
     ]
    }
   ],
   "source": [
    "n = 4945; o = 45; x = 1453; s = \"Python\"\n",
    "print(\"จัดรูปแบบแสดงผลข้อความ =\",\"{:20s}\".format(s))\n",
    "print(\"จัดรูปแบบแสดงผลเป็นเลขทศนิยม =\",\"{:.3f}\".format(n))\n",
    "print(\"จัดรูปแบบแสดงผลเป็นเลขฐานแปด =\",\"{:o}\".format(o))\n",
    "print(\"จัดรูปแบบแสดงผลเป็นเลขฐานสิบหก=\",\"{:X}\".format(x))\n",
    "print(\"แยกจำนวนตัวเลขด้วยเครื่องหมาย , = {:,}\".format(45609823465))"
   ]
  },
  {
   "cell_type": "code",
   "execution_count": null,
   "metadata": {},
   "outputs": [],
   "source": []
  }
 ],
 "metadata": {
  "kernelspec": {
   "display_name": "Python 3",
   "language": "python",
   "name": "python3"
  },
  "language_info": {
   "codemirror_mode": {
    "name": "ipython",
    "version": 3
   },
   "file_extension": ".py",
   "mimetype": "text/x-python",
   "name": "python",
   "nbconvert_exporter": "python",
   "pygments_lexer": "ipython3",
   "version": "3.7.4"
  }
 },
 "nbformat": 4,
 "nbformat_minor": 2
}
