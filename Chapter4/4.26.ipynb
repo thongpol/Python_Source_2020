{
 "cells": [
  {
   "cell_type": "code",
   "execution_count": 1,
   "metadata": {},
   "outputs": [
    {
     "name": "stdout",
     "output_type": "stream",
     "text": [
      "___Python Programming\n",
      "['___Python Progra', '', 'ing___']\n",
      "['Python', 'is', 'the', 'best', 'Programming.']\n"
     ]
    }
   ],
   "source": [
    "str_1 = \"___Python Programming___\"\n",
    "str_2 = \"Python is the best Programming.\"\n",
    "str_rst = str_1.rstrip(\"_\")\n",
    "str_rsp = str_1.rsplit(\"m\")\n",
    "str_sp = str_2.split(\" \")\n",
    "print(str_rst)\n",
    "print(str_rsp)\n",
    "print(str_sp)"
   ]
  },
  {
   "cell_type": "code",
   "execution_count": null,
   "metadata": {},
   "outputs": [],
   "source": []
  }
 ],
 "metadata": {
  "kernelspec": {
   "display_name": "Python 3",
   "language": "python",
   "name": "python3"
  },
  "language_info": {
   "codemirror_mode": {
    "name": "ipython",
    "version": 3
   },
   "file_extension": ".py",
   "mimetype": "text/x-python",
   "name": "python",
   "nbconvert_exporter": "python",
   "pygments_lexer": "ipython3",
   "version": "3.7.4"
  }
 },
 "nbformat": 4,
 "nbformat_minor": 2
}
