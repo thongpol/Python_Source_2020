{
 "cells": [
  {
   "cell_type": "code",
   "execution_count": 1,
   "metadata": {},
   "outputs": [
    {
     "name": "stdout",
     "output_type": "stream",
     "text": [
      "Python is programming language.\n",
      "Python is programming language.\n"
     ]
    }
   ],
   "source": [
    "str1 = \"Python\"; str2 = \"is programming\" \n",
    "str3 = \"language.\" # สร้างตัวแปรชนิดข้อมูลสตริง\n",
    "print(str1, str2, str3) # แสดงผลลัพธ์จากตัวแปร\n",
    "print(str1 + \" \" + str2 + \" \" + str3) # เชื่อมข้อมูลจากค่าตัวแปรเข้าด้วยกัน"
   ]
  },
  {
   "cell_type": "code",
   "execution_count": null,
   "metadata": {},
   "outputs": [],
   "source": []
  }
 ],
 "metadata": {
  "kernelspec": {
   "display_name": "Python 3",
   "language": "python",
   "name": "python3"
  },
  "language_info": {
   "codemirror_mode": {
    "name": "ipython",
    "version": 3
   },
   "file_extension": ".py",
   "mimetype": "text/x-python",
   "name": "python",
   "nbconvert_exporter": "python",
   "pygments_lexer": "ipython3",
   "version": "3.7.4"
  }
 },
 "nbformat": 4,
 "nbformat_minor": 2
}
