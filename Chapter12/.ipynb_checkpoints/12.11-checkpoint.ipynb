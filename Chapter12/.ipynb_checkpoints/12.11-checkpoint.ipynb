{
 "cells": [
  {
   "cell_type": "code",
   "execution_count": 8,
   "metadata": {},
   "outputs": [],
   "source": [
    "import tkinter as tk\r\n",
    "\r\n",
    "mainfrm = tk.Tk()\r\n",
    "tk.Frame(height=150, width=290).pack()\r\n",
    "\r\n",
    "tk.Button(mainfrm, height=30, width=30, \r\n",
    "          bitmap=\"error\").place(x=50, y=60)\r\n",
    "tk.Button(mainfrm, height=30, width=30, \r\n",
    "          bitmap=\"hourglass\").place(x=90, y=60)\r\n",
    "tk.Button(mainfrm, height=30, width=30, \r\n",
    "          bitmap=\"info\").place(x=130, y=60)\r\n",
    "tk.Button(mainfrm, height=30, width=30, \r\n",
    "          bitmap=\"question\").place(x=170, y=60)\r\n",
    "tk.Button(mainfrm, height=30, width=30, \r\n",
    "          bitmap=\"warning\").place(x=210, y=60)\r\n",
    "\r\n",
    "mainfrm.mainloop()"
   ]
  },
  {
   "cell_type": "code",
   "execution_count": 7,
   "metadata": {},
   "outputs": [],
   "source": [
    "import tkinter as tk\r\n",
    "\r\n",
    "mainfrm = tk.Tk()\r\n",
    "tk.Frame(height=150, width=290).pack()\r\n",
    "\r\n",
    "\r\n",
    "\r\n",
    "\r\n",
    "tk.Button(mainfrm, height=30, width=30, \r\n",
    "        bitmap=\"error\").place(x=50, y=60)\r\n",
    "\r\n",
    "mainfrm.mainloop()\r\n"
   ]
  },
  {
   "cell_type": "markdown",
   "metadata": {},
   "source": [
    "mainfrm"
   ]
  }
 ],
 "metadata": {
  "interpreter": {
   "hash": "3ec5d6bc1855250880c2315ce11288f30bfdeef8eaf8bdb8bafcf52bc5dc58e8"
  },
  "kernelspec": {
   "display_name": "Python 3.9.1 64-bit ('base': conda)",
   "name": "python3"
  },
  "language_info": {
   "codemirror_mode": {
    "name": "ipython",
    "version": 3
   },
   "file_extension": ".py",
   "mimetype": "text/x-python",
   "name": "python",
   "nbconvert_exporter": "python",
   "pygments_lexer": "ipython3",
   "version": "3.9.5"
  }
 },
 "nbformat": 4,
 "nbformat_minor": 2
}