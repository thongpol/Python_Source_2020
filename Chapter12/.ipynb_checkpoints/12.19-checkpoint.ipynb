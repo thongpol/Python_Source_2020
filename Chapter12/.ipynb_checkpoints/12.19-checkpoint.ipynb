{
 "cells": [
  {
   "cell_type": "code",
   "execution_count": 1,
   "metadata": {},
   "outputs": [],
   "source": [
    "from tkinter import *\n",
    "from tkinter import ttk, colorchooser\n",
    "mainfrm = Tk()\n",
    "\n",
    "cmb = ttk.Combobox(mainfrm, value=(\"Python\",\"Java\",\n",
    "                                   \"R\", \"Scala\"), width=20)\n",
    "cmb.current(0)\n",
    "cmb.pack(padx=20, pady=20)\n",
    "\n",
    "mainfrm.mainloop()"
   ]
  },
  {
   "cell_type": "markdown",
   "metadata": {},
   "source": []
  }
 ],
 "metadata": {
  "interpreter": {
   "hash": "3ec5d6bc1855250880c2315ce11288f30bfdeef8eaf8bdb8bafcf52bc5dc58e8"
  },
  "kernelspec": {
   "display_name": "Python 3.9.1 64-bit ('base': conda)",
   "name": "python3"
  },
  "language_info": {
   "codemirror_mode": {
    "name": "ipython",
    "version": 3
   },
   "file_extension": ".py",
   "mimetype": "text/x-python",
   "name": "python",
   "nbconvert_exporter": "python",
   "pygments_lexer": "ipython3",
   "version": "3.9.5"
  }
 },
 "nbformat": 4,
 "nbformat_minor": 2
}