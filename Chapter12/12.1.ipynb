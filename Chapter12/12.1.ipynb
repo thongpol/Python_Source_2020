{
 "cells": [
  {
   "cell_type": "code",
   "execution_count": null,
   "metadata": {},
   "outputs": [
    {
     "ename": "Error",
     "evalue": "Session cannot generate requests",
     "output_type": "error",
     "traceback": [
      "Error: Session cannot generate requests",
      "at w.executeCodeCell (c:\\Users\\vision world\\.vscode-insiders\\extensions\\ms-toolsai.jupyter-2021.6.892431424\\out\\client\\extension.js:90:327071)",
      "at w.execute (c:\\Users\\vision world\\.vscode-insiders\\extensions\\ms-toolsai.jupyter-2021.6.892431424\\out\\client\\extension.js:90:326460)",
      "at w.start (c:\\Users\\vision world\\.vscode-insiders\\extensions\\ms-toolsai.jupyter-2021.6.892431424\\out\\client\\extension.js:90:322291)",
      "at runMicrotasks (<anonymous>)",
      "at processTicksAndRejections (internal/process/task_queues.js:93:5)",
      "at async t.CellExecutionQueue.executeQueuedCells (c:\\Users\\vision world\\.vscode-insiders\\extensions\\ms-toolsai.jupyter-2021.6.892431424\\out\\client\\extension.js:90:336724)",
      "at async t.CellExecutionQueue.start (c:\\Users\\vision world\\.vscode-insiders\\extensions\\ms-toolsai.jupyter-2021.6.892431424\\out\\client\\extension.js:90:336264)"
     ]
    }
   ],
   "source": [
    "from tkinter import * # โหลดโมดูล tkinter เข้ามายังโปรแกรมทุกคลาส\n",
    "mainFrm = Tk() # สร้างออบเจ็ค mainfrm\n",
    "mainFrm.title(\"การเขียนโปรแกรม GUI ด้วยภาษาไพธอน\") # แสดงข้อความที่ title bar\n",
    "mainFrm.mainloop() # คำสั่งแสดงผลหน้า GUI"
   ]
  },
  {
   "cell_type": "code",
   "execution_count": null,
   "metadata": {},
   "outputs": [],
   "source": []
  }
 ],
 "metadata": {
  "interpreter": {
   "hash": "63fd5069d213b44bf678585dea6b12cceca9941eaf7f819626cde1f2670de90d"
  },
  "kernelspec": {
   "display_name": "Python 3.9.5 64-bit",
   "name": "python3"
  },
  "language_info": {
   "codemirror_mode": {
    "name": "ipython",
    "version": 3
   },
   "file_extension": ".py",
   "mimetype": "text/x-python",
   "name": "python",
   "nbconvert_exporter": "python",
   "pygments_lexer": "ipython3",
   "version": "3.9.5"
  }
 },
 "nbformat": 4,
 "nbformat_minor": 2
}